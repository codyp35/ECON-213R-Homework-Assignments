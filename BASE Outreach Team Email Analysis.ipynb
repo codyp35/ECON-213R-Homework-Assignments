{
 "cells": [
  {
   "cell_type": "markdown",
   "metadata": {},
   "source": [
    "# Email Analysis for BASE Outreach Team\n"
   ]
  },
  {
   "cell_type": "markdown",
   "metadata": {},
   "source": [
    "## Introduction"
   ]
  },
  {
   "cell_type": "markdown",
   "metadata": {},
   "source": [
    "This project will look at data from BASE Search Marketing's Outreach team. All of the data was collected by myself, Cody Pulsipher. Much of it was collected in such a way that there is no need to clean or impute the data much. There also is not much of a need for feature engineering. Most of that work has been done before the data is read into this program. "
   ]
  },
  {
   "cell_type": "markdown",
   "metadata": {},
   "source": [
    "## BASE and Outreach "
   ]
  },
  {
   "cell_type": "markdown",
   "metadata": {},
   "source": [
    "BASE is a digital marketing agency that specializes in link building. It is still a young company and is quickly growing. With the current growth, it currently stands in great need of expanding its partnership database in order to bring on new clients and handle more orders. \n",
    "\n",
    "The partnerships that BASE works with are acquired by the Outreach team. A partnership is simply a website that we have established a long-term relationship where we submit blog articles to them and they publish those articles on their site. \n",
    "\n",
    "Outreach has been going on since this company began, but only until recently (August 2018) has it becomes its own team. Since the inception of the team, we have been working hard to develop the most effective methods for acquiring partnerships. A huge part of the work that Outreach does is cold contacting email addresses associated with a website (be it a content editor, website owner, etc.) and trying to become regular contributors for their website's content pages. \n",
    "\n",
    "This project is designed to look at a variety of variables associated with these efforts in order to answer some the important questions listed below."
   ]
  },
  {
   "cell_type": "markdown",
   "metadata": {},
   "source": [
    "## Questions"
   ]
  },
  {
   "cell_type": "markdown",
   "metadata": {},
   "source": [
    "- What can we learn from our data to improve our work moving forward?\n",
    "- Would we be better off changing our Outreach tactics to more of a mass emailing campaign?\n",
    "- What is working and what isn't?\n",
    "\n",
    "- Can we develop an algorithm that will predict our new partnerships numbers for a given month? \n",
    "- Can we use the results of this project to implement a more robust data analysis program at BASE?"
   ]
  },
  {
   "cell_type": "markdown",
   "metadata": {},
   "source": [
    "## Goal"
   ]
  },
  {
   "cell_type": "markdown",
   "metadata": {},
   "source": [
    "My goal for this project is two-fold:\n",
    "- 1. Develop an algorithm that will accurately predict the number of partners we could expect to gain from a given month's worth of emails. \n",
    "- 2. Study and explore the model to learn how our variables relate to our target (response rate and partnership conversion) so we can improve our Outreaching methods. "
   ]
  },
  {
   "cell_type": "markdown",
   "metadata": {},
   "source": [
    "## Process"
   ]
  },
  {
   "cell_type": "markdown",
   "metadata": {},
   "source": [
    "This project will be very much 'learn as you go', but my plan is to first analyze the data associated with our current partners. I will use what I learn from that data to help me understand which data I should mine from our Outreach database. It is time consuming to collect data at this stage because we have not been tracking important variables until now. \n",
    "\n",
    "I will need to use our current CRM to collect as much data as possible. The variables I choose to analyze at the end will end up being the most relevant and available variables that I feel will provide the answers to the questions we are trying to answer. "
   ]
  },
  {
   "cell_type": "markdown",
   "metadata": {},
   "source": [
    "## Table of Contents"
   ]
  },
  {
   "cell_type": "markdown",
   "metadata": {},
   "source": [
    "- [Learning from Current Partnership Data](#1)\n",
    "    - [Exploring the Data](#2)\n",
    "    - [Important Observations](#3)\n",
    "    - [Moving Foward](#4)\n",
    "- [Outreach Data Aug 2018 - Feb 2019](#5)\n",
    "    - [Import the Data](#6)\n",
    "    - [Description of Variables](#7)\n",
    "    - [Verifying that the Data is Clean](#8)\n",
    "- [Exploring Models](#11)\n",
    "    - [Addressing the Inbalance](#12)\n",
    "    - [Testing on Past Data](#13)\n",
    "- [Predicting March Partner Acquisition](#14)\n",
    "    - [Setting Up the New Data](#15)\n",
    "    - [Testing and Tuning Without Oversampling](#16)\n",
    "    - [Oversampling and Weighting](#17)\n",
    "    - [Predicting for March](#18)\n",
    "    - [Re-adjusting Data and Re-evaluating the Model](#19)\n",
    "    - [The Final Model... For Now](#21)\n",
    "- [Conclusions](#20)"
   ]
  },
  {
   "cell_type": "code",
   "execution_count": 1,
   "metadata": {},
   "outputs": [],
   "source": [
    "#Importing packages \n",
    "import pandas as pd\n",
    "import numpy as np\n",
    "import seaborn as sns\n",
    "import matplotlib.pyplot as plt\n",
    "import scipy.stats\n",
    "from scipy.stats import norm, skew \n",
    "from scipy.stats import uniform as sp_rand\n",
    "import time\n",
    "\n",
    "#Silencing deprication warnings\n",
    "import warnings\n",
    "warnings.filterwarnings(\"ignore\")\n",
    "\n",
    "#Import libraries for modeling and validation\n",
    "from sklearn.ensemble import RandomForestClassifier\n",
    "from sklearn.neighbors import KNeighborsClassifier\n",
    "from lightgbm import LGBMClassifier\n",
    "from sklearn.svm import SVC\n",
    "from sklearn.naive_bayes import GaussianNB\n",
    "from sklearn.model_selection import cross_val_score, train_test_split, RandomizedSearchCV\n",
    "from sklearn.metrics import f1_score, roc_curve, auc, classification_report, recall_score, confusion_matrix\n",
    "from imblearn.over_sampling import SMOTE, RandomOverSampler"
   ]
  },
  {
   "cell_type": "markdown",
   "metadata": {},
   "source": [
    "<a name=\"1\"></a>"
   ]
  },
  {
   "cell_type": "markdown",
   "metadata": {},
   "source": [
    "# Learning from Current Partnership Data "
   ]
  },
  {
   "cell_type": "markdown",
   "metadata": {},
   "source": [
    "I really want to explore as much data as possible that relate to our current partnerships. As I explore this data, I hope to see which variables are most important. As I mentioned earlier, collecting data from our CRM is very costly at this point, so I will need to be careful how I proceed in order to create a model that provides the most useful information to help us improve the team. \n",
    "\n",
    "I am the most experienced Outreacher at the company right now. I am choosing which variables to analyze based off of my own experience and inference, but also limited to what I am able to collect. This section will be exploring what I have collected and analyzing how I need to change the data in order to create my model for the project. "
   ]
  },
  {
   "cell_type": "markdown",
   "metadata": {},
   "source": [
    "<a name=\"2\"></a>"
   ]
  },
  {
   "cell_type": "markdown",
   "metadata": {},
   "source": [
    "## Exploring the Data "
   ]
  },
  {
   "cell_type": "code",
   "execution_count": 2,
   "metadata": {},
   "outputs": [],
   "source": [
    "#importing data collected from our current email partnerships\n",
    "BASE_Current_Partners = pd.read_excel(\n",
    "    \"file:///Users/codypulsipher/Documents/Pythondocs/BASE_CurrentPartnersData.xlsx\")"
   ]
  },
  {
   "cell_type": "code",
   "execution_count": 3,
   "metadata": {
    "scrolled": false
   },
   "outputs": [
    {
     "data": {
      "text/html": [
       "<div>\n",
       "<style scoped>\n",
       "    .dataframe tbody tr th:only-of-type {\n",
       "        vertical-align: middle;\n",
       "    }\n",
       "\n",
       "    .dataframe tbody tr th {\n",
       "        vertical-align: top;\n",
       "    }\n",
       "\n",
       "    .dataframe thead th {\n",
       "        text-align: right;\n",
       "    }\n",
       "</style>\n",
       "<table border=\"1\" class=\"dataframe\">\n",
       "  <thead>\n",
       "    <tr style=\"text-align: right;\">\n",
       "      <th></th>\n",
       "      <th>Name</th>\n",
       "      <th>Pen Name</th>\n",
       "      <th>DA</th>\n",
       "      <th>Publish Time</th>\n",
       "      <th>Category</th>\n",
       "      <th>Word Count</th>\n",
       "      <th>Type</th>\n",
       "      <th>Gender</th>\n",
       "      <th>name_race</th>\n",
       "      <th>pic_race</th>\n",
       "      <th>...</th>\n",
       "      <th>Time_Sent</th>\n",
       "      <th>Day_Sent</th>\n",
       "      <th>Day_Month</th>\n",
       "      <th>Followup</th>\n",
       "      <th>Time_Followup</th>\n",
       "      <th>Day_Followup</th>\n",
       "      <th>Day_Month_Followup</th>\n",
       "      <th>Attempt_Number_Response</th>\n",
       "      <th>Negotiation</th>\n",
       "      <th>Partner</th>\n",
       "    </tr>\n",
       "  </thead>\n",
       "  <tbody>\n",
       "    <tr>\n",
       "      <th>0</th>\n",
       "      <td>badyogi.com</td>\n",
       "      <td>Paisley Hansen</td>\n",
       "      <td>43</td>\n",
       "      <td>Longer than a Week</td>\n",
       "      <td>Fitness</td>\n",
       "      <td>650</td>\n",
       "      <td>Email</td>\n",
       "      <td>Female</td>\n",
       "      <td>White</td>\n",
       "      <td>White</td>\n",
       "      <td>...</td>\n",
       "      <td>20:04:00</td>\n",
       "      <td>Wednesday</td>\n",
       "      <td>13.0</td>\n",
       "      <td>0.0</td>\n",
       "      <td>NaN</td>\n",
       "      <td>NaN</td>\n",
       "      <td>NaN</td>\n",
       "      <td>1.0</td>\n",
       "      <td>NaN</td>\n",
       "      <td>yes</td>\n",
       "    </tr>\n",
       "    <tr>\n",
       "      <th>1</th>\n",
       "      <td>buckscountyalive.com</td>\n",
       "      <td>Paisley Hansen</td>\n",
       "      <td>31</td>\n",
       "      <td>Within a week</td>\n",
       "      <td>Home And Family</td>\n",
       "      <td>650</td>\n",
       "      <td>Email</td>\n",
       "      <td>Female</td>\n",
       "      <td>White</td>\n",
       "      <td>White</td>\n",
       "      <td>...</td>\n",
       "      <td>21:19:00</td>\n",
       "      <td>Tuesday</td>\n",
       "      <td>26.0</td>\n",
       "      <td>0.0</td>\n",
       "      <td>NaN</td>\n",
       "      <td>NaN</td>\n",
       "      <td>NaN</td>\n",
       "      <td>1.0</td>\n",
       "      <td>NaN</td>\n",
       "      <td>yes</td>\n",
       "    </tr>\n",
       "    <tr>\n",
       "      <th>2</th>\n",
       "      <td>indiebandguru.com</td>\n",
       "      <td>Devin Caldwell</td>\n",
       "      <td>41</td>\n",
       "      <td>Longer than a Week</td>\n",
       "      <td>Music and Dance</td>\n",
       "      <td>500</td>\n",
       "      <td>Email</td>\n",
       "      <td>Male</td>\n",
       "      <td>White</td>\n",
       "      <td>Latino</td>\n",
       "      <td>...</td>\n",
       "      <td>15:53:00</td>\n",
       "      <td>Tuesday</td>\n",
       "      <td>12.0</td>\n",
       "      <td>0.0</td>\n",
       "      <td>NaN</td>\n",
       "      <td>NaN</td>\n",
       "      <td>NaN</td>\n",
       "      <td>1.0</td>\n",
       "      <td>NaN</td>\n",
       "      <td>yes</td>\n",
       "    </tr>\n",
       "    <tr>\n",
       "      <th>3</th>\n",
       "      <td>travelguideline.net</td>\n",
       "      <td>Kevin Devoto</td>\n",
       "      <td>40</td>\n",
       "      <td>Within a week</td>\n",
       "      <td>Travel and Tourism</td>\n",
       "      <td>650</td>\n",
       "      <td>Email</td>\n",
       "      <td>Male</td>\n",
       "      <td>Latino</td>\n",
       "      <td>Latino</td>\n",
       "      <td>...</td>\n",
       "      <td>16:51:00</td>\n",
       "      <td>Wednesday</td>\n",
       "      <td>13.0</td>\n",
       "      <td>0.0</td>\n",
       "      <td>NaN</td>\n",
       "      <td>NaN</td>\n",
       "      <td>NaN</td>\n",
       "      <td>1.0</td>\n",
       "      <td>NaN</td>\n",
       "      <td>yes</td>\n",
       "    </tr>\n",
       "    <tr>\n",
       "      <th>4</th>\n",
       "      <td>takingthekids.com</td>\n",
       "      <td>Paisley Hansen</td>\n",
       "      <td>51</td>\n",
       "      <td>Longer than a Week</td>\n",
       "      <td>Travel and Tourism</td>\n",
       "      <td>650</td>\n",
       "      <td>Email</td>\n",
       "      <td>Female</td>\n",
       "      <td>White</td>\n",
       "      <td>White</td>\n",
       "      <td>...</td>\n",
       "      <td>14:10:00</td>\n",
       "      <td>Monday</td>\n",
       "      <td>28.0</td>\n",
       "      <td>0.0</td>\n",
       "      <td>NaN</td>\n",
       "      <td>NaN</td>\n",
       "      <td>NaN</td>\n",
       "      <td>1.0</td>\n",
       "      <td>NaN</td>\n",
       "      <td>yes</td>\n",
       "    </tr>\n",
       "  </tbody>\n",
       "</table>\n",
       "<p>5 rows × 35 columns</p>\n",
       "</div>"
      ],
      "text/plain": [
       "                   Name        Pen Name  DA        Publish Time  \\\n",
       "0           badyogi.com  Paisley Hansen  43  Longer than a Week   \n",
       "1  buckscountyalive.com  Paisley Hansen  31       Within a week   \n",
       "2     indiebandguru.com  Devin Caldwell  41  Longer than a Week   \n",
       "3   travelguideline.net    Kevin Devoto  40       Within a week   \n",
       "4     takingthekids.com  Paisley Hansen  51  Longer than a Week   \n",
       "\n",
       "             Category  Word Count   Type Gender  name_race pic_race   ...     \\\n",
       "0             Fitness         650  Email  Female     White    White   ...      \n",
       "1     Home And Family         650  Email  Female     White    White   ...      \n",
       "2     Music and Dance         500  Email    Male     White   Latino   ...      \n",
       "3  Travel and Tourism         650  Email    Male    Latino   Latino   ...      \n",
       "4  Travel and Tourism         650  Email  Female     White    White   ...      \n",
       "\n",
       "  Time_Sent   Day_Sent Day_Month Followup  Time_Followup Day_Followup  \\\n",
       "0  20:04:00  Wednesday      13.0      0.0            NaN          NaN   \n",
       "1  21:19:00    Tuesday      26.0      0.0            NaN          NaN   \n",
       "2  15:53:00    Tuesday      12.0      0.0            NaN          NaN   \n",
       "3  16:51:00  Wednesday      13.0      0.0            NaN          NaN   \n",
       "4  14:10:00     Monday      28.0      0.0            NaN          NaN   \n",
       "\n",
       "  Day_Month_Followup Attempt_Number_Response Negotiation  Partner  \n",
       "0                NaN                     1.0         NaN      yes  \n",
       "1                NaN                     1.0         NaN      yes  \n",
       "2                NaN                     1.0         NaN      yes  \n",
       "3                NaN                     1.0         NaN      yes  \n",
       "4                NaN                     1.0         NaN      yes  \n",
       "\n",
       "[5 rows x 35 columns]"
      ]
     },
     "execution_count": 3,
     "metadata": {},
     "output_type": "execute_result"
    }
   ],
   "source": [
    "BASE_Current_Partners.head()"
   ]
  },
  {
   "cell_type": "code",
   "execution_count": 4,
   "metadata": {},
   "outputs": [
    {
     "data": {
      "text/plain": [
       "Index(['Name', 'Pen Name', 'DA', 'Publish Time', 'Category', 'Word Count',\n",
       "       'Type', 'Gender ', 'name_race', 'pic_race', 'pic_age', 'Medium',\n",
       "       'Subline', 'Spe_Subline', 'Subline_Chars', 'Subline_Spe', 'Approach',\n",
       "       'Article_subtype', 'Personalized', 'Paragraphs', 'Char_Count',\n",
       "       'Sample_Links', 'Pro_Exp', 'Edu', 'Blogger', 'Time_Sent', 'Day_Sent',\n",
       "       'Day_Month', 'Followup', 'Time_Followup', 'Day_Followup',\n",
       "       'Day_Month_Followup', 'Attempt_Number_Response', 'Negotiation',\n",
       "       'Partner'],\n",
       "      dtype='object')"
      ]
     },
     "execution_count": 4,
     "metadata": {},
     "output_type": "execute_result"
    }
   ],
   "source": [
    "BASE_Current_Partners.columns"
   ]
  },
  {
   "cell_type": "markdown",
   "metadata": {},
   "source": [
    "I will not go into detail on what all of these variables are at this point. In the next section, I will provide details on the final variables that I decided to include for this analysis.  "
   ]
  },
  {
   "cell_type": "code",
   "execution_count": 5,
   "metadata": {},
   "outputs": [
    {
     "data": {
      "text/plain": [
       "(121, 35)"
      ]
     },
     "execution_count": 5,
     "metadata": {},
     "output_type": "execute_result"
    }
   ],
   "source": [
    "#Showing number of rows and columns\n",
    "BASE_Current_Partners.shape"
   ]
  },
  {
   "cell_type": "markdown",
   "metadata": {},
   "source": [
    "This data has a lot of missing values, mostly because of the large portion of partners that were found before Streak (our CRM) was being used at BASE. I will have to drop all of the data from the partners that came over from 97th Floor. It is too costly and maybe impossible to get data on the outreach efforts that they used to acquire those partners several years ago. "
   ]
  },
  {
   "cell_type": "code",
   "execution_count": 6,
   "metadata": {
    "scrolled": true
   },
   "outputs": [],
   "source": [
    "#Creating new dataframe \n",
    "Streak = BASE_Current_Partners.copy()"
   ]
  },
  {
   "cell_type": "code",
   "execution_count": 7,
   "metadata": {},
   "outputs": [],
   "source": [
    "#Only including values that aren't marked as 97th, which means data was unavailable\n",
    "Streak = Streak[Streak.Medium != '97th']"
   ]
  },
  {
   "cell_type": "markdown",
   "metadata": {},
   "source": [
    "We have 121 email partners, 72 of which were found after BASE implemented Streak into their company. Streak has allowed us to track some email data, so I will provide some summary statistics on this data that will help me understand which data I should collect from our Outreach efforts over the past several months."
   ]
  },
  {
   "cell_type": "code",
   "execution_count": 8,
   "metadata": {},
   "outputs": [
    {
     "data": {
      "text/plain": [
       "array(['email', 'contact form', 'application'], dtype=object)"
      ]
     },
     "execution_count": 8,
     "metadata": {},
     "output_type": "execute_result"
    }
   ],
   "source": [
    "#Displaying the different ways we have used email-type data to contact websites\n",
    "Streak.Medium.unique()"
   ]
  },
  {
   "cell_type": "code",
   "execution_count": 9,
   "metadata": {},
   "outputs": [
    {
     "name": "stdout",
     "output_type": "stream",
     "text": [
      "Number of Contact Forms:  12\n",
      "Number of Applications:   8\n",
      "Number of Emails:         52\n"
     ]
    }
   ],
   "source": [
    "print(\"Number of Contact Forms: \",(Streak.Medium == 'contact form').sum())\n",
    "print(\"Number of Applications:  \",(Streak.Medium == 'application').sum())\n",
    "print(\"Number of Emails:        \",(Streak.Medium == 'email').sum())"
   ]
  },
  {
   "cell_type": "markdown",
   "metadata": {},
   "source": [
    "A vast majority of the data for the contact forms and online applications were unavailable, so I will be dropping them from the data frame to prevent that missing data from providing false summary statistics. It is good to know the proportion of our partners that have come from contact forms and emails, but since the rest of the data tied to these particular partners is null, they need to be dropped. "
   ]
  },
  {
   "cell_type": "code",
   "execution_count": 10,
   "metadata": {},
   "outputs": [
    {
     "data": {
      "text/plain": [
       "(72, 35)"
      ]
     },
     "execution_count": 10,
     "metadata": {},
     "output_type": "execute_result"
    }
   ],
   "source": [
    "Emails = (Streak[Streak.Medium == 'email']).copy()\n",
    "Streak.shape"
   ]
  },
  {
   "cell_type": "code",
   "execution_count": 11,
   "metadata": {},
   "outputs": [
    {
     "data": {
      "text/plain": [
       "(52, 35)"
      ]
     },
     "execution_count": 11,
     "metadata": {},
     "output_type": "execute_result"
    }
   ],
   "source": [
    "Emails.shape"
   ]
  },
  {
   "cell_type": "markdown",
   "metadata": {},
   "source": [
    "<a name=\"3\"></a>"
   ]
  },
  {
   "cell_type": "markdown",
   "metadata": {},
   "source": [
    "## Important Observations"
   ]
  },
  {
   "cell_type": "markdown",
   "metadata": {},
   "source": [
    "All of the data that I will be looking at in this section is data from emails that have converted websites into partnerships. All the variables are winners, but I want to see if some are more common than others. "
   ]
  },
  {
   "cell_type": "code",
   "execution_count": 12,
   "metadata": {},
   "outputs": [
    {
     "name": "stdout",
     "output_type": "stream",
     "text": [
      "count      52.000000\n",
      "mean      681.846154\n",
      "std       273.816769\n",
      "min       184.000000\n",
      "25%       493.750000\n",
      "50%       678.000000\n",
      "75%       833.750000\n",
      "max      1750.000000\n",
      "Name: Char_Count, dtype: float64\n"
     ]
    },
    {
     "data": {
      "text/plain": [
       "<matplotlib.axes._subplots.AxesSubplot at 0x1a18f2c8d0>"
      ]
     },
     "execution_count": 12,
     "metadata": {},
     "output_type": "execute_result"
    },
    {
     "data": {
      "image/png": "[encoded data removed]",
      "text/plain": [
       "<Figure size 1152x576 with 1 Axes>"
      ]
     },
     "metadata": {
      "needs_background": "light"
     },
     "output_type": "display_data"
    }
   ],
   "source": [
    "#Looking at the distribution of the character count of the initial outreach emails sent\n",
    "f, ax = plt.subplots(figsize=(16, 8))\n",
    "print(Emails.Char_Count.describe())\n",
    "sns.distplot(Emails.Char_Count)"
   ]
  },
  {
   "cell_type": "markdown",
   "metadata": {},
   "source": [
    "It looks like the majority of the emails that converted to partners were 800 characters or less. This is a good indication that we should be testing on shorter emails rather than longer."
   ]
  },
  {
   "cell_type": "markdown",
   "metadata": {},
   "source": [
    "I want to see if there is a particular day of the week or time of the day that is more common among the current partners that we have found. To do this, I will edit my data frame to look at the data for the emails that received a response. I tracked the data for the initial emails sent and the follow up emails that received the first response. They are labeled differently, so the new data frame will have all the date and time data for the email that received a response, not necessarily the first email that we sent. "
   ]
  },
  {
   "cell_type": "code",
   "execution_count": 13,
   "metadata": {},
   "outputs": [],
   "source": [
    "emailsdt = Emails.copy()"
   ]
  },
  {
   "cell_type": "code",
   "execution_count": 14,
   "metadata": {},
   "outputs": [],
   "source": [
    "#Iterating through the rows to change the data so that the following plot reflects the emails that received a response\n",
    "for index, row in emailsdt.iterrows():\n",
    "    if row.Followup != 0.0:\n",
    "        emailsdt.set_value(index, 'Time_Sent', row.Time_Followup)\n",
    "        emailsdt.set_value(index, 'Day_Sent', row.Day_Followup)\n",
    "        emailsdt.set_value(index, 'Day_Month', row.Day_Month_Followup)"
   ]
  },
  {
   "cell_type": "code",
   "execution_count": 15,
   "metadata": {},
   "outputs": [
    {
     "data": {
      "text/plain": [
       "Text(0.5, 1.0, 'Emails Sent By Day Of The Week')"
      ]
     },
     "execution_count": 15,
     "metadata": {},
     "output_type": "execute_result"
    },
    {
     "data": {
      "image/png": "[encoded data removed]",
      "text/plain": [
       "<Figure size 1152x576 with 1 Axes>"
      ]
     },
     "metadata": {
      "needs_background": "light"
     },
     "output_type": "display_data"
    }
   ],
   "source": [
    "key = ['Monday', 'Tuesday', 'Wednesday', 'Thursday', 'Friday', 'Saturday']\n",
    "f, ax = plt.subplots(figsize=(16, 8))\n",
    "sns.countplot(x = 'Day_Sent', data=emailsdt, order = key)\n",
    "plt.xlabel('Day Of The Week Email Was Sent', fontsize=16)\n",
    "plt.ylabel('Number Of Partners', fontsize=16)\n",
    "plt.title('Emails Sent By Day Of The Week', fontsize=16)"
   ]
  },
  {
   "cell_type": "markdown",
   "metadata": {},
   "source": [
    "This data looks like it has more to do with our outreachers' schedules rather than indicating which weekday may be more effective for sending outreach emails. However, we rarely send emails out on Saturday, so to see a decent number of email conversions from Saturday leads me to believe that weekend emails are more effective than weekday emails. This will be something I will test for and analyze. My theory is that emails sent on Saturday and Sunday will be more effective for the kind of outreach we are doing. \n",
    "\n",
    "It is also interesting to see how low Thursday is. This could mean emails tend to get lost in inboxes on Thursdays, but more likely just means that we don't send a lot of emails on Thursday. The data we will collect moving forward should shed more light on this. "
   ]
  },
  {
   "cell_type": "code",
   "execution_count": 16,
   "metadata": {
    "scrolled": false
   },
   "outputs": [
    {
     "data": {
      "text/plain": [
       "<matplotlib.axes._subplots.AxesSubplot at 0x1a19cbfc18>"
      ]
     },
     "execution_count": 16,
     "metadata": {},
     "output_type": "execute_result"
    },
    {
     "data": {
      "image/png": "[encoded data removed]",
      "text/plain": [
       "<Figure size 1152x576 with 1 Axes>"
      ]
     },
     "metadata": {
      "needs_background": "light"
     },
     "output_type": "display_data"
    }
   ],
   "source": [
    "#Looking at the distribution of the day of the month the emails were sent\n",
    "f, ax = plt.subplots(figsize=(16, 8))\n",
    "sns.distplot(emailsdt.Day_Month)"
   ]
  },
  {
   "cell_type": "markdown",
   "metadata": {},
   "source": [
    "More of our partners were converted from emails sent toward the middle and later parts of the month, although there isn't a large difference in the distribution between the time of the month. I would guess that conversion has more to do with the day of the week and the time the email was sent than the day of the month it was sent. "
   ]
  },
  {
   "cell_type": "code",
   "execution_count": 17,
   "metadata": {},
   "outputs": [
    {
     "data": {
      "text/plain": [
       "array(['Other', 'Guest ', 'Fan', 'Sub/Cont', 'Guest', 'Inquiry', 'Title',\n",
       "       'Sitename'], dtype=object)"
      ]
     },
     "execution_count": 17,
     "metadata": {},
     "output_type": "execute_result"
    }
   ],
   "source": [
    "emailsdt.Subline.unique()"
   ]
  },
  {
   "cell_type": "code",
   "execution_count": 18,
   "metadata": {},
   "outputs": [
    {
     "data": {
      "text/plain": [
       "array(['Other', 'Guest', 'Fan', 'Sub/Cont', 'Inquiry', 'Title',\n",
       "       'Sitename'], dtype=object)"
      ]
     },
     "execution_count": 18,
     "metadata": {},
     "output_type": "execute_result"
    }
   ],
   "source": [
    "#Iterating through the rows to fix the Guest marker\n",
    "for index, row in emailsdt.iterrows():\n",
    "    if row.Subline == 'Guest ':\n",
    "        emailsdt.set_value(index, 'Subline', 'Guest')\n",
    "emailsdt.Subline.unique()"
   ]
  },
  {
   "cell_type": "code",
   "execution_count": 19,
   "metadata": {},
   "outputs": [
    {
     "data": {
      "text/plain": [
       "Text(0.5, 1.0, 'Subject Line Category Frequency')"
      ]
     },
     "execution_count": 19,
     "metadata": {},
     "output_type": "execute_result"
    },
    {
     "data": {
      "image/png": "[encoded data removed]",
      "text/plain": [
       "<Figure size 1152x576 with 1 Axes>"
      ]
     },
     "metadata": {
      "needs_background": "light"
     },
     "output_type": "display_data"
    }
   ],
   "source": [
    "#Plotting the frequency of subject line categories used in outreach efforts\n",
    "f, ax = plt.subplots(figsize=(16, 8))\n",
    "sns.countplot(x = 'Subline', data=emailsdt, order=emailsdt.Subline.value_counts().index)\n",
    "plt.xlabel('Type of Subject Line', fontsize=16)\n",
    "plt.ylabel('Number Of Partners', fontsize=16)\n",
    "plt.title('Subject Line Category Frequency', fontsize=16)"
   ]
  },
  {
   "cell_type": "markdown",
   "metadata": {},
   "source": [
    "This data gives me a good idea of what works, but the question is how well they work. I believe Sub/Cont is so high because we have a much higher volume of emails that use that kind of subject line."
   ]
  },
  {
   "cell_type": "code",
   "execution_count": 20,
   "metadata": {},
   "outputs": [
    {
     "data": {
      "text/plain": [
       "array(['None', 'CAPS', 'CAPS + Emoji', 'CAPS + Punctuation',\n",
       "       'Punctuation'], dtype=object)"
      ]
     },
     "execution_count": 20,
     "metadata": {},
     "output_type": "execute_result"
    }
   ],
   "source": [
    "emailsdt.Subline_Spe.unique()"
   ]
  },
  {
   "cell_type": "code",
   "execution_count": 21,
   "metadata": {},
   "outputs": [
    {
     "data": {
      "text/plain": [
       "Text(0.5, 1.0, 'Subject Line Special Characters Frequency')"
      ]
     },
     "execution_count": 21,
     "metadata": {},
     "output_type": "execute_result"
    },
    {
     "data": {
      "image/png": "[encoded data removed]",
      "text/plain": [
       "<Figure size 1152x576 with 1 Axes>"
      ]
     },
     "metadata": {
      "needs_background": "light"
     },
     "output_type": "display_data"
    }
   ],
   "source": [
    "#Plotting the frequncy of certain special characters used in the subject line\n",
    "f, ax = plt.subplots(figsize=(16, 8))\n",
    "sns.countplot(x = 'Subline_Spe', data=emailsdt, order=emailsdt.Subline_Spe.value_counts().index)\n",
    "plt.xlabel('Special Characters Used', fontsize=16)\n",
    "plt.ylabel('Number Of Partners', fontsize=16)\n",
    "plt.title('Subject Line Special Characters Frequency', fontsize=16)"
   ]
  },
  {
   "cell_type": "markdown",
   "metadata": {},
   "source": [
    "For the most part, we don't use special characters in our subject lines. The analysis should show some insight on whether or not it is more effective to use this stuff than not."
   ]
  },
  {
   "cell_type": "code",
   "execution_count": 22,
   "metadata": {},
   "outputs": [
    {
     "data": {
      "text/plain": [
       "array(['None', 'Spe_Char'], dtype=object)"
      ]
     },
     "execution_count": 22,
     "metadata": {},
     "output_type": "execute_result"
    }
   ],
   "source": [
    "#Creating new data frame that classifies Subline_Spe as either None or Spe_Char\n",
    "subspe = emailsdt.copy()\n",
    "for index, row in subspe.iterrows():\n",
    "    if row.Subline_Spe != 'None':\n",
    "        subspe.set_value(index, 'Subline_Spe', 'Spe_Char')\n",
    "subspe.Subline_Spe.unique()"
   ]
  },
  {
   "cell_type": "code",
   "execution_count": 23,
   "metadata": {},
   "outputs": [
    {
     "data": {
      "text/plain": [
       "Text(0.5, 1.0, 'Subject Line Special Characters Frequency')"
      ]
     },
     "execution_count": 23,
     "metadata": {},
     "output_type": "execute_result"
    },
    {
     "data": {
      "image/png": "[encoded data removed]",
      "text/plain": [
       "<Figure size 1152x576 with 1 Axes>"
      ]
     },
     "metadata": {
      "needs_background": "light"
     },
     "output_type": "display_data"
    }
   ],
   "source": [
    "#Plotting the frequency of not using special characters and using special characters\n",
    "f, ax = plt.subplots(figsize=(16, 8))\n",
    "sns.countplot(x = 'Subline_Spe', data=subspe, order=subspe.Subline_Spe.value_counts().index)\n",
    "plt.xlabel('Special Characters Used', fontsize=16)\n",
    "plt.ylabel('Number Of Partners', fontsize=16)\n",
    "plt.title('Subject Line Special Characters Frequency', fontsize=16)"
   ]
  },
  {
   "cell_type": "markdown",
   "metadata": {},
   "source": [
    "Perhaps including special characters doesn't affect the likelihood of converting into a partner, but it is still something I want to analyze later on. \n",
    "\n",
    "Now I will look at the general approach we used in the body of the email. "
   ]
  },
  {
   "cell_type": "code",
   "execution_count": 24,
   "metadata": {},
   "outputs": [
    {
     "data": {
      "text/plain": [
       "array(['inquiry ', 'article', 'pitch', 'inquiry', 'issue', 'history',\n",
       "       'marketer'], dtype=object)"
      ]
     },
     "execution_count": 24,
     "metadata": {},
     "output_type": "execute_result"
    }
   ],
   "source": [
    "#The data is a bit messy here, I need to fix the extra space after some of the inquiry markers\n",
    "emailsdt.Approach.unique()"
   ]
  },
  {
   "cell_type": "code",
   "execution_count": 25,
   "metadata": {},
   "outputs": [
    {
     "data": {
      "text/plain": [
       "array(['inquiry', 'article', 'pitch', 'issue', 'history', 'marketer'],\n",
       "      dtype=object)"
      ]
     },
     "execution_count": 25,
     "metadata": {},
     "output_type": "execute_result"
    }
   ],
   "source": [
    "#Iterating through the rows to fix the inquiry marker\n",
    "for index, row in emailsdt.iterrows():\n",
    "    if row.Approach == 'inquiry ':\n",
    "        emailsdt.set_value(index, 'Approach', 'inquiry')\n",
    "emailsdt.Approach.unique()"
   ]
  },
  {
   "cell_type": "code",
   "execution_count": 26,
   "metadata": {},
   "outputs": [
    {
     "data": {
      "text/plain": [
       "Text(0.5, 1.0, 'Approach Category Frequency')"
      ]
     },
     "execution_count": 26,
     "metadata": {},
     "output_type": "execute_result"
    },
    {
     "data": {
      "image/png": "[encoded data removed]",
      "text/plain": [
       "<Figure size 1152x576 with 1 Axes>"
      ]
     },
     "metadata": {
      "needs_background": "light"
     },
     "output_type": "display_data"
    }
   ],
   "source": [
    "#Plotting the frequency of each approach category\n",
    "f, ax = plt.subplots(figsize=(16, 8))\n",
    "sns.countplot(x = 'Approach', data=emailsdt)\n",
    "plt.xlabel('Type of Approach', fontsize=16)\n",
    "plt.ylabel('Number Of Partners', fontsize=16)\n",
    "plt.title('Approach Category Frequency', fontsize=16)"
   ]
  },
  {
   "cell_type": "markdown",
   "metadata": {},
   "source": [
    "An important insight from this chart is how high article is relative to the other categories. We don't typically include articles in our first emails, so this data is already starting to provide valuable information on how we can improve our Outreach efforts. \n",
    "\n",
    "Now I will look at the breakdown of different key variables included in the body of the emails, like sample links to past blogging work or a mention of education. "
   ]
  },
  {
   "cell_type": "code",
   "execution_count": 27,
   "metadata": {},
   "outputs": [
    {
     "name": "stdout",
     "output_type": "stream",
     "text": [
      "---Percentage of emails that contained a key variable---\n",
      "Professional Experience:  36.54 %\n",
      "Education              :  9.62 %\n",
      "Professional Writing   :  50.00 %\n",
      "Sample Links           :  42.31 %\n",
      "Personalized to Site   :  50.00 %\n"
     ]
    }
   ],
   "source": [
    "#Looking at the percentage of emails that contained key variables\n",
    "print('---Percentage of emails that contained a key variable---')\n",
    "print('Professional Experience: ',\n",
    "      \"%.2f\" % ((emailsdt.Pro_Exp == 'yes').sum()/52*100), '%')\n",
    "print('Education              : ',\n",
    "      \"%.2f\" % ((emailsdt.Edu == 'yes').sum()/52*100), '%')\n",
    "print('Professional Writing   : ',\n",
    "      \"%.2f\" % ((emailsdt.Blogger == 'yes').sum()/52*100), '%')\n",
    "print('Sample Links           : ',\n",
    "      \"%.2f\" % ((emailsdt.Sample_Links == 'yes').sum()/52*100), '%')\n",
    "print('Personalized to Site   : ',\n",
    "      \"%.2f\" % ((emailsdt.Personalized == 'yes').sum()/52*100), '%')"
   ]
  },
  {
   "cell_type": "code",
   "execution_count": 28,
   "metadata": {},
   "outputs": [
    {
     "data": {
      "text/plain": [
       "<matplotlib.axes._subplots.AxesSubplot at 0x1a1a7e3128>"
      ]
     },
     "execution_count": 28,
     "metadata": {},
     "output_type": "execute_result"
    },
    {
     "data": {
      "image/png": "[encoded data removed]",
      "text/plain": [
       "<Figure size 1152x576 with 1 Axes>"
      ]
     },
     "metadata": {
      "needs_background": "light"
     },
     "output_type": "display_data"
    }
   ],
   "source": [
    "#Plotting percentage of emails that contained certain key variables\n",
    "d = {'Variable': ['Professional_Experience', 'Education', 'Professional_Writing', 'Sample_Links', 'Personalized'], \n",
    "     'Percentage': [36.54, 9.62, 50, 42.31, 50]}\n",
    "df = pd.DataFrame(data=d)\n",
    "f, ax = plt.subplots(figsize=(16, 8))\n",
    "plt.xlabel('Variable', fontsize=16)\n",
    "plt.ylabel('Percentage', fontsize=16)\n",
    "plt.title('Percentage Of Emails That Contain A Key Variable', fontsize=16)\n",
    "sns.barplot(x = 'Variable', y = 'Percentage', data = df)"
   ]
  },
  {
   "cell_type": "markdown",
   "metadata": {},
   "source": [
    "It is interesting to note the volume of emails that mentioned something specific about the website being contacted (personalized category). The other frequencies may or may not be providing useful information, that will be determined later on in the project. "
   ]
  },
  {
   "cell_type": "markdown",
   "metadata": {},
   "source": [
    "<a name=\"4\"></a>"
   ]
  },
  {
   "cell_type": "markdown",
   "metadata": {},
   "source": [
    "## Moving Forward"
   ]
  },
  {
   "cell_type": "markdown",
   "metadata": {},
   "source": [
    "After observing this data, I got to work collecting data from our Outreach Team pipeline. I quickly discovered the limitations of our CRM when it comes to data tracking. Through a bit of frustration and creative thinking, I have decided to exclude any variables that analyze the content of our emails. It is too costly to go through each email and manually extract data. \n",
    "\n",
    "Streak allows me to track more superficial data, like data associated with the subject lines and time/dates that emails were sent and responded to. I do not think this will hurt my analysis in the end. Our biggest challenge is getting people to notice our emails and give them the time of day, so it is much more important what we do on the outside (subject lines, attachments, penname information, etc.) than on what we are actually including in the body of the emails. "
   ]
  },
  {
   "cell_type": "markdown",
   "metadata": {},
   "source": [
    "<a name=\"5\"></a>"
   ]
  },
  {
   "cell_type": "markdown",
   "metadata": {},
   "source": [
    "# Looking at all Outreach Data from August 2018 - February 2019"
   ]
  },
  {
   "cell_type": "markdown",
   "metadata": {},
   "source": [
    "After putting together the data and considering the scope of this project, I decided to take a look at all of our Outreach email data from the inception of the team (August 2018) to February 2019 to develop a model that will be able to predict the number of partners we can expect to get from our Outreach efforts for a given month. I will use the current data we have to train the model and then test it on all of our data from March 2019. "
   ]
  },
  {
   "cell_type": "markdown",
   "metadata": {},
   "source": [
    "I ended up changing a lot of the variables, and excluding some variables that our CRM would not allow me to track from our past emails. I narrowed down the data to the most important variables available to include in our analysis. "
   ]
  },
  {
   "cell_type": "markdown",
   "metadata": {},
   "source": [
    "<a name=\"6\"></a>"
   ]
  },
  {
   "cell_type": "markdown",
   "metadata": {},
   "source": [
    "## Import Data"
   ]
  },
  {
   "cell_type": "code",
   "execution_count": 29,
   "metadata": {},
   "outputs": [],
   "source": [
    "#importing data collected from Outreach emails August 2018 - February 2019\n",
    "train = pd.read_excel(\"file:///Users/codypulsipher/Documents/Pythondocs/data.xlsx\")"
   ]
  },
  {
   "cell_type": "code",
   "execution_count": 30,
   "metadata": {},
   "outputs": [
    {
     "data": {
      "text/html": [
       "<div>\n",
       "<style scoped>\n",
       "    .dataframe tbody tr th:only-of-type {\n",
       "        vertical-align: middle;\n",
       "    }\n",
       "\n",
       "    .dataframe tbody tr th {\n",
       "        vertical-align: top;\n",
       "    }\n",
       "\n",
       "    .dataframe thead th {\n",
       "        text-align: right;\n",
       "    }\n",
       "</style>\n",
       "<table border=\"1\" class=\"dataframe\">\n",
       "  <thead>\n",
       "    <tr style=\"text-align: right;\">\n",
       "      <th></th>\n",
       "      <th>Gender</th>\n",
       "      <th>Race_name</th>\n",
       "      <th>Race_pic</th>\n",
       "      <th>Age</th>\n",
       "      <th>Name</th>\n",
       "      <th>Domain Type</th>\n",
       "      <th>DA</th>\n",
       "      <th>Category</th>\n",
       "      <th>Contact Email Type</th>\n",
       "      <th>Subject Line Type</th>\n",
       "      <th>Subject Line Spe</th>\n",
       "      <th>Punctuation</th>\n",
       "      <th>CAPS</th>\n",
       "      <th>Emoji</th>\n",
       "      <th>Article Included</th>\n",
       "      <th>Medium</th>\n",
       "      <th>Month</th>\n",
       "      <th>Day of Week</th>\n",
       "      <th>Hour of Day</th>\n",
       "      <th>Outreacher</th>\n",
       "      <th>Number of Emails</th>\n",
       "      <th>Response</th>\n",
       "      <th>Partner</th>\n",
       "    </tr>\n",
       "  </thead>\n",
       "  <tbody>\n",
       "    <tr>\n",
       "      <th>0</th>\n",
       "      <td>Male</td>\n",
       "      <td>White</td>\n",
       "      <td>White</td>\n",
       "      <td>Middle</td>\n",
       "      <td>breakingtravelnews.com</td>\n",
       "      <td>.com</td>\n",
       "      <td>53</td>\n",
       "      <td>Travel and Tourism</td>\n",
       "      <td>na</td>\n",
       "      <td>Fan</td>\n",
       "      <td>Punctuation</td>\n",
       "      <td>1</td>\n",
       "      <td>0</td>\n",
       "      <td>0</td>\n",
       "      <td>0</td>\n",
       "      <td>Email</td>\n",
       "      <td>December</td>\n",
       "      <td>Wed</td>\n",
       "      <td>12</td>\n",
       "      <td>drewhunt</td>\n",
       "      <td>3</td>\n",
       "      <td>0</td>\n",
       "      <td>0</td>\n",
       "    </tr>\n",
       "    <tr>\n",
       "      <th>1</th>\n",
       "      <td>Male</td>\n",
       "      <td>White</td>\n",
       "      <td>White</td>\n",
       "      <td>Middle</td>\n",
       "      <td>sustainablebrands.com</td>\n",
       "      <td>.com</td>\n",
       "      <td>64</td>\n",
       "      <td>Business</td>\n",
       "      <td>editor</td>\n",
       "      <td>Fan</td>\n",
       "      <td>Punctuation</td>\n",
       "      <td>1</td>\n",
       "      <td>0</td>\n",
       "      <td>0</td>\n",
       "      <td>0</td>\n",
       "      <td>Email</td>\n",
       "      <td>December</td>\n",
       "      <td>Wed</td>\n",
       "      <td>12</td>\n",
       "      <td>drewhunt</td>\n",
       "      <td>4</td>\n",
       "      <td>0</td>\n",
       "      <td>0</td>\n",
       "    </tr>\n",
       "    <tr>\n",
       "      <th>2</th>\n",
       "      <td>Male</td>\n",
       "      <td>White</td>\n",
       "      <td>White</td>\n",
       "      <td>Young</td>\n",
       "      <td>wamda.com</td>\n",
       "      <td>.com</td>\n",
       "      <td>58</td>\n",
       "      <td>Business</td>\n",
       "      <td>editor</td>\n",
       "      <td>Fan</td>\n",
       "      <td>Punctuation</td>\n",
       "      <td>1</td>\n",
       "      <td>0</td>\n",
       "      <td>0</td>\n",
       "      <td>1</td>\n",
       "      <td>Email</td>\n",
       "      <td>January</td>\n",
       "      <td>Wed</td>\n",
       "      <td>23</td>\n",
       "      <td>drewhunt</td>\n",
       "      <td>2</td>\n",
       "      <td>1</td>\n",
       "      <td>0</td>\n",
       "    </tr>\n",
       "    <tr>\n",
       "      <th>3</th>\n",
       "      <td>Female</td>\n",
       "      <td>Latino</td>\n",
       "      <td>Latino</td>\n",
       "      <td>Middle</td>\n",
       "      <td>everydayfamily.com</td>\n",
       "      <td>.com</td>\n",
       "      <td>42</td>\n",
       "      <td>Home and Family</td>\n",
       "      <td>na</td>\n",
       "      <td>no subject</td>\n",
       "      <td>None</td>\n",
       "      <td>0</td>\n",
       "      <td>0</td>\n",
       "      <td>0</td>\n",
       "      <td>0</td>\n",
       "      <td>Write for Us / Contributor Form</td>\n",
       "      <td>January</td>\n",
       "      <td>Fri</td>\n",
       "      <td>10</td>\n",
       "      <td>drewhunt</td>\n",
       "      <td>1</td>\n",
       "      <td>0</td>\n",
       "      <td>0</td>\n",
       "    </tr>\n",
       "    <tr>\n",
       "      <th>4</th>\n",
       "      <td>Male</td>\n",
       "      <td>White</td>\n",
       "      <td>White</td>\n",
       "      <td>Middle</td>\n",
       "      <td>smallbusinessbible.org</td>\n",
       "      <td>.org</td>\n",
       "      <td>38</td>\n",
       "      <td>Business</td>\n",
       "      <td>na</td>\n",
       "      <td>no subject</td>\n",
       "      <td>None</td>\n",
       "      <td>0</td>\n",
       "      <td>0</td>\n",
       "      <td>0</td>\n",
       "      <td>0</td>\n",
       "      <td>Contact Us Form</td>\n",
       "      <td>November</td>\n",
       "      <td>Wed</td>\n",
       "      <td>14</td>\n",
       "      <td>drewhunt</td>\n",
       "      <td>1</td>\n",
       "      <td>0</td>\n",
       "      <td>0</td>\n",
       "    </tr>\n",
       "  </tbody>\n",
       "</table>\n",
       "</div>"
      ],
      "text/plain": [
       "   Gender Race_name Race_pic     Age                    Name Domain Type  DA  \\\n",
       "0    Male     White    White  Middle  breakingtravelnews.com        .com  53   \n",
       "1    Male     White    White  Middle   sustainablebrands.com        .com  64   \n",
       "2    Male     White    White   Young               wamda.com        .com  58   \n",
       "3  Female    Latino   Latino  Middle      everydayfamily.com        .com  42   \n",
       "4    Male     White    White  Middle  smallbusinessbible.org        .org  38   \n",
       "\n",
       "             Category Contact Email Type Subject Line Type Subject Line Spe  \\\n",
       "0  Travel and Tourism                 na               Fan      Punctuation   \n",
       "1            Business             editor               Fan      Punctuation   \n",
       "2            Business             editor               Fan      Punctuation   \n",
       "3     Home and Family                 na        no subject             None   \n",
       "4            Business                 na        no subject             None   \n",
       "\n",
       "   Punctuation  CAPS  Emoji  Article Included  \\\n",
       "0            1     0      0                 0   \n",
       "1            1     0      0                 0   \n",
       "2            1     0      0                 1   \n",
       "3            0     0      0                 0   \n",
       "4            0     0      0                 0   \n",
       "\n",
       "                            Medium     Month Day of Week  Hour of Day  \\\n",
       "0                            Email  December         Wed           12   \n",
       "1                            Email  December         Wed           12   \n",
       "2                            Email   January         Wed           23   \n",
       "3  Write for Us / Contributor Form   January         Fri           10   \n",
       "4                  Contact Us Form  November         Wed           14   \n",
       "\n",
       "  Outreacher  Number of Emails  Response  Partner  \n",
       "0   drewhunt                 3         0        0  \n",
       "1   drewhunt                 4         0        0  \n",
       "2   drewhunt                 2         1        0  \n",
       "3   drewhunt                 1         0        0  \n",
       "4   drewhunt                 1         0        0  "
      ]
     },
     "execution_count": 30,
     "metadata": {},
     "output_type": "execute_result"
    }
   ],
   "source": [
    "pd.options.display.max_columns = 50\n",
    "train.head()"
   ]
  },
  {
   "cell_type": "code",
   "execution_count": 31,
   "metadata": {},
   "outputs": [
    {
     "data": {
      "text/html": [
       "<div>\n",
       "<style scoped>\n",
       "    .dataframe tbody tr th:only-of-type {\n",
       "        vertical-align: middle;\n",
       "    }\n",
       "\n",
       "    .dataframe tbody tr th {\n",
       "        vertical-align: top;\n",
       "    }\n",
       "\n",
       "    .dataframe thead th {\n",
       "        text-align: right;\n",
       "    }\n",
       "</style>\n",
       "<table border=\"1\" class=\"dataframe\">\n",
       "  <thead>\n",
       "    <tr style=\"text-align: right;\">\n",
       "      <th></th>\n",
       "      <th>DA</th>\n",
       "      <th>Punctuation</th>\n",
       "      <th>CAPS</th>\n",
       "      <th>Emoji</th>\n",
       "      <th>Article Included</th>\n",
       "      <th>Hour of Day</th>\n",
       "      <th>Number of Emails</th>\n",
       "      <th>Response</th>\n",
       "      <th>Partner</th>\n",
       "    </tr>\n",
       "  </thead>\n",
       "  <tbody>\n",
       "    <tr>\n",
       "      <th>count</th>\n",
       "      <td>933.000000</td>\n",
       "      <td>933.000000</td>\n",
       "      <td>933.000000</td>\n",
       "      <td>933.000000</td>\n",
       "      <td>933.000000</td>\n",
       "      <td>933.000000</td>\n",
       "      <td>933.000000</td>\n",
       "      <td>933.000000</td>\n",
       "      <td>933.000000</td>\n",
       "    </tr>\n",
       "    <tr>\n",
       "      <th>mean</th>\n",
       "      <td>46.033226</td>\n",
       "      <td>0.241158</td>\n",
       "      <td>0.156484</td>\n",
       "      <td>0.094319</td>\n",
       "      <td>0.109325</td>\n",
       "      <td>13.167203</td>\n",
       "      <td>2.052519</td>\n",
       "      <td>0.150054</td>\n",
       "      <td>0.103966</td>\n",
       "    </tr>\n",
       "    <tr>\n",
       "      <th>std</th>\n",
       "      <td>14.069263</td>\n",
       "      <td>0.428015</td>\n",
       "      <td>0.363509</td>\n",
       "      <td>0.292429</td>\n",
       "      <td>0.312214</td>\n",
       "      <td>3.197692</td>\n",
       "      <td>1.162923</td>\n",
       "      <td>0.357315</td>\n",
       "      <td>0.305380</td>\n",
       "    </tr>\n",
       "    <tr>\n",
       "      <th>min</th>\n",
       "      <td>13.000000</td>\n",
       "      <td>0.000000</td>\n",
       "      <td>0.000000</td>\n",
       "      <td>0.000000</td>\n",
       "      <td>0.000000</td>\n",
       "      <td>0.000000</td>\n",
       "      <td>1.000000</td>\n",
       "      <td>0.000000</td>\n",
       "      <td>0.000000</td>\n",
       "    </tr>\n",
       "    <tr>\n",
       "      <th>25%</th>\n",
       "      <td>36.000000</td>\n",
       "      <td>0.000000</td>\n",
       "      <td>0.000000</td>\n",
       "      <td>0.000000</td>\n",
       "      <td>0.000000</td>\n",
       "      <td>11.000000</td>\n",
       "      <td>1.000000</td>\n",
       "      <td>0.000000</td>\n",
       "      <td>0.000000</td>\n",
       "    </tr>\n",
       "    <tr>\n",
       "      <th>50%</th>\n",
       "      <td>44.000000</td>\n",
       "      <td>0.000000</td>\n",
       "      <td>0.000000</td>\n",
       "      <td>0.000000</td>\n",
       "      <td>0.000000</td>\n",
       "      <td>13.000000</td>\n",
       "      <td>2.000000</td>\n",
       "      <td>0.000000</td>\n",
       "      <td>0.000000</td>\n",
       "    </tr>\n",
       "    <tr>\n",
       "      <th>75%</th>\n",
       "      <td>54.000000</td>\n",
       "      <td>0.000000</td>\n",
       "      <td>0.000000</td>\n",
       "      <td>0.000000</td>\n",
       "      <td>0.000000</td>\n",
       "      <td>15.000000</td>\n",
       "      <td>3.000000</td>\n",
       "      <td>0.000000</td>\n",
       "      <td>0.000000</td>\n",
       "    </tr>\n",
       "    <tr>\n",
       "      <th>max</th>\n",
       "      <td>94.000000</td>\n",
       "      <td>1.000000</td>\n",
       "      <td>1.000000</td>\n",
       "      <td>1.000000</td>\n",
       "      <td>1.000000</td>\n",
       "      <td>23.000000</td>\n",
       "      <td>9.000000</td>\n",
       "      <td>1.000000</td>\n",
       "      <td>1.000000</td>\n",
       "    </tr>\n",
       "  </tbody>\n",
       "</table>\n",
       "</div>"
      ],
      "text/plain": [
       "               DA  Punctuation        CAPS       Emoji  Article Included  \\\n",
       "count  933.000000   933.000000  933.000000  933.000000        933.000000   \n",
       "mean    46.033226     0.241158    0.156484    0.094319          0.109325   \n",
       "std     14.069263     0.428015    0.363509    0.292429          0.312214   \n",
       "min     13.000000     0.000000    0.000000    0.000000          0.000000   \n",
       "25%     36.000000     0.000000    0.000000    0.000000          0.000000   \n",
       "50%     44.000000     0.000000    0.000000    0.000000          0.000000   \n",
       "75%     54.000000     0.000000    0.000000    0.000000          0.000000   \n",
       "max     94.000000     1.000000    1.000000    1.000000          1.000000   \n",
       "\n",
       "       Hour of Day  Number of Emails    Response     Partner  \n",
       "count   933.000000        933.000000  933.000000  933.000000  \n",
       "mean     13.167203          2.052519    0.150054    0.103966  \n",
       "std       3.197692          1.162923    0.357315    0.305380  \n",
       "min       0.000000          1.000000    0.000000    0.000000  \n",
       "25%      11.000000          1.000000    0.000000    0.000000  \n",
       "50%      13.000000          2.000000    0.000000    0.000000  \n",
       "75%      15.000000          3.000000    0.000000    0.000000  \n",
       "max      23.000000          9.000000    1.000000    1.000000  "
      ]
     },
     "execution_count": 31,
     "metadata": {},
     "output_type": "execute_result"
    }
   ],
   "source": [
    "train.describe()"
   ]
  },
  {
   "cell_type": "code",
   "execution_count": 32,
   "metadata": {},
   "outputs": [
    {
     "name": "stdout",
     "output_type": "stream",
     "text": [
      "<class 'pandas.core.frame.DataFrame'>\n",
      "RangeIndex: 933 entries, 0 to 932\n",
      "Data columns (total 23 columns):\n",
      "Gender                933 non-null object\n",
      "Race_name             933 non-null object\n",
      "Race_pic              933 non-null object\n",
      "Age                   933 non-null object\n",
      "Name                  933 non-null object\n",
      "Domain Type           933 non-null object\n",
      "DA                    933 non-null int64\n",
      "Category              933 non-null object\n",
      "Contact Email Type    933 non-null object\n",
      "Subject Line Type     933 non-null object\n",
      "Subject Line Spe      933 non-null object\n",
      "Punctuation           933 non-null int64\n",
      "CAPS                  933 non-null int64\n",
      "Emoji                 933 non-null int64\n",
      "Article Included      933 non-null int64\n",
      "Medium                933 non-null object\n",
      "Month                 933 non-null object\n",
      "Day of Week           933 non-null object\n",
      "Hour of Day           933 non-null int64\n",
      "Outreacher            933 non-null object\n",
      "Number of Emails      933 non-null int64\n",
      "Response              933 non-null int64\n",
      "Partner               933 non-null int64\n",
      "dtypes: int64(9), object(14)\n",
      "memory usage: 167.7+ KB\n"
     ]
    }
   ],
   "source": [
    "train.info()"
   ]
  },
  {
   "cell_type": "markdown",
   "metadata": {},
   "source": [
    "<a name=\"7\"></a>"
   ]
  },
  {
   "cell_type": "markdown",
   "metadata": {},
   "source": [
    "## Description of Variables"
   ]
  },
  {
   "cell_type": "markdown",
   "metadata": {},
   "source": [
    "**Independent Variables**<br>\n",
    "- **Gender**: gender of the penname used for outreach\n",
    "- **Race_name**: race of the penname as inferred by their name\n",
    "- **Race_pic**: race of the penname as inferred by their gmail picture\n",
    "- **Age**: age of the penname as inferred by their gmail picture\n",
    "- **Name**: domain name of the website (this data will not be included in model)\n",
    "- **Domain Type**: identifying the type of domain (.com, .net, .org, etc.)\n",
    "- **DA**: Domain Authoirty (0-100). This is a score provide by MOZ estimating the strength of a website in Google SERPs\n",
    "- **Category**: identifies the type of content published on the site\n",
    "- **Contact Email Type**: indicates the type of email contacted (info@example, editor@example, etc.)\n",
    "- **Subject Line Type**: approach used in the subject line\n",
    "- **Subject Line Spe**: (will be dropped, see below)\n",
    "- **Punctuation, CAPS, Emoji**: boolean value indicating if any of these were used in the subject line\n",
    "- **Article Included**: indicates if an article was included in the first outreach\n",
    "- **Medium**: identifies how the contact was made, either through the website or through email\n",
    "- **Month**: month outreach was initiated\n",
    "- **Day of Week**: day of the week outreach was initiated\n",
    "- **Hour of Day**: hour of the day outreach was initiated\n",
    "- **Outreacher**: identifies the team member who did the outreach\n",
    "- **Number of Emails**: the number of emails sent before a reponse was given (or effort was abandoned)\n",
    "\n",
    "**Target Variables**<br>\n",
    "- **Response**: indicates if the email received a real response (not automated)\n",
    "- **Partner**: indicates if website converted into a partner"
   ]
  },
  {
   "cell_type": "markdown",
   "metadata": {},
   "source": [
    "<a name=\"8\"></a>"
   ]
  },
  {
   "cell_type": "markdown",
   "metadata": {},
   "source": [
    "## Verifying that the Data is Clean"
   ]
  },
  {
   "cell_type": "markdown",
   "metadata": {},
   "source": [
    "Since I was the one collecting the data, I made sure to do it in a way that provided a very clean data set to feed into my model. In this section, I will verify that my model is free of missing values and prepared for feature engineering and feeding into my model. "
   ]
  },
  {
   "cell_type": "code",
   "execution_count": 33,
   "metadata": {},
   "outputs": [],
   "source": [
    "#Setting target variables\n",
    "partner = train.Partner\n",
    "response = train.Response"
   ]
  },
  {
   "cell_type": "code",
   "execution_count": 34,
   "metadata": {},
   "outputs": [],
   "source": [
    "data = train.copy()"
   ]
  },
  {
   "cell_type": "code",
   "execution_count": 35,
   "metadata": {},
   "outputs": [
    {
     "data": {
      "text/html": [
       "<div>\n",
       "<style scoped>\n",
       "    .dataframe tbody tr th:only-of-type {\n",
       "        vertical-align: middle;\n",
       "    }\n",
       "\n",
       "    .dataframe tbody tr th {\n",
       "        vertical-align: top;\n",
       "    }\n",
       "\n",
       "    .dataframe thead th {\n",
       "        text-align: right;\n",
       "    }\n",
       "</style>\n",
       "<table border=\"1\" class=\"dataframe\">\n",
       "  <thead>\n",
       "    <tr style=\"text-align: right;\">\n",
       "      <th></th>\n",
       "      <th>Total</th>\n",
       "      <th>Percent</th>\n",
       "    </tr>\n",
       "  </thead>\n",
       "  <tbody>\n",
       "    <tr>\n",
       "      <th>Partner</th>\n",
       "      <td>0</td>\n",
       "      <td>0.0</td>\n",
       "    </tr>\n",
       "    <tr>\n",
       "      <th>Subject Line Spe</th>\n",
       "      <td>0</td>\n",
       "      <td>0.0</td>\n",
       "    </tr>\n",
       "    <tr>\n",
       "      <th>Race_name</th>\n",
       "      <td>0</td>\n",
       "      <td>0.0</td>\n",
       "    </tr>\n",
       "    <tr>\n",
       "      <th>Race_pic</th>\n",
       "      <td>0</td>\n",
       "      <td>0.0</td>\n",
       "    </tr>\n",
       "    <tr>\n",
       "      <th>Age</th>\n",
       "      <td>0</td>\n",
       "      <td>0.0</td>\n",
       "    </tr>\n",
       "  </tbody>\n",
       "</table>\n",
       "</div>"
      ],
      "text/plain": [
       "                  Total  Percent\n",
       "Partner               0      0.0\n",
       "Subject Line Spe      0      0.0\n",
       "Race_name             0      0.0\n",
       "Race_pic              0      0.0\n",
       "Age                   0      0.0"
      ]
     },
     "execution_count": 35,
     "metadata": {},
     "output_type": "execute_result"
    }
   ],
   "source": [
    "#Checking for missing data\n",
    "total = data.isnull().sum().sort_values(ascending=False)\n",
    "percent = (data.isnull().sum()/data.isnull().count()).sort_values(ascending=False)\n",
    "missing_data = pd.concat([total, percent], axis=1, keys=['Total', 'Percent'])\n",
    "missing_data.head()"
   ]
  },
  {
   "cell_type": "code",
   "execution_count": 36,
   "metadata": {},
   "outputs": [],
   "source": [
    "#Dropping columns that I won't be using for model\n",
    "data = data.drop(columns = ['Name','Subject Line Spe'])"
   ]
  },
  {
   "cell_type": "markdown",
   "metadata": {},
   "source": [
    "<a name=\"11\"></a>"
   ]
  },
  {
   "cell_type": "markdown",
   "metadata": {},
   "source": [
    "# Exploring Models"
   ]
  },
  {
   "cell_type": "code",
   "execution_count": 43,
   "metadata": {},
   "outputs": [],
   "source": [
    "tdata = data.copy()\n",
    "tdata = tdata.drop(columns = ['Response','Partner','Contact Email Type', 'Number of Emails','Month'], axis = 1)"
   ]
  },
  {
   "cell_type": "code",
   "execution_count": 44,
   "metadata": {},
   "outputs": [
    {
     "data": {
      "text/plain": [
       "(933, 79)"
      ]
     },
     "execution_count": 44,
     "metadata": {},
     "output_type": "execute_result"
    }
   ],
   "source": [
    "#Get dummy variables\n",
    "tdata = pd.get_dummies(tdata)\n",
    "tdata.shape"
   ]
  },
  {
   "cell_type": "code",
   "execution_count": 45,
   "metadata": {},
   "outputs": [],
   "source": [
    "x = tdata\n",
    "y = partner"
   ]
  },
  {
   "cell_type": "code",
   "execution_count": 46,
   "metadata": {},
   "outputs": [],
   "source": [
    "#Get a split\n",
    "x_train, x_test, y_train, y_test = train_test_split(x, y, test_size = .3)"
   ]
  },
  {
   "cell_type": "code",
   "execution_count": 47,
   "metadata": {},
   "outputs": [],
   "source": [
    "#This is a function from ngriffiths13 that will get the macro-F1 score of the model, with CV = 10 instead of 5\n",
    "def test_clf(clf):\n",
    "    score = cross_val_score(clf, x, y, scoring = 'f1_macro', cv = 10)\n",
    "    print(clf.__class__.__name__,\"Score =\", score.mean())"
   ]
  },
  {
   "cell_type": "code",
   "execution_count": 48,
   "metadata": {},
   "outputs": [
    {
     "name": "stdout",
     "output_type": "stream",
     "text": [
      "RandomForestClassifier Score = 0.5284774254696275\n",
      "GaussianNB Score = 0.29107123433040444\n"
     ]
    }
   ],
   "source": [
    "rf = RandomForestClassifier()\n",
    "gnb = GaussianNB()\n",
    "\n",
    "models = [rf, gnb]\n",
    "for clf in models:\n",
    "    test_clf(clf)"
   ]
  },
  {
   "cell_type": "code",
   "execution_count": 49,
   "metadata": {},
   "outputs": [
    {
     "name": "stdout",
     "output_type": "stream",
     "text": [
      "F1 Score: 0.7651663405088063 \n",
      "\n"
     ]
    }
   ],
   "source": [
    "#Hyperparameters are an adaptation of ngriffiths13 values. RandomSearchCV is time consuming, so this works.\n",
    "rf_t = RandomForestClassifier(n_estimators= 200, min_samples_split= 4, \n",
    "                              max_features= 40, max_depth= 10, criterion= 'entropy')\n",
    "\n",
    "rf_t.fit(x, y)\n",
    "rf_t_pred = rf_t.predict(x_test)\n",
    "score = f1_score(y_test, rf_t_pred, average = 'macro')\n",
    "print('F1 Score: %s \\n' %(score))"
   ]
  },
  {
   "cell_type": "code",
   "execution_count": 50,
   "metadata": {},
   "outputs": [],
   "source": [
    "#Train models and make predictions\n",
    "rf_t.fit(x_train, y_train)\n",
    "rf_t_pred = rf_t.predict(x_test)"
   ]
  },
  {
   "cell_type": "code",
   "execution_count": 51,
   "metadata": {},
   "outputs": [
    {
     "name": "stdout",
     "output_type": "stream",
     "text": [
      "              precision    recall  f1-score   support\n",
      "\n",
      "           0       0.89      1.00      0.94       245\n",
      "           1       0.80      0.11      0.20        35\n",
      "\n",
      "   micro avg       0.89      0.89      0.89       280\n",
      "   macro avg       0.84      0.56      0.57       280\n",
      "weighted avg       0.88      0.89      0.85       280\n",
      "\n"
     ]
    }
   ],
   "source": [
    "rf_report = classification_report(y_test, rf_t_pred)\n",
    "print(rf_report)"
   ]
  },
  {
   "cell_type": "code",
   "execution_count": 52,
   "metadata": {},
   "outputs": [
    {
     "data": {
      "text/plain": [
       "5"
      ]
     },
     "execution_count": 52,
     "metadata": {},
     "output_type": "execute_result"
    }
   ],
   "source": [
    "rf_t_pred.sum()"
   ]
  },
  {
   "cell_type": "code",
   "execution_count": 53,
   "metadata": {},
   "outputs": [],
   "source": [
    "#Creating a data frame that looks at the variables and their coefficients in this model\n",
    "featuresRF = pd.DataFrame(columns = ['Variable', 'Coef'])\n",
    "featuresRF['Variable'] = list(x)\n",
    "#featuresRF['Coef'] = abs(rf_t.feature_importances_)\n",
    "featuresRF['Coef'] = rf_t.feature_importances_\n",
    "featuresRF.sort_values(by = 'Coef', ascending = False, inplace = True)\n",
    "featuresRF = featuresRF[0:20]"
   ]
  },
  {
   "cell_type": "code",
   "execution_count": 54,
   "metadata": {
    "scrolled": false
   },
   "outputs": [
    {
     "data": {
      "text/plain": [
       "Text(0.5, 1.0, 'Top 20 Variables in the Random Forest Classifier')"
      ]
     },
     "execution_count": 54,
     "metadata": {},
     "output_type": "execute_result"
    },
    {
     "data": {
      "image/png": "[encoded data removed]",
      "text/plain": [
       "<Figure size 1152x576 with 1 Axes>"
      ]
     },
     "metadata": {
      "needs_background": "light"
     },
     "output_type": "display_data"
    }
   ],
   "source": [
    "#Plotting the top 20 variables by their coefficient value\n",
    "f, ax = plt.subplots(figsize=(16, 8))\n",
    "plt.xticks(rotation='90')\n",
    "sns.barplot(x=featuresRF['Variable'], y = featuresRF['Coef'])\n",
    "plt.xlabel('Poverty Indicators', fontsize=16)\n",
    "plt.ylabel('Coefficient', fontsize=16)\n",
    "plt.title('Top 20 Variables in the Random Forest Classifier', fontsize=16)"
   ]
  },
  {
   "cell_type": "markdown",
   "metadata": {},
   "source": [
    "<a name=\"12\"></a>"
   ]
  },
  {
   "cell_type": "markdown",
   "metadata": {},
   "source": [
    "## Addressing the Inbalance "
   ]
  },
  {
   "cell_type": "markdown",
   "metadata": {},
   "source": [
    "Having a large inbalance in my target variable will cause my classification model to perform poorly. It is learning the 0 observations very well but it can't learn very much from the 1 observations. To address this, I will be using a specific method of oversampling called [SMOTE](https://imbalanced-learn.readthedocs.io/en/stable/generated/imblearn.over_sampling.SMOTE.html) (Synthetic Minority Over-sampling Technique). I followed the kernel of [Nick Becker](https://beckernick.github.io/oversampling-modeling/), a Data Scientist for Enigma Technologies, who provided an excellent example on implementing SMOTE oversampling the correct way. In the following model, I am only oversampling on the training data, not the validation data. So when I go and test the model, it will only be tested on real data and not on any synthetic observations that were created for oversampling. "
   ]
  },
  {
   "cell_type": "code",
   "execution_count": 55,
   "metadata": {},
   "outputs": [],
   "source": [
    "#Oversampling with SMOTE\n",
    "x_train, x_test, y_train, y_test = train_test_split(x, y,\n",
    "                                                  test_size = .1,\n",
    "                                                  random_state=12)"
   ]
  },
  {
   "cell_type": "code",
   "execution_count": 56,
   "metadata": {},
   "outputs": [],
   "source": [
    "sm = SMOTE(random_state=12, ratio = 1.0)\n",
    "x_train_res, y_train_res = sm.fit_sample(x_train, y_train)"
   ]
  },
  {
   "cell_type": "code",
   "execution_count": 57,
   "metadata": {},
   "outputs": [],
   "source": [
    "clf_rf = RandomForestClassifier(n_estimators=25, random_state=12)\n",
    "clf_rf.fit(x_train_res, y_train_res)\n",
    "clf_rf_pred = clf_rf.predict(x_test)"
   ]
  },
  {
   "cell_type": "code",
   "execution_count": 58,
   "metadata": {
    "scrolled": true
   },
   "outputs": [
    {
     "name": "stdout",
     "output_type": "stream",
     "text": [
      "              precision    recall  f1-score   support\n",
      "\n",
      "           0       0.94      0.93      0.94        88\n",
      "           1       0.14      0.17      0.15         6\n",
      "\n",
      "   micro avg       0.88      0.88      0.88        94\n",
      "   macro avg       0.54      0.55      0.55        94\n",
      "weighted avg       0.89      0.88      0.89        94\n",
      "\n"
     ]
    }
   ],
   "source": [
    "clf_rf_report = classification_report(y_test, clf_rf_pred)\n",
    "print(clf_rf_report)"
   ]
  },
  {
   "cell_type": "code",
   "execution_count": 59,
   "metadata": {},
   "outputs": [
    {
     "data": {
      "text/plain": [
       "7"
      ]
     },
     "execution_count": 59,
     "metadata": {},
     "output_type": "execute_result"
    }
   ],
   "source": [
    "clf_rf_pred.sum()"
   ]
  },
  {
   "cell_type": "markdown",
   "metadata": {},
   "source": [
    "Precision and Recall are low, but the estimation is only 1 off the real observations. For this particular model, I do not care that it predicts the correct observations to convert to Partners, but that it gives me the best estimate of the total amount of observations that will convert to Partners. Based off of this report, the model is doing a good job for what I want to observe. It will take a lot more data and comaprison with human predictions before I can understand if it is a good model or not, but for now I am on the right track. "
   ]
  },
  {
   "cell_type": "code",
   "execution_count": 60,
   "metadata": {},
   "outputs": [
    {
     "data": {
      "text/plain": [
       "Text(0.5, 1.0, 'Top 20 Variables in the Random Forest Classifier with SMOTE')"
      ]
     },
     "execution_count": 60,
     "metadata": {},
     "output_type": "execute_result"
    },
    {
     "data": {
      "image/png": "[encoded data removed]",
      "text/plain": [
       "<Figure size 1152x576 with 1 Axes>"
      ]
     },
     "metadata": {
      "needs_background": "light"
     },
     "output_type": "display_data"
    }
   ],
   "source": [
    "#Creating a data frame that looks at the variables and their coefficients in this model\n",
    "featuresRF = pd.DataFrame(columns = ['Variable', 'Coef'])\n",
    "featuresRF['Variable'] = list(x)\n",
    "featuresRF['Coef'] = abs(clf_rf.feature_importances_)\n",
    "#featuresRF['Coef'] = clf_rf.feature_importances_\n",
    "featuresRF.sort_values(by = 'Coef', ascending = False, inplace = True)\n",
    "featuresRF = featuresRF[0:20]\n",
    "\n",
    "#Plotting the top 20 variables by their coefficient value\n",
    "f, ax = plt.subplots(figsize=(16, 8))\n",
    "plt.xticks(rotation='90')\n",
    "sns.barplot(x=featuresRF['Variable'], y = featuresRF['Coef'])\n",
    "plt.xlabel('Outreach Variables', fontsize=16)\n",
    "plt.ylabel('Coefficient', fontsize=16)\n",
    "plt.title('Top 20 Variables in the Random Forest Classifier with SMOTE', fontsize=16)"
   ]
  },
  {
   "cell_type": "code",
   "execution_count": 61,
   "metadata": {},
   "outputs": [
    {
     "data": {
      "text/html": [
       "<div>\n",
       "<style scoped>\n",
       "    .dataframe tbody tr th:only-of-type {\n",
       "        vertical-align: middle;\n",
       "    }\n",
       "\n",
       "    .dataframe tbody tr th {\n",
       "        vertical-align: top;\n",
       "    }\n",
       "\n",
       "    .dataframe thead th {\n",
       "        text-align: right;\n",
       "    }\n",
       "</style>\n",
       "<table border=\"1\" class=\"dataframe\">\n",
       "  <thead>\n",
       "    <tr style=\"text-align: right;\">\n",
       "      <th></th>\n",
       "      <th>Variable</th>\n",
       "      <th>Coef</th>\n",
       "    </tr>\n",
       "  </thead>\n",
       "  <tbody>\n",
       "    <tr>\n",
       "      <th>0</th>\n",
       "      <td>DA</td>\n",
       "      <td>0.102480</td>\n",
       "    </tr>\n",
       "    <tr>\n",
       "      <th>74</th>\n",
       "      <td>Outreacher_drewhunt</td>\n",
       "      <td>0.069152</td>\n",
       "    </tr>\n",
       "    <tr>\n",
       "      <th>50</th>\n",
       "      <td>Category_Travel and Tourism</td>\n",
       "      <td>0.065757</td>\n",
       "    </tr>\n",
       "    <tr>\n",
       "      <th>5</th>\n",
       "      <td>Hour of Day</td>\n",
       "      <td>0.050168</td>\n",
       "    </tr>\n",
       "    <tr>\n",
       "      <th>58</th>\n",
       "      <td>Medium_Contact Us Form</td>\n",
       "      <td>0.047976</td>\n",
       "    </tr>\n",
       "    <tr>\n",
       "      <th>51</th>\n",
       "      <td>Subject Line Type_Fan</td>\n",
       "      <td>0.043037</td>\n",
       "    </tr>\n",
       "    <tr>\n",
       "      <th>59</th>\n",
       "      <td>Medium_Email</td>\n",
       "      <td>0.042977</td>\n",
       "    </tr>\n",
       "    <tr>\n",
       "      <th>57</th>\n",
       "      <td>Subject Line Type_no subject</td>\n",
       "      <td>0.042870</td>\n",
       "    </tr>\n",
       "    <tr>\n",
       "      <th>17</th>\n",
       "      <td>Age_Young</td>\n",
       "      <td>0.034127</td>\n",
       "    </tr>\n",
       "    <tr>\n",
       "      <th>55</th>\n",
       "      <td>Subject Line Type_Sub/Cont</td>\n",
       "      <td>0.031088</td>\n",
       "    </tr>\n",
       "    <tr>\n",
       "      <th>1</th>\n",
       "      <td>Punctuation</td>\n",
       "      <td>0.023917</td>\n",
       "    </tr>\n",
       "    <tr>\n",
       "      <th>8</th>\n",
       "      <td>Race_name_Latino</td>\n",
       "      <td>0.023505</td>\n",
       "    </tr>\n",
       "    <tr>\n",
       "      <th>63</th>\n",
       "      <td>Day of Week_Fri</td>\n",
       "      <td>0.023330</td>\n",
       "    </tr>\n",
       "    <tr>\n",
       "      <th>68</th>\n",
       "      <td>Day of Week_Wed</td>\n",
       "      <td>0.023057</td>\n",
       "    </tr>\n",
       "    <tr>\n",
       "      <th>15</th>\n",
       "      <td>Age_Middle</td>\n",
       "      <td>0.020081</td>\n",
       "    </tr>\n",
       "    <tr>\n",
       "      <th>38</th>\n",
       "      <td>Category_Health and Medicine</td>\n",
       "      <td>0.018098</td>\n",
       "    </tr>\n",
       "    <tr>\n",
       "      <th>64</th>\n",
       "      <td>Day of Week_Mon</td>\n",
       "      <td>0.017452</td>\n",
       "    </tr>\n",
       "    <tr>\n",
       "      <th>6</th>\n",
       "      <td>Gender_Female</td>\n",
       "      <td>0.016510</td>\n",
       "    </tr>\n",
       "    <tr>\n",
       "      <th>52</th>\n",
       "      <td>Subject Line Type_Guest</td>\n",
       "      <td>0.016072</td>\n",
       "    </tr>\n",
       "    <tr>\n",
       "      <th>3</th>\n",
       "      <td>Emoji</td>\n",
       "      <td>0.015868</td>\n",
       "    </tr>\n",
       "  </tbody>\n",
       "</table>\n",
       "</div>"
      ],
      "text/plain": [
       "                        Variable      Coef\n",
       "0                             DA  0.102480\n",
       "74           Outreacher_drewhunt  0.069152\n",
       "50   Category_Travel and Tourism  0.065757\n",
       "5                    Hour of Day  0.050168\n",
       "58        Medium_Contact Us Form  0.047976\n",
       "51         Subject Line Type_Fan  0.043037\n",
       "59                  Medium_Email  0.042977\n",
       "57  Subject Line Type_no subject  0.042870\n",
       "17                     Age_Young  0.034127\n",
       "55    Subject Line Type_Sub/Cont  0.031088\n",
       "1                    Punctuation  0.023917\n",
       "8               Race_name_Latino  0.023505\n",
       "63               Day of Week_Fri  0.023330\n",
       "68               Day of Week_Wed  0.023057\n",
       "15                    Age_Middle  0.020081\n",
       "38  Category_Health and Medicine  0.018098\n",
       "64               Day of Week_Mon  0.017452\n",
       "6                  Gender_Female  0.016510\n",
       "52       Subject Line Type_Guest  0.016072\n",
       "3                          Emoji  0.015868"
      ]
     },
     "execution_count": 61,
     "metadata": {},
     "output_type": "execute_result"
    }
   ],
   "source": [
    "featuresRF.head(20)"
   ]
  },
  {
   "cell_type": "markdown",
   "metadata": {},
   "source": [
    "After discussing with a few of my team members the breakdown of the coefficients on these variables, we have concluded that the model seems to be doing what we would expect it to do. The Outreacher variables are causing me to question whether or not they should be included in the model because we will always be having Outreachers come in and out of the team, so that is something I will look at further down. "
   ]
  },
  {
   "cell_type": "markdown",
   "metadata": {},
   "source": [
    "<a name=\"13\"></a>"
   ]
  },
  {
   "cell_type": "markdown",
   "metadata": {},
   "source": [
    "## Testing on Past Data\n",
    "\n",
    "I am going to split my data so that I have a training set on everything through January and a test set from work done in February. I think an appropriate amount of turn around time would be to 2 months to see whether or not Outreach efforts will convert to Partners, but Running an analysis on February should help give me a decent idea on how well the model is doing with a small amount of data. "
   ]
  },
  {
   "cell_type": "code",
   "execution_count": 62,
   "metadata": {},
   "outputs": [],
   "source": [
    "#Creating separate dataset that I will filter to only show Aug-Jan\n",
    "xxfebdata = data.copy()"
   ]
  },
  {
   "cell_type": "code",
   "execution_count": 63,
   "metadata": {},
   "outputs": [
    {
     "data": {
      "text/plain": [
       "Month\n",
       "August        0\n",
       "December      9\n",
       "February     12\n",
       "January      18\n",
       "March         1\n",
       "November     19\n",
       "October      19\n",
       "September    19\n",
       "Name: Partner, dtype: int64"
      ]
     },
     "execution_count": 63,
     "metadata": {},
     "output_type": "execute_result"
    }
   ],
   "source": [
    "#Showing our current output numbers for each month since August\n",
    "xxfebdata.groupby(['Month'])['Partner'].sum()"
   ]
  },
  {
   "cell_type": "code",
   "execution_count": 64,
   "metadata": {},
   "outputs": [
    {
     "data": {
      "text/plain": [
       "(933, 21)"
      ]
     },
     "execution_count": 64,
     "metadata": {},
     "output_type": "execute_result"
    }
   ],
   "source": [
    "#Creating dataset that I will filter to only show Feb\n",
    "xxfebdata.shape"
   ]
  },
  {
   "cell_type": "code",
   "execution_count": 65,
   "metadata": {},
   "outputs": [
    {
     "data": {
      "text/plain": [
       "(933, 21)"
      ]
     },
     "execution_count": 65,
     "metadata": {},
     "output_type": "execute_result"
    }
   ],
   "source": [
    "febdata = data.copy()\n",
    "febdata.shape"
   ]
  },
  {
   "cell_type": "code",
   "execution_count": 66,
   "metadata": {},
   "outputs": [
    {
     "data": {
      "text/plain": [
       "(933, 21)"
      ]
     },
     "execution_count": 66,
     "metadata": {},
     "output_type": "execute_result"
    }
   ],
   "source": [
    "febdata.shape"
   ]
  },
  {
   "cell_type": "code",
   "execution_count": 67,
   "metadata": {},
   "outputs": [
    {
     "data": {
      "text/plain": [
       "array(['December', 'January', 'November', 'October', 'August',\n",
       "       'September', 'February', 'March'], dtype=object)"
      ]
     },
     "execution_count": 67,
     "metadata": {},
     "output_type": "execute_result"
    }
   ],
   "source": [
    "febdata.Month.unique()"
   ]
  },
  {
   "cell_type": "code",
   "execution_count": 68,
   "metadata": {},
   "outputs": [
    {
     "data": {
      "text/plain": [
       "Month\n",
       "August        0\n",
       "December      9\n",
       "February     12\n",
       "January      18\n",
       "March         1\n",
       "November     19\n",
       "October      19\n",
       "September    19\n",
       "Name: Partner, dtype: int64"
      ]
     },
     "execution_count": 68,
     "metadata": {},
     "output_type": "execute_result"
    }
   ],
   "source": [
    "febdata.groupby(['Month'])['Partner'].sum()"
   ]
  },
  {
   "cell_type": "code",
   "execution_count": 69,
   "metadata": {},
   "outputs": [],
   "source": [
    "xxfebdata = xxfebdata.drop(columns = ['Contact Email Type', 'Number of Emails'], \n",
    "                           axis = 1)\n",
    "febdata = febdata.drop(columns = ['Contact Email Type', 'Number of Emails'], \n",
    "                           axis = 1)"
   ]
  },
  {
   "cell_type": "code",
   "execution_count": 70,
   "metadata": {},
   "outputs": [
    {
     "name": "stdout",
     "output_type": "stream",
     "text": [
      "(933, 89)\n",
      "(933, 89)\n"
     ]
    }
   ],
   "source": [
    "xxfebdata = pd.get_dummies(xxfebdata)\n",
    "febdata = pd.get_dummies(febdata)\n",
    "print(xxfebdata.shape)\n",
    "print(febdata.shape)"
   ]
  },
  {
   "cell_type": "code",
   "execution_count": 71,
   "metadata": {},
   "outputs": [],
   "source": [
    "for index, row in xxfebdata.iterrows():\n",
    "    if row.Month_February == 1:\n",
    "        xxfebdata.drop(index, inplace = True)"
   ]
  },
  {
   "cell_type": "code",
   "execution_count": 72,
   "metadata": {},
   "outputs": [],
   "source": [
    "for index, row in febdata.iterrows():\n",
    "    if row.Month_February == 0:\n",
    "        febdata.drop(index, inplace = True)"
   ]
  },
  {
   "cell_type": "code",
   "execution_count": 73,
   "metadata": {},
   "outputs": [
    {
     "name": "stdout",
     "output_type": "stream",
     "text": [
      "(706, 80)\n",
      "(227, 80)\n"
     ]
    }
   ],
   "source": [
    "xxfebdata = xxfebdata.drop(columns = ['Response','Month_August', 'Month_December', 'Month_February', \n",
    "                                      'Month_January',\n",
    "       'Month_March', 'Month_November', 'Month_October', 'Month_September'], \n",
    "                           axis = 1)\n",
    "febdata = febdata.drop(columns = ['Response','Month_August', 'Month_December', 'Month_February', \n",
    "                                  'Month_January',\n",
    "       'Month_March', 'Month_November', 'Month_October', 'Month_September'], \n",
    "                           axis = 1)\n",
    "print(xxfebdata.shape)\n",
    "print(febdata.shape)"
   ]
  },
  {
   "cell_type": "code",
   "execution_count": 74,
   "metadata": {},
   "outputs": [],
   "source": [
    "y = xxfebdata.Partner\n",
    "xxfebdata = xxfebdata.drop(columns = ['Partner'])\n",
    "febdata = febdata.drop(columns = ['Partner'])\n",
    "x = xxfebdata"
   ]
  },
  {
   "cell_type": "code",
   "execution_count": 75,
   "metadata": {},
   "outputs": [],
   "source": [
    "#Oversampling with SMOTE\n",
    "x_train, x_val, y_train, y_val = train_test_split(x, y,\n",
    "                                                  test_size = .1,\n",
    "                                                  random_state=12)"
   ]
  },
  {
   "cell_type": "code",
   "execution_count": 76,
   "metadata": {},
   "outputs": [
    {
     "data": {
      "text/plain": [
       "RandomForestClassifier(bootstrap=True, class_weight=None, criterion='gini',\n",
       "            max_depth=None, max_features='auto', max_leaf_nodes=None,\n",
       "            min_impurity_decrease=0.0, min_impurity_split=None,\n",
       "            min_samples_leaf=1, min_samples_split=2,\n",
       "            min_weight_fraction_leaf=0.0, n_estimators=25, n_jobs=None,\n",
       "            oob_score=False, random_state=12, verbose=0, warm_start=False)"
      ]
     },
     "execution_count": 76,
     "metadata": {},
     "output_type": "execute_result"
    }
   ],
   "source": [
    "#Training model on data that excludes february\n",
    "sm = SMOTE(random_state=12, ratio = 1.0)\n",
    "x_train_res, y_train_res = sm.fit_sample(x_train, y_train)\n",
    "\n",
    "xfeb_rf = RandomForestClassifier(n_estimators=25, random_state=12)\n",
    "xfeb_rf.fit(x_train_res, y_train_res)"
   ]
  },
  {
   "cell_type": "code",
   "execution_count": 77,
   "metadata": {},
   "outputs": [],
   "source": [
    "xreal = febdata\n",
    "#Predicition on February Data\n",
    "feb_pred = xfeb_rf.predict(xreal)"
   ]
  },
  {
   "cell_type": "code",
   "execution_count": 78,
   "metadata": {},
   "outputs": [
    {
     "data": {
      "text/plain": [
       "7"
      ]
     },
     "execution_count": 78,
     "metadata": {},
     "output_type": "execute_result"
    }
   ],
   "source": [
    "feb_pred.sum()"
   ]
  },
  {
   "cell_type": "markdown",
   "metadata": {},
   "source": [
    "February prediction was off by 5. I am not sure whether or not this is good or bad. I will have to compare it to our own team prediction. Hopefully the machine will do a better job than we can based off of our own inference. "
   ]
  },
  {
   "cell_type": "markdown",
   "metadata": {},
   "source": [
    "<a name=\"14\"></a>"
   ]
  },
  {
   "cell_type": "markdown",
   "metadata": {},
   "source": [
    "# Predicting March Partner Acquisition"
   ]
  },
  {
   "cell_type": "markdown",
   "metadata": {},
   "source": [
    "During the course of this project, I have streamlined the data extraction process from Streak using Google Sheets. I will now import the new data, drop everything from March 2019 and on, and train on the data from August 2018 - 2019. In this section, I will also try out a few different models to see if anything is better than the Random Forest Classifier. I will still use SMOTE to address the inbalance in my data, but I might try some weighting and other methods to see if I can't improve my model. \n",
    "\n",
    "After I get my model put together, I will use it to predict our output from everything we did in March 2019. I will compare it to our human estimates and then compare the actual results after a couple of months. Hopefully the estimate will be close, if not then I may need to totally redo my model. If it is reasonably close, I can be confident that it will continue to improve as more and more data becomes available to us.  "
   ]
  },
  {
   "cell_type": "markdown",
   "metadata": {},
   "source": [
    "<a name=\"15\"></a>"
   ]
  },
  {
   "cell_type": "markdown",
   "metadata": {},
   "source": [
    "## Setting Up the New Data"
   ]
  },
  {
   "cell_type": "code",
   "execution_count": 79,
   "metadata": {},
   "outputs": [],
   "source": [
    "train = pd.read_excel(\"file:///Users/codypulsipher/Documents/Pythondocs/StreakDATA.xlsx\")"
   ]
  },
  {
   "cell_type": "code",
   "execution_count": 80,
   "metadata": {},
   "outputs": [
    {
     "data": {
      "text/html": [
       "<div>\n",
       "<style scoped>\n",
       "    .dataframe tbody tr th:only-of-type {\n",
       "        vertical-align: middle;\n",
       "    }\n",
       "\n",
       "    .dataframe tbody tr th {\n",
       "        vertical-align: top;\n",
       "    }\n",
       "\n",
       "    .dataframe thead th {\n",
       "        text-align: right;\n",
       "    }\n",
       "</style>\n",
       "<table border=\"1\" class=\"dataframe\">\n",
       "  <thead>\n",
       "    <tr style=\"text-align: right;\">\n",
       "      <th></th>\n",
       "      <th>Gender</th>\n",
       "      <th>Race_name</th>\n",
       "      <th>Race_pic</th>\n",
       "      <th>Age</th>\n",
       "      <th>Name</th>\n",
       "      <th>Domain Type</th>\n",
       "      <th>DA</th>\n",
       "      <th>Category</th>\n",
       "      <th>Contact Email Type</th>\n",
       "      <th>Subject Line Type</th>\n",
       "      <th>Punctuation</th>\n",
       "      <th>CAPS</th>\n",
       "      <th>Emoji</th>\n",
       "      <th>Article Included</th>\n",
       "      <th>Medium</th>\n",
       "      <th>MonthYr</th>\n",
       "      <th>Day of Week</th>\n",
       "      <th>Hour of Day</th>\n",
       "      <th>Outreacher</th>\n",
       "      <th>Response</th>\n",
       "      <th>Partner</th>\n",
       "    </tr>\n",
       "  </thead>\n",
       "  <tbody>\n",
       "    <tr>\n",
       "      <th>0</th>\n",
       "      <td>Female</td>\n",
       "      <td>White</td>\n",
       "      <td>White</td>\n",
       "      <td>Middle</td>\n",
       "      <td>creativeoverflow.net</td>\n",
       "      <td>.net</td>\n",
       "      <td>52</td>\n",
       "      <td>Arts and Crafts</td>\n",
       "      <td>na</td>\n",
       "      <td>Fan</td>\n",
       "      <td>0</td>\n",
       "      <td>1</td>\n",
       "      <td>1</td>\n",
       "      <td>1</td>\n",
       "      <td>Email</td>\n",
       "      <td>April19</td>\n",
       "      <td>Wed</td>\n",
       "      <td>12</td>\n",
       "      <td>joserodr</td>\n",
       "      <td>0</td>\n",
       "      <td>0</td>\n",
       "    </tr>\n",
       "    <tr>\n",
       "      <th>1</th>\n",
       "      <td>Male</td>\n",
       "      <td>Latino</td>\n",
       "      <td>Latino</td>\n",
       "      <td>Young</td>\n",
       "      <td>laughtard.com</td>\n",
       "      <td>.com</td>\n",
       "      <td>39</td>\n",
       "      <td>Travel and Tourism</td>\n",
       "      <td>na</td>\n",
       "      <td>Guest</td>\n",
       "      <td>0</td>\n",
       "      <td>0</td>\n",
       "      <td>0</td>\n",
       "      <td>0</td>\n",
       "      <td>Contact Us Form</td>\n",
       "      <td>April19</td>\n",
       "      <td>Tue</td>\n",
       "      <td>19</td>\n",
       "      <td>williamd</td>\n",
       "      <td>0</td>\n",
       "      <td>0</td>\n",
       "    </tr>\n",
       "    <tr>\n",
       "      <th>2</th>\n",
       "      <td>Female</td>\n",
       "      <td>White</td>\n",
       "      <td>White</td>\n",
       "      <td>Middle</td>\n",
       "      <td>get-a-wingman.com</td>\n",
       "      <td>.com</td>\n",
       "      <td>45</td>\n",
       "      <td>Health and Medicine</td>\n",
       "      <td>na</td>\n",
       "      <td>Inquiry</td>\n",
       "      <td>0</td>\n",
       "      <td>0</td>\n",
       "      <td>0</td>\n",
       "      <td>0</td>\n",
       "      <td>Email</td>\n",
       "      <td>April19</td>\n",
       "      <td>Tue</td>\n",
       "      <td>19</td>\n",
       "      <td>williamd</td>\n",
       "      <td>0</td>\n",
       "      <td>0</td>\n",
       "    </tr>\n",
       "    <tr>\n",
       "      <th>3</th>\n",
       "      <td>Female</td>\n",
       "      <td>White</td>\n",
       "      <td>White</td>\n",
       "      <td>Middle</td>\n",
       "      <td>becomegorgeous.com</td>\n",
       "      <td>.com</td>\n",
       "      <td>63</td>\n",
       "      <td>Health and Medicine</td>\n",
       "      <td>name</td>\n",
       "      <td>Inquiry</td>\n",
       "      <td>0</td>\n",
       "      <td>0</td>\n",
       "      <td>0</td>\n",
       "      <td>0</td>\n",
       "      <td>Email</td>\n",
       "      <td>April19</td>\n",
       "      <td>Tue</td>\n",
       "      <td>18</td>\n",
       "      <td>williamd</td>\n",
       "      <td>0</td>\n",
       "      <td>0</td>\n",
       "    </tr>\n",
       "    <tr>\n",
       "      <th>4</th>\n",
       "      <td>Female</td>\n",
       "      <td>White</td>\n",
       "      <td>White</td>\n",
       "      <td>Middle</td>\n",
       "      <td>seniordirectory.com</td>\n",
       "      <td>.com</td>\n",
       "      <td>38</td>\n",
       "      <td>Health and Medicine</td>\n",
       "      <td>info</td>\n",
       "      <td>Guest</td>\n",
       "      <td>0</td>\n",
       "      <td>0</td>\n",
       "      <td>0</td>\n",
       "      <td>0</td>\n",
       "      <td>Email</td>\n",
       "      <td>April19</td>\n",
       "      <td>Tue</td>\n",
       "      <td>18</td>\n",
       "      <td>williamd</td>\n",
       "      <td>0</td>\n",
       "      <td>0</td>\n",
       "    </tr>\n",
       "  </tbody>\n",
       "</table>\n",
       "</div>"
      ],
      "text/plain": [
       "   Gender Race_name Race_pic     Age                  Name Domain Type  DA  \\\n",
       "0  Female     White    White  Middle  creativeoverflow.net        .net  52   \n",
       "1    Male    Latino   Latino   Young         laughtard.com        .com  39   \n",
       "2  Female     White    White  Middle     get-a-wingman.com        .com  45   \n",
       "3  Female     White    White  Middle    becomegorgeous.com        .com  63   \n",
       "4  Female     White    White  Middle   seniordirectory.com        .com  38   \n",
       "\n",
       "              Category Contact Email Type Subject Line Type  Punctuation  \\\n",
       "0      Arts and Crafts                 na               Fan            0   \n",
       "1   Travel and Tourism                 na             Guest            0   \n",
       "2  Health and Medicine                 na           Inquiry            0   \n",
       "3  Health and Medicine               name           Inquiry            0   \n",
       "4  Health and Medicine               info             Guest            0   \n",
       "\n",
       "   CAPS  Emoji  Article Included           Medium  MonthYr Day of Week  \\\n",
       "0     1      1                 1            Email  April19         Wed   \n",
       "1     0      0                 0  Contact Us Form  April19         Tue   \n",
       "2     0      0                 0            Email  April19         Tue   \n",
       "3     0      0                 0            Email  April19         Tue   \n",
       "4     0      0                 0            Email  April19         Tue   \n",
       "\n",
       "   Hour of Day Outreacher  Response  Partner  \n",
       "0           12   joserodr         0        0  \n",
       "1           19   williamd         0        0  \n",
       "2           19   williamd         0        0  \n",
       "3           18   williamd         0        0  \n",
       "4           18   williamd         0        0  "
      ]
     },
     "execution_count": 80,
     "metadata": {},
     "output_type": "execute_result"
    }
   ],
   "source": [
    "#Checking to see that the data looks good\n",
    "train.head()"
   ]
  },
  {
   "cell_type": "code",
   "execution_count": 81,
   "metadata": {},
   "outputs": [
    {
     "name": "stdout",
     "output_type": "stream",
     "text": [
      "<class 'pandas.core.frame.DataFrame'>\n",
      "RangeIndex: 1237 entries, 0 to 1236\n",
      "Data columns (total 21 columns):\n",
      "Gender                1237 non-null object\n",
      "Race_name             1237 non-null object\n",
      "Race_pic              1237 non-null object\n",
      "Age                   1237 non-null object\n",
      "Name                  1237 non-null object\n",
      "Domain Type           1237 non-null object\n",
      "DA                    1237 non-null int64\n",
      "Category              1237 non-null object\n",
      "Contact Email Type    1237 non-null object\n",
      "Subject Line Type     1237 non-null object\n",
      "Punctuation           1237 non-null int64\n",
      "CAPS                  1237 non-null int64\n",
      "Emoji                 1237 non-null int64\n",
      "Article Included      1237 non-null int64\n",
      "Medium                1237 non-null object\n",
      "MonthYr               1237 non-null object\n",
      "Day of Week           1237 non-null object\n",
      "Hour of Day           1237 non-null int64\n",
      "Outreacher            1237 non-null object\n",
      "Response              1237 non-null int64\n",
      "Partner               1237 non-null int64\n",
      "dtypes: int64(8), object(13)\n",
      "memory usage: 203.0+ KB\n"
     ]
    }
   ],
   "source": [
    "#Making sure all of my columns imported correctly\n",
    "train.info()"
   ]
  },
  {
   "cell_type": "code",
   "execution_count": 82,
   "metadata": {},
   "outputs": [
    {
     "data": {
      "text/plain": [
       "array(['April19', 'March19', 'February19', 'January19', 'December18',\n",
       "       'October18', 'September18', 'November18', 'August18'], dtype=object)"
      ]
     },
     "execution_count": 82,
     "metadata": {},
     "output_type": "execute_result"
    }
   ],
   "source": [
    "#Looking at the time range of current data\n",
    "train.MonthYr.unique()"
   ]
  },
  {
   "cell_type": "code",
   "execution_count": 83,
   "metadata": {},
   "outputs": [],
   "source": [
    "#Becuase we are missing so much of this data, I am dropping contact email type\n",
    "#I will also drop Response since that is not something I want to look at right now, or include\n",
    "#I will also drop Name since that is not needed here\n",
    "train = train.drop(columns = ['Contact Email Type','Response','Name'])"
   ]
  },
  {
   "cell_type": "code",
   "execution_count": 84,
   "metadata": {},
   "outputs": [
    {
     "name": "stdout",
     "output_type": "stream",
     "text": [
      "(1237, 93)\n",
      "(1212, 93)\n"
     ]
    }
   ],
   "source": [
    "#Getting dummy variables to ensure that when I split my training data from my test data, they are compatible \n",
    "train = pd.get_dummies(train)\n",
    "print(train.shape)\n",
    "#Removing April19 from data since it is not relevant to my current analysis\n",
    "for index, row in train.iterrows():\n",
    "    if row.MonthYr_April19 == 1:\n",
    "        train.drop(index, inplace = True)\n",
    "print(train.shape)"
   ]
  },
  {
   "cell_type": "code",
   "execution_count": 85,
   "metadata": {},
   "outputs": [
    {
     "data": {
      "text/plain": [
       "(272, 93)"
      ]
     },
     "execution_count": 85,
     "metadata": {},
     "output_type": "execute_result"
    }
   ],
   "source": [
    "#Creating test data set for March\n",
    "march = train.copy()\n",
    "\n",
    "for index, row in march.iterrows():\n",
    "    if row.MonthYr_March19 == 0:\n",
    "        march.drop(index, inplace = True)\n",
    "march.shape"
   ]
  },
  {
   "cell_type": "code",
   "execution_count": 86,
   "metadata": {},
   "outputs": [
    {
     "data": {
      "text/plain": [
       "(940, 93)"
      ]
     },
     "execution_count": 86,
     "metadata": {},
     "output_type": "execute_result"
    }
   ],
   "source": [
    "#Dropping March from the training data\n",
    "for index, row in train.iterrows():\n",
    "    if row.MonthYr_March19 == 1:\n",
    "        train.drop(index, inplace = True)\n",
    "train.shape"
   ]
  },
  {
   "cell_type": "markdown",
   "metadata": {},
   "source": [
    "<a name=\"16\"></a>"
   ]
  },
  {
   "cell_type": "markdown",
   "metadata": {},
   "source": [
    "## Testing and Tuning Without Oversampling"
   ]
  },
  {
   "cell_type": "code",
   "execution_count": 87,
   "metadata": {},
   "outputs": [],
   "source": [
    "#Setting target and data variables and dropping the target variable from my training data\n",
    "y = train.Partner\n",
    "train = train.drop(columns = ['Partner'])\n",
    "x = train"
   ]
  },
  {
   "cell_type": "code",
   "execution_count": 88,
   "metadata": {},
   "outputs": [],
   "source": [
    "#Get splitting training data into a train_test_split\n",
    "x_train, x_test, y_train, y_test = train_test_split(x, y, test_size = .3)"
   ]
  },
  {
   "cell_type": "code",
   "execution_count": 89,
   "metadata": {},
   "outputs": [],
   "source": [
    "#This is a function from ngriffiths13 that will get the macro-F1 score of the model, with CV = 10 instead of 5\n",
    "def test_clf(clf):\n",
    "    score = cross_val_score(clf, x, y, scoring = 'f1_macro', cv = 10)\n",
    "    print(clf.__class__.__name__,\"Score =\", score.mean())"
   ]
  },
  {
   "cell_type": "code",
   "execution_count": 90,
   "metadata": {
    "scrolled": true
   },
   "outputs": [
    {
     "name": "stdout",
     "output_type": "stream",
     "text": [
      "RandomForestClassifier Score = 0.5028406575019697\n",
      "LGBMClassifier Score = 0.5095993832101486\n",
      "KNeighborsClassifier Score = 0.46799994500089576\n",
      "SVC Score = 0.47161455509840733\n",
      "GaussianNB Score = 0.2578629332689672\n"
     ]
    }
   ],
   "source": [
    "rf = RandomForestClassifier()\n",
    "lgb = LGBMClassifier()\n",
    "knn = KNeighborsClassifier()\n",
    "svc = SVC()\n",
    "gnb = GaussianNB()\n",
    "\n",
    "models = [rf, lgb, knn, svc, gnb]\n",
    "for clf in models:\n",
    "    test_clf(clf)"
   ]
  },
  {
   "cell_type": "markdown",
   "metadata": {},
   "source": [
    "Some of these scored pretty similarly, the best f1_macro scores comes from the LGBM and the RF classifiers"
   ]
  },
  {
   "cell_type": "code",
   "execution_count": 91,
   "metadata": {},
   "outputs": [
    {
     "data": {
      "text/plain": [
       "<bound method BaseEstimator.get_params of RandomForestClassifier(bootstrap=True, class_weight=None, criterion='gini',\n",
       "            max_depth=None, max_features='auto', max_leaf_nodes=None,\n",
       "            min_impurity_decrease=0.0, min_impurity_split=None,\n",
       "            min_samples_leaf=1, min_samples_split=2,\n",
       "            min_weight_fraction_leaf=0.0, n_estimators='warn', n_jobs=None,\n",
       "            oob_score=False, random_state=None, verbose=0,\n",
       "            warm_start=False)>"
      ]
     },
     "execution_count": 91,
     "metadata": {},
     "output_type": "execute_result"
    }
   ],
   "source": [
    "rf.get_params"
   ]
  },
  {
   "cell_type": "code",
   "execution_count": 92,
   "metadata": {},
   "outputs": [
    {
     "data": {
      "text/plain": [
       "<bound method LGBMModel.get_params of LGBMClassifier(boosting_type='gbdt', class_weight=None, colsample_bytree=1.0,\n",
       "        importance_type='split', learning_rate=0.1, max_depth=-1,\n",
       "        min_child_samples=20, min_child_weight=0.001, min_split_gain=0.0,\n",
       "        n_estimators=100, n_jobs=-1, num_leaves=31, objective=None,\n",
       "        random_state=None, reg_alpha=0.0, reg_lambda=0.0, silent=True,\n",
       "        subsample=1.0, subsample_for_bin=200000, subsample_freq=0)>"
      ]
     },
     "execution_count": 92,
     "metadata": {},
     "output_type": "execute_result"
    }
   ],
   "source": [
    "lgb.get_params"
   ]
  },
  {
   "cell_type": "code",
   "execution_count": 93,
   "metadata": {},
   "outputs": [],
   "source": [
    "#Setting params for randomized search hyperparameter tuning\n",
    "params = {'rf' : {'n_estimators' : np.arange(100,2000,100),\n",
    "                  'criterion' : ['gini', 'entropy'],\n",
    "                  'min_samples_split' : np.arange(2, 5, 1),\n",
    "                  'max_features' : np.arange(10, 50, 10),\n",
    "                  'max_depth' : np.arange(3, 10, 1)},\n",
    "          'lgb' : {'n_estimators' : np.arange(100,2000,100),\n",
    "                  'num_leaves' : np.arange(25, 40, 1),\n",
    "                  'max_depth' : np.arange(-5, 10, 1),\n",
    "                  'boosting_type' : ['gbdt','gbrt','dart','goss']}\n",
    "         }"
   ]
  },
  {
   "cell_type": "code",
   "execution_count": 94,
   "metadata": {},
   "outputs": [],
   "source": [
    "#Function taken from ngriffiths13\n",
    "def tune_params(clf, params):\n",
    "    clf_rs = RandomizedSearchCV(clf, param_distributions = params, n_iter = 20, scoring = 'f1_macro', verbose=1)\n",
    "    clf_rs.fit(x, y)\n",
    "    clf_rs_pred = clf_rs.predict(x_test)\n",
    "    score = f1_score(y_test, clf_rs_pred, average = 'macro')\n",
    "    print('F1 Score: %s \\n' %(score))\n",
    "    print('Best Parameters:',clf_rs.best_params_)"
   ]
  },
  {
   "cell_type": "code",
   "execution_count": 95,
   "metadata": {},
   "outputs": [],
   "source": [
    "#rf = tune_params(rf, params['rf'])\n",
    "#Best Parameters: {'n_estimators': 1300, 'min_samples_split': 4, 'max_features': 10, 'max_depth': 8, \n",
    "# 'criterion': 'gini'}"
   ]
  },
  {
   "cell_type": "code",
   "execution_count": 96,
   "metadata": {},
   "outputs": [
    {
     "name": "stdout",
     "output_type": "stream",
     "text": [
      "RandomForestClassifier Score = 0.4893905075282988\n"
     ]
    }
   ],
   "source": [
    "#Tuning hyperparameters of the RF classifier. Numbers taken from ngriffiths13\n",
    "rf = RandomForestClassifier(n_estimators = 200, min_samples_split = 3, max_features = 30, \n",
    "                            max_depth = 6, criterion = 'gini')\n",
    "test_clf(rf)"
   ]
  },
  {
   "cell_type": "code",
   "execution_count": 97,
   "metadata": {},
   "outputs": [],
   "source": [
    "#lgb = tune_params(lgb, params['lgb'])\n",
    "#Best Parameters: {'num_leaves': 39, 'n_estimators': 400, 'max_depth': 4, 'boosting_type': 'gbrt'}"
   ]
  },
  {
   "cell_type": "code",
   "execution_count": 98,
   "metadata": {},
   "outputs": [
    {
     "name": "stdout",
     "output_type": "stream",
     "text": [
      "LGBMClassifier Score = 0.514242960101635\n"
     ]
    }
   ],
   "source": [
    "#Tuning hyperparameters of the RF classifier. Numbers taken from ngriffiths13\n",
    "lgb = LGBMClassifier(num_leaves = 39, n_estimators = 1400, boosting_type = 'dart', \n",
    "                            max_depth = 3)\n",
    "test_clf(lgb)"
   ]
  },
  {
   "cell_type": "markdown",
   "metadata": {},
   "source": [
    "The RF model improved a bit, but I can't get the randomizedsearch to improve the LGBM classifier, so I will leave it with its default parameters."
   ]
  },
  {
   "cell_type": "code",
   "execution_count": 99,
   "metadata": {},
   "outputs": [],
   "source": [
    "lgb = LGBMClassifier()"
   ]
  },
  {
   "cell_type": "code",
   "execution_count": 100,
   "metadata": {},
   "outputs": [],
   "source": [
    "#Training models and making predictions\n",
    "rf.fit(x_train, y_train)\n",
    "rf_pred = rf.predict(x_test)\n",
    "knn.fit(x_train, y_train)\n",
    "knn_pred = knn.predict(x_test)\n",
    "lgb.fit(x_train, y_train)\n",
    "lgb_pred = lgb.predict(x_test)\n",
    "svc.fit(x_train, y_train)\n",
    "svc_pred = svc.predict(x_test)\n",
    "gnb.fit(x_train, y_train)\n",
    "gnb_pred = gnb.predict(x_test)"
   ]
  },
  {
   "cell_type": "code",
   "execution_count": 101,
   "metadata": {},
   "outputs": [
    {
     "name": "stdout",
     "output_type": "stream",
     "text": [
      "RF REPORT\n",
      "               precision    recall  f1-score   support\n",
      "\n",
      "           0       0.90      1.00      0.95       254\n",
      "           1       0.00      0.00      0.00        28\n",
      "\n",
      "   micro avg       0.90      0.90      0.90       282\n",
      "   macro avg       0.45      0.50      0.47       282\n",
      "weighted avg       0.81      0.90      0.85       282\n",
      " \n",
      "Partners Predicted:  0 \n",
      "\n",
      "KNN REPORT\n",
      "               precision    recall  f1-score   support\n",
      "\n",
      "           0       0.90      0.99      0.94       254\n",
      "           1       0.00      0.00      0.00        28\n",
      "\n",
      "   micro avg       0.89      0.89      0.89       282\n",
      "   macro avg       0.45      0.50      0.47       282\n",
      "weighted avg       0.81      0.89      0.85       282\n",
      " \n",
      "Partners Predicted:  2 \n",
      "\n",
      "LGB REPORT\n",
      "               precision    recall  f1-score   support\n",
      "\n",
      "           0       0.90      0.98      0.94       254\n",
      "           1       0.14      0.04      0.06        28\n",
      "\n",
      "   micro avg       0.88      0.88      0.88       282\n",
      "   macro avg       0.52      0.51      0.50       282\n",
      "weighted avg       0.83      0.88      0.85       282\n",
      " \n",
      "Partners Predicted:  7 \n",
      "\n",
      "SVC REPORT\n",
      "               precision    recall  f1-score   support\n",
      "\n",
      "           0       0.90      1.00      0.95       254\n",
      "           1       0.00      0.00      0.00        28\n",
      "\n",
      "   micro avg       0.90      0.90      0.90       282\n",
      "   macro avg       0.45      0.50      0.47       282\n",
      "weighted avg       0.81      0.90      0.85       282\n",
      " \n",
      "Partners Predicted:  0 \n",
      "\n",
      "GNB REPORT\n",
      "               precision    recall  f1-score   support\n",
      "\n",
      "           0       0.95      0.27      0.42       254\n",
      "           1       0.11      0.86      0.20        28\n",
      "\n",
      "   micro avg       0.33      0.33      0.33       282\n",
      "   macro avg       0.53      0.56      0.31       282\n",
      "weighted avg       0.86      0.33      0.40       282\n",
      " \n",
      "Partners Predicted:  209 \n",
      "\n"
     ]
    }
   ],
   "source": [
    "rf_report = classification_report(y_test, rf_pred)\n",
    "print('RF REPORT\\n',rf_report,'\\nPartners Predicted: ',rf_pred.sum(),'\\n')\n",
    "\n",
    "knn_report = classification_report(y_test, knn_pred)\n",
    "print('KNN REPORT\\n',knn_report,'\\nPartners Predicted: ',knn_pred.sum(),'\\n')\n",
    "\n",
    "lgb_report = classification_report(y_test, lgb_pred)\n",
    "print('LGB REPORT\\n',lgb_report,'\\nPartners Predicted: ',lgb_pred.sum(),'\\n')\n",
    "\n",
    "svc_report = classification_report(y_test, svc_pred)\n",
    "print('SVC REPORT\\n',svc_report,'\\nPartners Predicted: ',svc_pred.sum(),'\\n')\n",
    "\n",
    "gnb_report = classification_report(y_test, gnb_pred)\n",
    "print('GNB REPORT\\n',gnb_report,'\\nPartners Predicted: ',gnb_pred.sum(),'\\n')"
   ]
  },
  {
   "cell_type": "markdown",
   "metadata": {},
   "source": [
    "These all performed pretty terribly, but LGB predicted closer than any of the others. Enough playing around--it's time to address the unbalanced data."
   ]
  },
  {
   "cell_type": "markdown",
   "metadata": {},
   "source": [
    "<a name=\"17\"></a>"
   ]
  },
  {
   "cell_type": "markdown",
   "metadata": {},
   "source": [
    "## Oversampling and Weighting"
   ]
  },
  {
   "cell_type": "code",
   "execution_count": 102,
   "metadata": {},
   "outputs": [],
   "source": [
    "#Oversampling with SMOTE\n",
    "x_train, x_test, y_train, y_test = train_test_split(x, y, test_size = .1, random_state=12)"
   ]
  },
  {
   "cell_type": "code",
   "execution_count": 103,
   "metadata": {},
   "outputs": [],
   "source": [
    "sm = SMOTE(random_state=12, ratio = 1.0)\n",
    "x_train_res, y_train_res = sm.fit_sample(x_train, y_train)"
   ]
  },
  {
   "cell_type": "code",
   "execution_count": 104,
   "metadata": {},
   "outputs": [],
   "source": [
    "#Recreating function that uses SMOTE training data\n",
    "def tune_params(clf, params):\n",
    "    clf_rs = RandomizedSearchCV(clf, param_distributions = params, n_iter = 33, scoring = 'f1_macro', verbose=1)\n",
    "    clf_rs.fit(x_train_res, y_train_res)\n",
    "    clf_rs_pred = clf_rs.predict(x_test)\n",
    "    score = f1_score(y_test, clf_rs_pred, average = 'macro')\n",
    "    print('F1 Score: %s \\n' %(score))\n",
    "    print('Best Parameters:',clf_rs.best_params_)"
   ]
  },
  {
   "cell_type": "code",
   "execution_count": 105,
   "metadata": {},
   "outputs": [],
   "source": [
    "#rf = tune_params(rf, params['rf'])\n",
    "\n",
    "#Best Parameters: {'n_estimators': 1200, 'min_samples_split': 3, 'max_features': 30, 'max_depth': 9, \n",
    "# 'criterion': 'entropy'}"
   ]
  },
  {
   "cell_type": "code",
   "execution_count": 106,
   "metadata": {},
   "outputs": [],
   "source": [
    "rf = RandomForestClassifier(n_estimators = 1200, min_samples_split = 3, max_features = 30, \n",
    "                            max_depth = 9, criterion = 'entropy')\n",
    "rf.fit(x_train_res, y_train_res)\n",
    "rf_pred = rf.predict(x_test)"
   ]
  },
  {
   "cell_type": "code",
   "execution_count": 107,
   "metadata": {},
   "outputs": [
    {
     "name": "stdout",
     "output_type": "stream",
     "text": [
      "RF REPORT\n",
      "               precision    recall  f1-score   support\n",
      "\n",
      "           0       0.91      0.94      0.92        83\n",
      "           1       0.38      0.27      0.32        11\n",
      "\n",
      "   micro avg       0.86      0.86      0.86        94\n",
      "   macro avg       0.64      0.61      0.62        94\n",
      "weighted avg       0.84      0.86      0.85        94\n",
      " \n",
      "Partners Predicted:  8 \n",
      "\n"
     ]
    }
   ],
   "source": [
    "rf_report = classification_report(y_test, rf_pred)\n",
    "print('RF REPORT\\n',rf_report,'\\nPartners Predicted: ',rf_pred.sum(),'\\n')"
   ]
  },
  {
   "cell_type": "code",
   "execution_count": 108,
   "metadata": {},
   "outputs": [
    {
     "name": "stdout",
     "output_type": "stream",
     "text": [
      "----- ORIGINAL CLASSIFICATION REPORT -----\n",
      "\n",
      "RF REPORT\n",
      "               precision    recall  f1-score   support\n",
      "\n",
      "           0       0.91      0.94      0.92        83\n",
      "           1       0.38      0.27      0.32        11\n",
      "\n",
      "   micro avg       0.86      0.86      0.86        94\n",
      "   macro avg       0.64      0.61      0.62        94\n",
      "weighted avg       0.84      0.86      0.85        94\n",
      " \n",
      "Partners Predicted:  8 \n",
      "\n",
      "----- WEIGHTED CLASSIFICATION REPORT -----\n",
      "\n",
      "RF REPORT\n",
      "               precision    recall  f1-score   support\n",
      "\n",
      "           0       0.90      0.90      0.90        83\n",
      "           1       0.27      0.27      0.27        11\n",
      "\n",
      "   micro avg       0.83      0.83      0.83        94\n",
      "   macro avg       0.59      0.59      0.59        94\n",
      "weighted avg       0.83      0.83      0.83        94\n",
      " \n",
      "Partners Predicted:  11 \n",
      "\n"
     ]
    }
   ],
   "source": [
    "weights = {0:1, 1:2}\n",
    "rf_weighted = RandomForestClassifier(n_estimators = 1600, min_samples_split = 4, max_features = 30, max_depth = 9,\n",
    "                                     criterion = 'gini', class_weight = weights)\n",
    "rf_weighted.fit(x_train_res, y_train_res)\n",
    "rf_weighted_pred = rf_weighted.predict(x_test)\n",
    "rf_weighted_report = classification_report(y_test, rf_weighted_pred)\n",
    "print('----- ORIGINAL CLASSIFICATION REPORT -----\\n')\n",
    "print('RF REPORT\\n',rf_report,'\\nPartners Predicted: ',rf_pred.sum(),'\\n')\n",
    "print('----- WEIGHTED CLASSIFICATION REPORT -----\\n')\n",
    "print('RF REPORT\\n',rf_weighted_report,'\\nPartners Predicted: ',rf_weighted_pred.sum(),'\\n')"
   ]
  },
  {
   "cell_type": "code",
   "execution_count": 109,
   "metadata": {},
   "outputs": [],
   "source": [
    "lgb.fit(x_train_res, y_train_res)\n",
    "lgb_pred = lgb.predict(x_test)"
   ]
  },
  {
   "cell_type": "code",
   "execution_count": 110,
   "metadata": {},
   "outputs": [
    {
     "name": "stdout",
     "output_type": "stream",
     "text": [
      "LGB REPORT\n",
      "               precision    recall  f1-score   support\n",
      "\n",
      "           0       0.91      0.95      0.93        83\n",
      "           1       0.43      0.27      0.33        11\n",
      "\n",
      "   micro avg       0.87      0.87      0.87        94\n",
      "   macro avg       0.67      0.61      0.63        94\n",
      "weighted avg       0.85      0.87      0.86        94\n",
      " \n",
      "Partners Predicted:  7 \n",
      "\n"
     ]
    }
   ],
   "source": [
    "lgb_report = classification_report(y_test, lgb_pred)\n",
    "print('LGB REPORT\\n',lgb_report,'\\nPartners Predicted: ',lgb_pred.sum(),'\\n')"
   ]
  },
  {
   "cell_type": "code",
   "execution_count": 111,
   "metadata": {},
   "outputs": [
    {
     "name": "stdout",
     "output_type": "stream",
     "text": [
      "----- ORIGINAL CLASSIFICATION REPORT -----\n",
      "\n",
      "LGB REPORT\n",
      "               precision    recall  f1-score   support\n",
      "\n",
      "           0       0.91      0.95      0.93        83\n",
      "           1       0.43      0.27      0.33        11\n",
      "\n",
      "   micro avg       0.87      0.87      0.87        94\n",
      "   macro avg       0.67      0.61      0.63        94\n",
      "weighted avg       0.85      0.87      0.86        94\n",
      " \n",
      "Partners Predicted:  7 \n",
      "\n",
      "----- WEIGHTED CLASSIFICATION REPORT -----\n",
      "\n",
      "LGB REPORT\n",
      "               precision    recall  f1-score   support\n",
      "\n",
      "           0       0.91      0.94      0.92        83\n",
      "           1       0.38      0.27      0.32        11\n",
      "\n",
      "   micro avg       0.86      0.86      0.86        94\n",
      "   macro avg       0.64      0.61      0.62        94\n",
      "weighted avg       0.84      0.86      0.85        94\n",
      " \n",
      "Partners Predicted:  8 \n",
      "\n"
     ]
    }
   ],
   "source": [
    "weights = {0:1, 1:2}\n",
    "lgb_weighted = LGBMClassifier(class_weight = weights)\n",
    "lgb_weighted.fit(x_train_res, y_train_res)\n",
    "lgb_weighted_pred = lgb_weighted.predict(x_test)\n",
    "lgb_weighted_report = classification_report(y_test, lgb_weighted_pred)\n",
    "print('----- ORIGINAL CLASSIFICATION REPORT -----\\n')\n",
    "print('LGB REPORT\\n',lgb_report,'\\nPartners Predicted: ',lgb_pred.sum(),'\\n')\n",
    "print('----- WEIGHTED CLASSIFICATION REPORT -----\\n')\n",
    "print('LGB REPORT\\n',lgb_weighted_report,'\\nPartners Predicted: ',lgb_weighted_pred.sum(),'\\n')"
   ]
  },
  {
   "cell_type": "markdown",
   "metadata": {},
   "source": [
    "<a name=\"18\"></a>"
   ]
  },
  {
   "cell_type": "markdown",
   "metadata": {},
   "source": [
    "## Predicting for March"
   ]
  },
  {
   "cell_type": "markdown",
   "metadata": {},
   "source": [
    "After speaking with my team, our March prediction is 21-25. I think that our estimates are usually generous, but for the most part they are just unpredictable. There are many unobservable variables and it is hard to say whether or not a website will reply and be interested in becoming one of our partners. "
   ]
  },
  {
   "cell_type": "code",
   "execution_count": 112,
   "metadata": {},
   "outputs": [],
   "source": [
    "march = march.drop(columns = ['Partner'])"
   ]
  },
  {
   "cell_type": "code",
   "execution_count": 113,
   "metadata": {},
   "outputs": [
    {
     "name": "stdout",
     "output_type": "stream",
     "text": [
      "Number of Partners Predicted in March by RF:   89 \n",
      "\n",
      "Number of Partners Predicted in March by LGB:   82 \n",
      "\n"
     ]
    }
   ],
   "source": [
    "#trying out the weighted models on March data\n",
    "RFmarch = rf_weighted.predict(march)\n",
    "print('Number of Partners Predicted in March by RF:  ', RFmarch.sum(),'\\n')\n",
    "LGBmarch = lgb_weighted.predict(march)\n",
    "print('Number of Partners Predicted in March by LGB:  ', LGBmarch.sum(),'\\n')"
   ]
  },
  {
   "cell_type": "markdown",
   "metadata": {},
   "source": [
    "This is insanely high, so maybe the weighted models are a bad idea."
   ]
  },
  {
   "cell_type": "code",
   "execution_count": 114,
   "metadata": {},
   "outputs": [
    {
     "name": "stdout",
     "output_type": "stream",
     "text": [
      "Number of Partners Predicted in March by RF:   71 \n",
      "\n",
      "Number of Partners Predicted in March by LGB:   68 \n",
      "\n"
     ]
    }
   ],
   "source": [
    "#trying out the just the oversampled models on March data\n",
    "RFmarch = rf.predict(march)\n",
    "print('Number of Partners Predicted in March by RF:  ', RFmarch.sum(),'\\n')\n",
    "LGBmarch = lgb.predict(march)\n",
    "print('Number of Partners Predicted in March by LGB:  ', LGBmarch.sum(),'\\n')"
   ]
  },
  {
   "cell_type": "markdown",
   "metadata": {},
   "source": [
    "Still really bad."
   ]
  },
  {
   "cell_type": "code",
   "execution_count": 115,
   "metadata": {},
   "outputs": [
    {
     "name": "stdout",
     "output_type": "stream",
     "text": [
      "Number of Partners Predicted in March by RF:   0 \n",
      "\n"
     ]
    }
   ],
   "source": [
    "rf.fit(x_train, y_train)\n",
    "rf_pred = rf.predict(x_test)\n",
    "RFmarch = rf.predict(march)\n",
    "print('Number of Partners Predicted in March by RF:  ', RFmarch.sum(),'\\n')"
   ]
  },
  {
   "cell_type": "markdown",
   "metadata": {},
   "source": [
    "Now this is just far too low. I think the SMOTE oversampling technique RF model is my best bet for now."
   ]
  },
  {
   "cell_type": "code",
   "execution_count": 116,
   "metadata": {},
   "outputs": [],
   "source": [
    "#training RF model on all of the training data using SMOTE\n",
    "xSMOTE, ySMOTE = sm.fit_sample(train, y)"
   ]
  },
  {
   "cell_type": "code",
   "execution_count": 117,
   "metadata": {},
   "outputs": [
    {
     "name": "stdout",
     "output_type": "stream",
     "text": [
      "Number of Partners Predicted in March by RF:   33 \n",
      "\n"
     ]
    }
   ],
   "source": [
    "rf = RandomForestClassifier()\n",
    "rf.fit(xSMOTE,ySMOTE)\n",
    "RFmarch = rf.predict(march)\n",
    "print('Number of Partners Predicted in March by RF:  ', RFmarch.sum(),'\\n')"
   ]
  },
  {
   "cell_type": "markdown",
   "metadata": {},
   "source": [
    "The model still has a long way to go before it will start providing us with very useful insights, but for now it seems to be functioning pretty well considering the amount of data available to us at the moment. I am getting the best looking predictions from the untuned RandomForestClassifier, using SMOTE oversampled data to train the model.\n",
    "\n",
    "Now I am going to look inside the model and see what it is doing with the different variables. I will have to determine whether or not these variables are helping or hurting the model. "
   ]
  },
  {
   "cell_type": "code",
   "execution_count": 118,
   "metadata": {},
   "outputs": [
    {
     "data": {
      "text/plain": [
       "Text(0.5, 1.0, 'Top 20 Variables in the Random Forest Classifier with SMOTE')"
      ]
     },
     "execution_count": 118,
     "metadata": {},
     "output_type": "execute_result"
    },
    {
     "data": {
      "image/png": "[encoded data removed]",
      "text/plain": [
       "<Figure size 1152x576 with 1 Axes>"
      ]
     },
     "metadata": {
      "needs_background": "light"
     },
     "output_type": "display_data"
    }
   ],
   "source": [
    "#Creating a data frame that looks at the variables and their coefficients in this model\n",
    "featuresRF = pd.DataFrame(columns = ['Variable', 'Coef'])\n",
    "featuresRF['Variable'] = list(x)\n",
    "featuresRF['Coef'] = abs(rf.feature_importances_)\n",
    "#featuresRF['Coef'] = clf_rf.feature_importances_\n",
    "featuresRF.sort_values(by = 'Coef', ascending = False, inplace = True)\n",
    "featuresRF = featuresRF[0:20]\n",
    "\n",
    "#Plotting the top 20 variables by their coefficient value\n",
    "f, ax = plt.subplots(figsize=(16, 8))\n",
    "plt.xticks(rotation='90')\n",
    "sns.barplot(x=featuresRF['Variable'], y = featuresRF['Coef'])\n",
    "plt.xlabel('Outreach Variables', fontsize=16)\n",
    "plt.ylabel('Coefficient', fontsize=16)\n",
    "plt.title('Top 20 Variables in the Random Forest Classifier with SMOTE', fontsize=16)"
   ]
  },
  {
   "cell_type": "markdown",
   "metadata": {},
   "source": [
    "I believe that Outreacher and MonthYr data are not helping the model, but rather are hurting the model. Workflow has varied between months and some of our Outreachers have been working for a lot longer than others, so the fact that some of these variables are finding their way into the top 20 concerns me. In the next subsection, I am going to recreate this model with these variables excluded from the data. "
   ]
  },
  {
   "cell_type": "markdown",
   "metadata": {},
   "source": [
    "<a name=\"19\"></a>"
   ]
  },
  {
   "cell_type": "markdown",
   "metadata": {},
   "source": [
    "## Re-adjusting data and re-evaluating model"
   ]
  },
  {
   "cell_type": "code",
   "execution_count": 119,
   "metadata": {},
   "outputs": [],
   "source": [
    "#Reloading data to drop variablers before getting dummies\n",
    "data = pd.read_excel(\"file:///Users/codypulsipher/Documents/Pythondocs/StreakDATA.xlsx\")"
   ]
  },
  {
   "cell_type": "code",
   "execution_count": 120,
   "metadata": {},
   "outputs": [],
   "source": [
    "data = data.drop(columns = ['Contact Email Type','Response','Name','Outreacher'])\n",
    "for index, row in data.iterrows():\n",
    "    if row.MonthYr == 'April19':\n",
    "        data.drop(index, inplace = True)"
   ]
  },
  {
   "cell_type": "code",
   "execution_count": 121,
   "metadata": {},
   "outputs": [],
   "source": [
    "data = pd.get_dummies(data)"
   ]
  },
  {
   "cell_type": "code",
   "execution_count": 122,
   "metadata": {},
   "outputs": [
    {
     "name": "stdout",
     "output_type": "stream",
     "text": [
      "(272, 79)\n",
      "(940, 79)\n"
     ]
    }
   ],
   "source": [
    "march = data.copy()\n",
    "for index, row in march.iterrows():\n",
    "    if row.MonthYr_March19 == 0:\n",
    "        march.drop(index, inplace = True)\n",
    "print(march.shape)\n",
    "for index, row in data.iterrows():\n",
    "    if row.MonthYr_March19 == 1:\n",
    "        data.drop(index, inplace = True)\n",
    "print(data.shape)"
   ]
  },
  {
   "cell_type": "code",
   "execution_count": 123,
   "metadata": {},
   "outputs": [
    {
     "name": "stdout",
     "output_type": "stream",
     "text": [
      "(272, 71)\n",
      "(940, 71)\n"
     ]
    }
   ],
   "source": [
    "data = data.drop(columns = ['MonthYr_August18', 'MonthYr_December18', 'MonthYr_February19', \n",
    "                            'MonthYr_January19', 'MonthYr_November18', 'MonthYr_October18', \n",
    "                            'MonthYr_September18','MonthYr_March19'], axis = 1)\n",
    "march = march.drop(columns = ['MonthYr_August18', 'MonthYr_December18', 'MonthYr_February19', \n",
    "                            'MonthYr_January19', 'MonthYr_November18', 'MonthYr_October18', \n",
    "                            'MonthYr_September18','MonthYr_March19'], axis = 1)\n",
    "\n",
    "print(march.shape)\n",
    "print(data.shape)"
   ]
  },
  {
   "cell_type": "code",
   "execution_count": 124,
   "metadata": {},
   "outputs": [],
   "source": [
    "y = data.Partner\n",
    "march = march.drop(columns = ['Partner'], axis = 1)\n",
    "data = data.drop(columns = ['Partner'], axis = 1)\n",
    "x = data"
   ]
  },
  {
   "cell_type": "code",
   "execution_count": 125,
   "metadata": {},
   "outputs": [
    {
     "name": "stdout",
     "output_type": "stream",
     "text": [
      "(272, 70)\n",
      "(940, 70)\n"
     ]
    }
   ],
   "source": [
    "print(march.shape)\n",
    "print(data.shape)"
   ]
  },
  {
   "cell_type": "code",
   "execution_count": 126,
   "metadata": {},
   "outputs": [
    {
     "name": "stdout",
     "output_type": "stream",
     "text": [
      "Number of Partners Predicted in March by RF:   11 \n",
      "\n"
     ]
    }
   ],
   "source": [
    "#training RF model on all of the training data using SMOTE\n",
    "xSMOTE, ySMOTE = sm.fit_sample(x, y)\n",
    "rf = RandomForestClassifier()\n",
    "rf.fit(xSMOTE,ySMOTE)\n",
    "RFmarch = rf.predict(march)\n",
    "print('Number of Partners Predicted in March by RF:  ', RFmarch.sum(),'\\n')"
   ]
  },
  {
   "cell_type": "code",
   "execution_count": 127,
   "metadata": {},
   "outputs": [
    {
     "data": {
      "text/plain": [
       "Text(0.5, 1.0, 'Top 20 Variables in the Random Forest Classifier with SMOTE')"
      ]
     },
     "execution_count": 127,
     "metadata": {},
     "output_type": "execute_result"
    },
    {
     "data": {
      "image/png": "[encoded data removed]",
      "text/plain": [
       "<Figure size 1152x576 with 1 Axes>"
      ]
     },
     "metadata": {
      "needs_background": "light"
     },
     "output_type": "display_data"
    }
   ],
   "source": [
    "#Creating a data frame that looks at the variables and their coefficients in this model\n",
    "featuresRF = pd.DataFrame(columns = ['Variable', 'Coef'])\n",
    "featuresRF['Variable'] = list(x)\n",
    "featuresRF['Coef'] = abs(rf.feature_importances_)\n",
    "#featuresRF['Coef'] = clf_rf.feature_importances_\n",
    "featuresRF.sort_values(by = 'Coef', ascending = False, inplace = True)\n",
    "featuresRF = featuresRF[0:20]\n",
    "\n",
    "#Plotting the top 20 variables by their coefficient value\n",
    "f, ax = plt.subplots(figsize=(16, 8))\n",
    "plt.xticks(rotation='90')\n",
    "sns.barplot(x=featuresRF['Variable'], y = featuresRF['Coef'])\n",
    "plt.xlabel('Outreach Variables', fontsize=16)\n",
    "plt.ylabel('Coefficient', fontsize=16)\n",
    "plt.title('Top 20 Variables in the Random Forest Classifier with SMOTE', fontsize=16)"
   ]
  },
  {
   "cell_type": "markdown",
   "metadata": {},
   "source": [
    "<a name=\"21\"></a>"
   ]
  },
  {
   "cell_type": "markdown",
   "metadata": {},
   "source": [
    "## The Final Model... For Now\n"
   ]
  },
  {
   "cell_type": "markdown",
   "metadata": {},
   "source": [
    "There is an issue with the 'no subject' subject line type. The issue is that for the most part, when we contact a website through the website (one of the other mediums that isn't 'email') there is no subject line field. These data entries are marked 'no subject'. This model is heavily weighting this variable, but this is not a variable that I think is effective when it comes to the emails that we send. We have sent very few emails without a subject line, and very few have gotten response. I think I will exclude this variable as well and see how it changes the model. \n",
    "\n",
    "I also don't think that there is enough variation in our Penname variables. We don't have a variety of ethnicities or ages, so certain races and ages are used very heavily. This would be good to include if we had a better balance in our data. Since we do not have that balance now, I will also remove some of those variables."
   ]
  },
  {
   "cell_type": "code",
   "execution_count": 128,
   "metadata": {},
   "outputs": [
    {
     "name": "stdout",
     "output_type": "stream",
     "text": [
      "(272, 68)\n",
      "(940, 68)\n",
      "(272, 59)\n",
      "(940, 59)\n"
     ]
    }
   ],
   "source": [
    "data = pd.read_excel(\"file:///Users/codypulsipher/Documents/Pythondocs/StreakDATA.xlsx\")\n",
    "data = data.drop(columns = ['Contact Email Type','Response','Name','Outreacher','Age','Race_pic','Race_name'])\n",
    "for index, row in data.iterrows():\n",
    "    if row.MonthYr == 'April19':\n",
    "        data.drop(index, inplace = True)\n",
    "data = pd.get_dummies(data)\n",
    "march = data.copy()\n",
    "for index, row in march.iterrows():\n",
    "    if row.MonthYr_March19 == 0:\n",
    "        march.drop(index, inplace = True)\n",
    "print(march.shape)\n",
    "for index, row in data.iterrows():\n",
    "    if row.MonthYr_March19 == 1:\n",
    "        data.drop(index, inplace = True)\n",
    "print(data.shape)\n",
    "data = data.drop(columns = ['MonthYr_August18', 'MonthYr_December18', 'MonthYr_February19', \n",
    "                            'MonthYr_January19', 'MonthYr_November18', 'MonthYr_October18', \n",
    "                            'MonthYr_September18','MonthYr_March19'], axis = 1)\n",
    "march = march.drop(columns = ['MonthYr_August18', 'MonthYr_December18', 'MonthYr_February19', \n",
    "                            'MonthYr_January19', 'MonthYr_November18', 'MonthYr_October18', \n",
    "                            'MonthYr_September18','MonthYr_March19'], axis = 1)\n",
    "\n",
    "\n",
    "data = data.drop(columns = ['Subject Line Type_no subject'], axis = 1)\n",
    "march = march.drop(columns = ['Subject Line Type_no subject'], axis = 1)\n",
    "\n",
    "print(march.shape)\n",
    "print(data.shape)"
   ]
  },
  {
   "cell_type": "code",
   "execution_count": 129,
   "metadata": {},
   "outputs": [],
   "source": [
    "y = data.Partner\n",
    "march = march.drop(columns = ['Partner'], axis = 1)\n",
    "data = data.drop(columns = ['Partner'], axis = 1)\n",
    "x = data"
   ]
  },
  {
   "cell_type": "code",
   "execution_count": 130,
   "metadata": {},
   "outputs": [
    {
     "name": "stdout",
     "output_type": "stream",
     "text": [
      "Number of Partners Predicted in March by RF:   17 \n",
      "\n"
     ]
    }
   ],
   "source": [
    "#training RF model on all of the training data using SMOTE\n",
    "xSMOTE, ySMOTE = sm.fit_sample(x, y)\n",
    "rf = RandomForestClassifier()\n",
    "rf.fit(xSMOTE,ySMOTE)\n",
    "RFmarch = rf.predict(march)\n",
    "print('Number of Partners Predicted in March by RF:  ', RFmarch.sum(),'\\n')"
   ]
  },
  {
   "cell_type": "code",
   "execution_count": 131,
   "metadata": {},
   "outputs": [
    {
     "data": {
      "text/plain": [
       "Text(0.5, 1.0, 'Top 20 Variables in the Random Forest Classifier with SMOTE')"
      ]
     },
     "execution_count": 131,
     "metadata": {},
     "output_type": "execute_result"
    },
    {
     "data": {
      "image/png": "[encoded data removed]",
      "text/plain": [
       "<Figure size 1152x576 with 1 Axes>"
      ]
     },
     "metadata": {
      "needs_background": "light"
     },
     "output_type": "display_data"
    }
   ],
   "source": [
    "#Creating a data frame that looks at the variables and their coefficients in this model\n",
    "featuresRF = pd.DataFrame(columns = ['Variable', 'Coef'])\n",
    "featuresRF['Variable'] = list(x)\n",
    "featuresRF['Coef'] = abs(rf.feature_importances_)\n",
    "#featuresRF['Coef'] = clf_rf.feature_importances_\n",
    "featuresRF.sort_values(by = 'Coef', ascending = False, inplace = True)\n",
    "featuresRF = featuresRF[0:20]\n",
    "\n",
    "#Plotting the top 20 variables by their coefficient value\n",
    "f, ax = plt.subplots(figsize=(16, 8))\n",
    "plt.xticks(rotation='90')\n",
    "sns.barplot(x=featuresRF['Variable'], y = featuresRF['Coef'])\n",
    "plt.xlabel('Outreach Variables', fontsize=16)\n",
    "plt.ylabel('Coefficient', fontsize=16)\n",
    "plt.title('Top 20 Variables in the Random Forest Classifier with SMOTE', fontsize=16)"
   ]
  },
  {
   "cell_type": "code",
   "execution_count": 147,
   "metadata": {},
   "outputs": [
    {
     "data": {
      "text/html": [
       "<div>\n",
       "<style scoped>\n",
       "    .dataframe tbody tr th:only-of-type {\n",
       "        vertical-align: middle;\n",
       "    }\n",
       "\n",
       "    .dataframe tbody tr th {\n",
       "        vertical-align: top;\n",
       "    }\n",
       "\n",
       "    .dataframe thead th {\n",
       "        text-align: right;\n",
       "    }\n",
       "</style>\n",
       "<table border=\"1\" class=\"dataframe\">\n",
       "  <thead>\n",
       "    <tr style=\"text-align: right;\">\n",
       "      <th></th>\n",
       "      <th>Variable</th>\n",
       "      <th>Coef</th>\n",
       "    </tr>\n",
       "  </thead>\n",
       "  <tbody>\n",
       "    <tr>\n",
       "      <th>0</th>\n",
       "      <td>DA</td>\n",
       "      <td>0.130886</td>\n",
       "    </tr>\n",
       "    <tr>\n",
       "      <th>46</th>\n",
       "      <td>Medium_Contact Us Form</td>\n",
       "      <td>0.082455</td>\n",
       "    </tr>\n",
       "    <tr>\n",
       "      <th>39</th>\n",
       "      <td>Category_Travel and Tourism</td>\n",
       "      <td>0.080218</td>\n",
       "    </tr>\n",
       "    <tr>\n",
       "      <th>5</th>\n",
       "      <td>Hour of Day</td>\n",
       "      <td>0.074632</td>\n",
       "    </tr>\n",
       "    <tr>\n",
       "      <th>40</th>\n",
       "      <td>Subject Line Type_Fan</td>\n",
       "      <td>0.065525</td>\n",
       "    </tr>\n",
       "    <tr>\n",
       "      <th>44</th>\n",
       "      <td>Subject Line Type_Sub/Cont</td>\n",
       "      <td>0.063817</td>\n",
       "    </tr>\n",
       "    <tr>\n",
       "      <th>51</th>\n",
       "      <td>Day of Week_Fri</td>\n",
       "      <td>0.036151</td>\n",
       "    </tr>\n",
       "    <tr>\n",
       "      <th>1</th>\n",
       "      <td>Punctuation</td>\n",
       "      <td>0.033307</td>\n",
       "    </tr>\n",
       "    <tr>\n",
       "      <th>7</th>\n",
       "      <td>Gender_Male</td>\n",
       "      <td>0.028910</td>\n",
       "    </tr>\n",
       "    <tr>\n",
       "      <th>2</th>\n",
       "      <td>CAPS</td>\n",
       "      <td>0.023623</td>\n",
       "    </tr>\n",
       "    <tr>\n",
       "      <th>42</th>\n",
       "      <td>Subject Line Type_Inquiry</td>\n",
       "      <td>0.022667</td>\n",
       "    </tr>\n",
       "    <tr>\n",
       "      <th>52</th>\n",
       "      <td>Day of Week_Mon</td>\n",
       "      <td>0.022328</td>\n",
       "    </tr>\n",
       "    <tr>\n",
       "      <th>41</th>\n",
       "      <td>Subject Line Type_Guest</td>\n",
       "      <td>0.022227</td>\n",
       "    </tr>\n",
       "    <tr>\n",
       "      <th>57</th>\n",
       "      <td>Day of Week_Wed</td>\n",
       "      <td>0.021256</td>\n",
       "    </tr>\n",
       "    <tr>\n",
       "      <th>6</th>\n",
       "      <td>Gender_Female</td>\n",
       "      <td>0.021055</td>\n",
       "    </tr>\n",
       "    <tr>\n",
       "      <th>47</th>\n",
       "      <td>Medium_Email</td>\n",
       "      <td>0.020570</td>\n",
       "    </tr>\n",
       "    <tr>\n",
       "      <th>10</th>\n",
       "      <td>Domain Type_.com</td>\n",
       "      <td>0.020127</td>\n",
       "    </tr>\n",
       "    <tr>\n",
       "      <th>55</th>\n",
       "      <td>Day of Week_Thu</td>\n",
       "      <td>0.018928</td>\n",
       "    </tr>\n",
       "    <tr>\n",
       "      <th>20</th>\n",
       "      <td>Category_Computer and Software</td>\n",
       "      <td>0.017029</td>\n",
       "    </tr>\n",
       "    <tr>\n",
       "      <th>28</th>\n",
       "      <td>Category_Health and Medicine</td>\n",
       "      <td>0.016439</td>\n",
       "    </tr>\n",
       "    <tr>\n",
       "      <th>19</th>\n",
       "      <td>Category_Business</td>\n",
       "      <td>0.015613</td>\n",
       "    </tr>\n",
       "    <tr>\n",
       "      <th>3</th>\n",
       "      <td>Emoji</td>\n",
       "      <td>0.014481</td>\n",
       "    </tr>\n",
       "    <tr>\n",
       "      <th>56</th>\n",
       "      <td>Day of Week_Tue</td>\n",
       "      <td>0.013140</td>\n",
       "    </tr>\n",
       "    <tr>\n",
       "      <th>30</th>\n",
       "      <td>Category_Home and Family</td>\n",
       "      <td>0.013019</td>\n",
       "    </tr>\n",
       "    <tr>\n",
       "      <th>4</th>\n",
       "      <td>Article Included</td>\n",
       "      <td>0.012935</td>\n",
       "    </tr>\n",
       "    <tr>\n",
       "      <th>24</th>\n",
       "      <td>Category_Finance</td>\n",
       "      <td>0.009636</td>\n",
       "    </tr>\n",
       "    <tr>\n",
       "      <th>48</th>\n",
       "      <td>Medium_Upload Article Through Site</td>\n",
       "      <td>0.007841</td>\n",
       "    </tr>\n",
       "    <tr>\n",
       "      <th>33</th>\n",
       "      <td>Category_Marketing</td>\n",
       "      <td>0.006957</td>\n",
       "    </tr>\n",
       "    <tr>\n",
       "      <th>29</th>\n",
       "      <td>Category_Hobbies</td>\n",
       "      <td>0.006159</td>\n",
       "    </tr>\n",
       "    <tr>\n",
       "      <th>21</th>\n",
       "      <td>Category_Education</td>\n",
       "      <td>0.005518</td>\n",
       "    </tr>\n",
       "    <tr>\n",
       "      <th>49</th>\n",
       "      <td>Medium_Write for Us / Contributor Form</td>\n",
       "      <td>0.005299</td>\n",
       "    </tr>\n",
       "    <tr>\n",
       "      <th>53</th>\n",
       "      <td>Day of Week_Sat</td>\n",
       "      <td>0.005111</td>\n",
       "    </tr>\n",
       "    <tr>\n",
       "      <th>43</th>\n",
       "      <td>Subject Line Type_Other</td>\n",
       "      <td>0.004874</td>\n",
       "    </tr>\n",
       "    <tr>\n",
       "      <th>9</th>\n",
       "      <td>Domain Type_.co.uk</td>\n",
       "      <td>0.004835</td>\n",
       "    </tr>\n",
       "    <tr>\n",
       "      <th>35</th>\n",
       "      <td>Category_News and Politics</td>\n",
       "      <td>0.004495</td>\n",
       "    </tr>\n",
       "    <tr>\n",
       "      <th>14</th>\n",
       "      <td>Domain Type_.org</td>\n",
       "      <td>0.004360</td>\n",
       "    </tr>\n",
       "    <tr>\n",
       "      <th>15</th>\n",
       "      <td>Domain Type_other</td>\n",
       "      <td>0.004143</td>\n",
       "    </tr>\n",
       "    <tr>\n",
       "      <th>38</th>\n",
       "      <td>Category_Self-Development</td>\n",
       "      <td>0.003980</td>\n",
       "    </tr>\n",
       "    <tr>\n",
       "      <th>37</th>\n",
       "      <td>Category_Real Estate</td>\n",
       "      <td>0.003925</td>\n",
       "    </tr>\n",
       "    <tr>\n",
       "      <th>12</th>\n",
       "      <td>Domain Type_.io</td>\n",
       "      <td>0.003875</td>\n",
       "    </tr>\n",
       "    <tr>\n",
       "      <th>13</th>\n",
       "      <td>Domain Type_.net</td>\n",
       "      <td>0.003749</td>\n",
       "    </tr>\n",
       "    <tr>\n",
       "      <th>45</th>\n",
       "      <td>Subject Line Type_Title</td>\n",
       "      <td>0.003433</td>\n",
       "    </tr>\n",
       "    <tr>\n",
       "      <th>31</th>\n",
       "      <td>Category_IT</td>\n",
       "      <td>0.003425</td>\n",
       "    </tr>\n",
       "    <tr>\n",
       "      <th>25</th>\n",
       "      <td>Category_Fitness</td>\n",
       "      <td>0.003143</td>\n",
       "    </tr>\n",
       "    <tr>\n",
       "      <th>26</th>\n",
       "      <td>Category_Food</td>\n",
       "      <td>0.002380</td>\n",
       "    </tr>\n",
       "    <tr>\n",
       "      <th>23</th>\n",
       "      <td>Category_Fashion and Shopping</td>\n",
       "      <td>0.002289</td>\n",
       "    </tr>\n",
       "    <tr>\n",
       "      <th>18</th>\n",
       "      <td>Category_Beauty</td>\n",
       "      <td>0.001812</td>\n",
       "    </tr>\n",
       "    <tr>\n",
       "      <th>50</th>\n",
       "      <td>Medium_Writer Application</td>\n",
       "      <td>0.001634</td>\n",
       "    </tr>\n",
       "    <tr>\n",
       "      <th>8</th>\n",
       "      <td>Domain Type_.ca</td>\n",
       "      <td>0.001474</td>\n",
       "    </tr>\n",
       "    <tr>\n",
       "      <th>22</th>\n",
       "      <td>Category_Environment</td>\n",
       "      <td>0.000993</td>\n",
       "    </tr>\n",
       "    <tr>\n",
       "      <th>34</th>\n",
       "      <td>Category_Music and Dance</td>\n",
       "      <td>0.000980</td>\n",
       "    </tr>\n",
       "    <tr>\n",
       "      <th>16</th>\n",
       "      <td>Category_Arts and Crafts</td>\n",
       "      <td>0.000846</td>\n",
       "    </tr>\n",
       "    <tr>\n",
       "      <th>27</th>\n",
       "      <td>Category_Gardening and Home Improvement</td>\n",
       "      <td>0.000619</td>\n",
       "    </tr>\n",
       "    <tr>\n",
       "      <th>17</th>\n",
       "      <td>Category_Automobile</td>\n",
       "      <td>0.000403</td>\n",
       "    </tr>\n",
       "    <tr>\n",
       "      <th>32</th>\n",
       "      <td>Category_Law</td>\n",
       "      <td>0.000243</td>\n",
       "    </tr>\n",
       "    <tr>\n",
       "      <th>11</th>\n",
       "      <td>Domain Type_.edu</td>\n",
       "      <td>0.000221</td>\n",
       "    </tr>\n",
       "    <tr>\n",
       "      <th>36</th>\n",
       "      <td>Category_Pets and Animals</td>\n",
       "      <td>0.000010</td>\n",
       "    </tr>\n",
       "    <tr>\n",
       "      <th>54</th>\n",
       "      <td>Day of Week_Sun</td>\n",
       "      <td>0.000000</td>\n",
       "    </tr>\n",
       "  </tbody>\n",
       "</table>\n",
       "</div>"
      ],
      "text/plain": [
       "                                   Variable      Coef\n",
       "0                                        DA  0.130886\n",
       "46                   Medium_Contact Us Form  0.082455\n",
       "39              Category_Travel and Tourism  0.080218\n",
       "5                               Hour of Day  0.074632\n",
       "40                    Subject Line Type_Fan  0.065525\n",
       "44               Subject Line Type_Sub/Cont  0.063817\n",
       "51                          Day of Week_Fri  0.036151\n",
       "1                               Punctuation  0.033307\n",
       "7                               Gender_Male  0.028910\n",
       "2                                      CAPS  0.023623\n",
       "42                Subject Line Type_Inquiry  0.022667\n",
       "52                          Day of Week_Mon  0.022328\n",
       "41                  Subject Line Type_Guest  0.022227\n",
       "57                          Day of Week_Wed  0.021256\n",
       "6                             Gender_Female  0.021055\n",
       "47                             Medium_Email  0.020570\n",
       "10                         Domain Type_.com  0.020127\n",
       "55                          Day of Week_Thu  0.018928\n",
       "20           Category_Computer and Software  0.017029\n",
       "28             Category_Health and Medicine  0.016439\n",
       "19                        Category_Business  0.015613\n",
       "3                                     Emoji  0.014481\n",
       "56                          Day of Week_Tue  0.013140\n",
       "30                 Category_Home and Family  0.013019\n",
       "4                          Article Included  0.012935\n",
       "24                         Category_Finance  0.009636\n",
       "48       Medium_Upload Article Through Site  0.007841\n",
       "33                       Category_Marketing  0.006957\n",
       "29                         Category_Hobbies  0.006159\n",
       "21                       Category_Education  0.005518\n",
       "49   Medium_Write for Us / Contributor Form  0.005299\n",
       "53                          Day of Week_Sat  0.005111\n",
       "43                  Subject Line Type_Other  0.004874\n",
       "9                        Domain Type_.co.uk  0.004835\n",
       "35               Category_News and Politics  0.004495\n",
       "14                         Domain Type_.org  0.004360\n",
       "15                        Domain Type_other  0.004143\n",
       "38                Category_Self-Development  0.003980\n",
       "37                     Category_Real Estate  0.003925\n",
       "12                          Domain Type_.io  0.003875\n",
       "13                         Domain Type_.net  0.003749\n",
       "45                  Subject Line Type_Title  0.003433\n",
       "31                              Category_IT  0.003425\n",
       "25                         Category_Fitness  0.003143\n",
       "26                            Category_Food  0.002380\n",
       "23            Category_Fashion and Shopping  0.002289\n",
       "18                          Category_Beauty  0.001812\n",
       "50                Medium_Writer Application  0.001634\n",
       "8                           Domain Type_.ca  0.001474\n",
       "22                     Category_Environment  0.000993\n",
       "34                 Category_Music and Dance  0.000980\n",
       "16                 Category_Arts and Crafts  0.000846\n",
       "27  Category_Gardening and Home Improvement  0.000619\n",
       "17                      Category_Automobile  0.000403\n",
       "32                             Category_Law  0.000243\n",
       "11                         Domain Type_.edu  0.000221\n",
       "36                Category_Pets and Animals  0.000010\n",
       "54                          Day of Week_Sun  0.000000"
      ]
     },
     "execution_count": 147,
     "metadata": {},
     "output_type": "execute_result"
    }
   ],
   "source": [
    "featuresRF = pd.DataFrame(columns = ['Variable', 'Coef'])\n",
    "featuresRF['Variable'] = list(x)\n",
    "#featuresRF['Coef'] = abs(rf.feature_importances_)\n",
    "featuresRF['Coef'] = rf.feature_importances_\n",
    "featuresRF.sort_values(by = 'Coef', ascending = False, inplace = True)\n",
    "featuresRF"
   ]
  },
  {
   "cell_type": "code",
   "execution_count": 133,
   "metadata": {},
   "outputs": [
    {
     "name": "stdout",
     "output_type": "stream",
     "text": [
      "(272, 68)\n",
      "(940, 68)\n",
      "(272, 59)\n",
      "(940, 59)\n"
     ]
    }
   ],
   "source": [
    "data = pd.read_excel(\"file:///Users/codypulsipher/Documents/Pythondocs/StreakDATA.xlsx\")\n",
    "data = data.drop(columns = ['Contact Email Type','Response','Name','Outreacher','Age','Race_pic','Race_name'])\n",
    "for index, row in data.iterrows():\n",
    "    if row.MonthYr == 'April19':\n",
    "        data.drop(index, inplace = True)\n",
    "data = pd.get_dummies(data)\n",
    "march = data.copy()\n",
    "for index, row in march.iterrows():\n",
    "    if row.MonthYr_March19 == 0:\n",
    "        march.drop(index, inplace = True)\n",
    "print(march.shape)\n",
    "for index, row in data.iterrows():\n",
    "    if row.MonthYr_March19 == 1:\n",
    "        data.drop(index, inplace = True)\n",
    "print(data.shape)\n",
    "data = data.drop(columns = ['MonthYr_August18', 'MonthYr_December18', 'MonthYr_February19', \n",
    "                            'MonthYr_January19', 'MonthYr_November18', 'MonthYr_October18', \n",
    "                            'MonthYr_September18','MonthYr_March19'], axis = 1)\n",
    "march = march.drop(columns = ['MonthYr_August18', 'MonthYr_December18', 'MonthYr_February19', \n",
    "                            'MonthYr_January19', 'MonthYr_November18', 'MonthYr_October18', \n",
    "                            'MonthYr_September18','MonthYr_March19'], axis = 1)\n",
    "\n",
    "\n",
    "data = data.drop(columns = ['Subject Line Type_no subject'], axis = 1)\n",
    "march = march.drop(columns = ['Subject Line Type_no subject'], axis = 1)\n",
    "\n",
    "print(march.shape)\n",
    "print(data.shape)"
   ]
  },
  {
   "cell_type": "code",
   "execution_count": 134,
   "metadata": {},
   "outputs": [
    {
     "data": {
      "text/plain": [
       "<matplotlib.axes._subplots.AxesSubplot at 0x1a1d1001d0>"
      ]
     },
     "execution_count": 134,
     "metadata": {},
     "output_type": "execute_result"
    },
    {
     "data": {
      "image/png": "[encoded data removed]",
      "text/plain": [
       "<Figure size 864x648 with 2 Axes>"
      ]
     },
     "metadata": {
      "needs_background": "light"
     },
     "output_type": "display_data"
    }
   ],
   "source": [
    "#Now that I can see the impact of the coefficients, I will view the correlation to get an idea of the direction\n",
    "#Looking at the variables that are most correlated with Partner (Target)\n",
    "corr_data = data.corr()\n",
    "highest_corr = corr_data.index[abs(corr_data[\"Partner\"])>0.08]\n",
    "f, ax = plt.subplots(figsize=(12, 9))\n",
    "sns.heatmap(data[highest_corr].corr(), square = True, annot = True, cmap=\"YlGnBu\")"
   ]
  },
  {
   "cell_type": "markdown",
   "metadata": {},
   "source": [
    "Things are looking pretty good. I am going to settle on this model for now. It makes the most sense with what it is doing with the different variables, how it is weighting them, and the direction those weights seem to be. "
   ]
  },
  {
   "cell_type": "markdown",
   "metadata": {},
   "source": [
    "<a name=\"20\"></a>"
   ]
  },
  {
   "cell_type": "markdown",
   "metadata": {},
   "source": [
    "# Conclusions"
   ]
  },
  {
   "cell_type": "markdown",
   "metadata": {},
   "source": [
    "Refer to the [presentation](https://docs.google.com/presentation/d/1ssFZia4STmHxf-JaPd1PhY5DkPCC1TWSr1yhXi8WptE/edit#slide=id.p) I made for this project for a visual representation of the conclusions I have drawn."
   ]
  },
  {
   "cell_type": "markdown",
   "metadata": {},
   "source": [
    "- **Is the Model Effective?**<br>\n",
    "The model is very young and will improve as more data is collected. It will also improve as we continue to figure out effective ways to collect data on more variables that we think are good predictors of whether or not an Outreach observation becomes a partner. \n",
    "<br><br>\n",
    "- **What Can We Learn From This Project?**<br>\n",
    "    - DA is a strong indicator of the difficulty of converting a website into a Partner. This will help us as we take on new clients who may have specific DA requirements for their links. \n",
    "    - There is a strong correlation between Article Included and Subject Line_Title with Partner. This is something that we can start doing more often in our Outreach attempts to increase our chances of converting websites into partners. \n",
    "    - Hour of Day is a strong predictor of Partner and it is also positively correlated. This tells us that we should be sending our emails later in the day rather than during regular work hours. This could be caused by a number of different things, but the data makes it clear how we should proceed. \n",
    "    - Sending follow up emails in the same email thread is INEFFECTIVE. This variable had to be removed from the project because it was too strongly correlated with no responses, but this helped me realize that some email threads might be moved to spam, so sending followups in the same thread is futile. Moving forward, we will send followups in separete threads and might even change the Outreach approach to increase our chances of conversion. \n",
    "    - The different categories show stronger correlation with Partner than the other variables. This is very insightful because our clients require different categories for their links. Understanding that some categories are harder than others will help us evaluate our ability to fulfill certain projects. It will also help us understand the kind of expansion we need in our team to do certain things. \n",
    "<br><br>\n",
    "Overall, we have learned that there is a lot to learn from the data. This has been a fruitful project that is well worth our time and resources to continue. As we move forward, the model will become more sophisticated and will be able to teach us even more effectively how we can improve our Outreach efforts. \n",
    "<br><br>\n",
    "- **How Can We Use This Model?**\n",
    "    - Reporting: This model will help us more accurately report the number of partners we anticipate acquiring from a given month's work. This will help us fill orders and purchase links more effectively, which will save us money and keep our clients happy in the long run. \n",
    "    - Forecasting: We can run simulations on the model to figure out how many emails we will need to be sending during certain projects to hit the outcome we need to satisfy a project or client. This will help us figure out Outreach team dynamics and costs. "
   ]
  }
 ],
 "metadata": {
  "kernelspec": {
   "display_name": "Python 3",
   "language": "python",
   "name": "python3"
  },
  "language_info": {
   "codemirror_mode": {
    "name": "ipython",
    "version": 3
   },
   "file_extension": ".py",
   "mimetype": "text/x-python",
   "name": "python",
   "nbconvert_exporter": "python",
   "pygments_lexer": "ipython3",
   "version": "3.7.1"
  }
 },
 "nbformat": 4,
 "nbformat_minor": 2
}
