{
 "cells": [
  {
   "cell_type": "markdown",
   "metadata": {},
   "source": [
    "# Homework 1 "
   ]
  },
  {
   "cell_type": "markdown",
   "metadata": {},
   "source": [
    "## Data Cleaning, Describing, and Visualization"
   ]
  },
  {
   "cell_type": "code",
   "execution_count": 2,
   "metadata": {},
   "outputs": [],
   "source": [
    "import pandas as pd\n",
    "import numpy as np\n",
    "import matplotlib.pyplot as plt\n",
    "import seaborn as sns\n",
    "%matplotlib inline\n",
    "#Stuff to read in the json\n",
    "import json\n",
    "import requests\n",
    "\n",
    "#Silencing deprication warnings\n",
    "import warnings\n",
    "warnings.filterwarnings(\"ignore\")"
   ]
  },
  {
   "cell_type": "markdown",
   "metadata": {},
   "source": [
    "# Graduate School Admission Chance \n",
    "## .csv "
   ]
  },
  {
   "cell_type": "markdown",
   "metadata": {},
   "source": [
    "I am reading in data that predicts the chance of admission to graduate school from important parameters. The data can be found here: https://www.kaggle.com/mohansacharya/graduate-admissions#Admission_Predict_Ver1.1.csv"
   ]
  },
  {
   "cell_type": "markdown",
   "metadata": {},
   "source": [
    "## Clean the Data"
   ]
  },
  {
   "cell_type": "markdown",
   "metadata": {},
   "source": [
    "I am going to dive deeper and see if there is anything in the data that is missing or needs cleaning. I am guessing I won't find anything to clean because the .csv file looked pristine, but we will run some tests to make sure."
   ]
  },
  {
   "cell_type": "code",
   "execution_count": 3,
   "metadata": {},
   "outputs": [],
   "source": [
    "adm_pred = pd.read_csv(\"file:///Users/Codis_Joben/Documents/Pythondocs/Admission_Predict_Ver1.1.csv\", \n",
    "                       header=0, names=None)"
   ]
  },
  {
   "cell_type": "code",
   "execution_count": 4,
   "metadata": {},
   "outputs": [
    {
     "data": {
      "text/html": [
       "<div>\n",
       "<style scoped>\n",
       "    .dataframe tbody tr th:only-of-type {\n",
       "        vertical-align: middle;\n",
       "    }\n",
       "\n",
       "    .dataframe tbody tr th {\n",
       "        vertical-align: top;\n",
       "    }\n",
       "\n",
       "    .dataframe thead th {\n",
       "        text-align: right;\n",
       "    }\n",
       "</style>\n",
       "<table border=\"1\" class=\"dataframe\">\n",
       "  <thead>\n",
       "    <tr style=\"text-align: right;\">\n",
       "      <th></th>\n",
       "      <th>Serial No.</th>\n",
       "      <th>GRE Score</th>\n",
       "      <th>TOEFL Score</th>\n",
       "      <th>University Rating</th>\n",
       "      <th>SOP</th>\n",
       "      <th>LOR</th>\n",
       "      <th>CGPA</th>\n",
       "      <th>Research</th>\n",
       "      <th>Chance of Admit</th>\n",
       "    </tr>\n",
       "  </thead>\n",
       "  <tbody>\n",
       "    <tr>\n",
       "      <th>0</th>\n",
       "      <td>1</td>\n",
       "      <td>337</td>\n",
       "      <td>118</td>\n",
       "      <td>4</td>\n",
       "      <td>4.5</td>\n",
       "      <td>4.5</td>\n",
       "      <td>9.65</td>\n",
       "      <td>1</td>\n",
       "      <td>0.92</td>\n",
       "    </tr>\n",
       "    <tr>\n",
       "      <th>1</th>\n",
       "      <td>2</td>\n",
       "      <td>324</td>\n",
       "      <td>107</td>\n",
       "      <td>4</td>\n",
       "      <td>4.0</td>\n",
       "      <td>4.5</td>\n",
       "      <td>8.87</td>\n",
       "      <td>1</td>\n",
       "      <td>0.76</td>\n",
       "    </tr>\n",
       "    <tr>\n",
       "      <th>2</th>\n",
       "      <td>3</td>\n",
       "      <td>316</td>\n",
       "      <td>104</td>\n",
       "      <td>3</td>\n",
       "      <td>3.0</td>\n",
       "      <td>3.5</td>\n",
       "      <td>8.00</td>\n",
       "      <td>1</td>\n",
       "      <td>0.72</td>\n",
       "    </tr>\n",
       "    <tr>\n",
       "      <th>3</th>\n",
       "      <td>4</td>\n",
       "      <td>322</td>\n",
       "      <td>110</td>\n",
       "      <td>3</td>\n",
       "      <td>3.5</td>\n",
       "      <td>2.5</td>\n",
       "      <td>8.67</td>\n",
       "      <td>1</td>\n",
       "      <td>0.80</td>\n",
       "    </tr>\n",
       "    <tr>\n",
       "      <th>4</th>\n",
       "      <td>5</td>\n",
       "      <td>314</td>\n",
       "      <td>103</td>\n",
       "      <td>2</td>\n",
       "      <td>2.0</td>\n",
       "      <td>3.0</td>\n",
       "      <td>8.21</td>\n",
       "      <td>0</td>\n",
       "      <td>0.65</td>\n",
       "    </tr>\n",
       "    <tr>\n",
       "      <th>5</th>\n",
       "      <td>6</td>\n",
       "      <td>330</td>\n",
       "      <td>115</td>\n",
       "      <td>5</td>\n",
       "      <td>4.5</td>\n",
       "      <td>3.0</td>\n",
       "      <td>9.34</td>\n",
       "      <td>1</td>\n",
       "      <td>0.90</td>\n",
       "    </tr>\n",
       "    <tr>\n",
       "      <th>6</th>\n",
       "      <td>7</td>\n",
       "      <td>321</td>\n",
       "      <td>109</td>\n",
       "      <td>3</td>\n",
       "      <td>3.0</td>\n",
       "      <td>4.0</td>\n",
       "      <td>8.20</td>\n",
       "      <td>1</td>\n",
       "      <td>0.75</td>\n",
       "    </tr>\n",
       "    <tr>\n",
       "      <th>7</th>\n",
       "      <td>8</td>\n",
       "      <td>308</td>\n",
       "      <td>101</td>\n",
       "      <td>2</td>\n",
       "      <td>3.0</td>\n",
       "      <td>4.0</td>\n",
       "      <td>7.90</td>\n",
       "      <td>0</td>\n",
       "      <td>0.68</td>\n",
       "    </tr>\n",
       "    <tr>\n",
       "      <th>8</th>\n",
       "      <td>9</td>\n",
       "      <td>302</td>\n",
       "      <td>102</td>\n",
       "      <td>1</td>\n",
       "      <td>2.0</td>\n",
       "      <td>1.5</td>\n",
       "      <td>8.00</td>\n",
       "      <td>0</td>\n",
       "      <td>0.50</td>\n",
       "    </tr>\n",
       "    <tr>\n",
       "      <th>9</th>\n",
       "      <td>10</td>\n",
       "      <td>323</td>\n",
       "      <td>108</td>\n",
       "      <td>3</td>\n",
       "      <td>3.5</td>\n",
       "      <td>3.0</td>\n",
       "      <td>8.60</td>\n",
       "      <td>0</td>\n",
       "      <td>0.45</td>\n",
       "    </tr>\n",
       "  </tbody>\n",
       "</table>\n",
       "</div>"
      ],
      "text/plain": [
       "   Serial No.  GRE Score  TOEFL Score  University Rating  SOP  LOR   CGPA  \\\n",
       "0           1        337          118                  4  4.5   4.5  9.65   \n",
       "1           2        324          107                  4  4.0   4.5  8.87   \n",
       "2           3        316          104                  3  3.0   3.5  8.00   \n",
       "3           4        322          110                  3  3.5   2.5  8.67   \n",
       "4           5        314          103                  2  2.0   3.0  8.21   \n",
       "5           6        330          115                  5  4.5   3.0  9.34   \n",
       "6           7        321          109                  3  3.0   4.0  8.20   \n",
       "7           8        308          101                  2  3.0   4.0  7.90   \n",
       "8           9        302          102                  1  2.0   1.5  8.00   \n",
       "9          10        323          108                  3  3.5   3.0  8.60   \n",
       "\n",
       "   Research  Chance of Admit   \n",
       "0         1              0.92  \n",
       "1         1              0.76  \n",
       "2         1              0.72  \n",
       "3         1              0.80  \n",
       "4         0              0.65  \n",
       "5         1              0.90  \n",
       "6         1              0.75  \n",
       "7         0              0.68  \n",
       "8         0              0.50  \n",
       "9         0              0.45  "
      ]
     },
     "execution_count": 4,
     "metadata": {},
     "output_type": "execute_result"
    }
   ],
   "source": [
    "adm_pred.head(10)"
   ]
  },
  {
   "cell_type": "code",
   "execution_count": 5,
   "metadata": {},
   "outputs": [
    {
     "data": {
      "text/html": [
       "<div>\n",
       "<style scoped>\n",
       "    .dataframe tbody tr th:only-of-type {\n",
       "        vertical-align: middle;\n",
       "    }\n",
       "\n",
       "    .dataframe tbody tr th {\n",
       "        vertical-align: top;\n",
       "    }\n",
       "\n",
       "    .dataframe thead th {\n",
       "        text-align: right;\n",
       "    }\n",
       "</style>\n",
       "<table border=\"1\" class=\"dataframe\">\n",
       "  <thead>\n",
       "    <tr style=\"text-align: right;\">\n",
       "      <th></th>\n",
       "      <th>Serial No.</th>\n",
       "      <th>GRE Score</th>\n",
       "      <th>TOEFL Score</th>\n",
       "      <th>University Rating</th>\n",
       "      <th>SOP</th>\n",
       "      <th>LOR</th>\n",
       "      <th>CGPA</th>\n",
       "      <th>Research</th>\n",
       "      <th>Chance of Admit</th>\n",
       "    </tr>\n",
       "  </thead>\n",
       "  <tbody>\n",
       "    <tr>\n",
       "      <th>count</th>\n",
       "      <td>500.000000</td>\n",
       "      <td>500.000000</td>\n",
       "      <td>500.000000</td>\n",
       "      <td>500.000000</td>\n",
       "      <td>500.000000</td>\n",
       "      <td>500.00000</td>\n",
       "      <td>500.000000</td>\n",
       "      <td>500.000000</td>\n",
       "      <td>500.00000</td>\n",
       "    </tr>\n",
       "    <tr>\n",
       "      <th>mean</th>\n",
       "      <td>250.500000</td>\n",
       "      <td>316.472000</td>\n",
       "      <td>107.192000</td>\n",
       "      <td>3.114000</td>\n",
       "      <td>3.374000</td>\n",
       "      <td>3.48400</td>\n",
       "      <td>8.576440</td>\n",
       "      <td>0.560000</td>\n",
       "      <td>0.72174</td>\n",
       "    </tr>\n",
       "    <tr>\n",
       "      <th>std</th>\n",
       "      <td>144.481833</td>\n",
       "      <td>11.295148</td>\n",
       "      <td>6.081868</td>\n",
       "      <td>1.143512</td>\n",
       "      <td>0.991004</td>\n",
       "      <td>0.92545</td>\n",
       "      <td>0.604813</td>\n",
       "      <td>0.496884</td>\n",
       "      <td>0.14114</td>\n",
       "    </tr>\n",
       "    <tr>\n",
       "      <th>min</th>\n",
       "      <td>1.000000</td>\n",
       "      <td>290.000000</td>\n",
       "      <td>92.000000</td>\n",
       "      <td>1.000000</td>\n",
       "      <td>1.000000</td>\n",
       "      <td>1.00000</td>\n",
       "      <td>6.800000</td>\n",
       "      <td>0.000000</td>\n",
       "      <td>0.34000</td>\n",
       "    </tr>\n",
       "    <tr>\n",
       "      <th>25%</th>\n",
       "      <td>125.750000</td>\n",
       "      <td>308.000000</td>\n",
       "      <td>103.000000</td>\n",
       "      <td>2.000000</td>\n",
       "      <td>2.500000</td>\n",
       "      <td>3.00000</td>\n",
       "      <td>8.127500</td>\n",
       "      <td>0.000000</td>\n",
       "      <td>0.63000</td>\n",
       "    </tr>\n",
       "    <tr>\n",
       "      <th>50%</th>\n",
       "      <td>250.500000</td>\n",
       "      <td>317.000000</td>\n",
       "      <td>107.000000</td>\n",
       "      <td>3.000000</td>\n",
       "      <td>3.500000</td>\n",
       "      <td>3.50000</td>\n",
       "      <td>8.560000</td>\n",
       "      <td>1.000000</td>\n",
       "      <td>0.72000</td>\n",
       "    </tr>\n",
       "    <tr>\n",
       "      <th>75%</th>\n",
       "      <td>375.250000</td>\n",
       "      <td>325.000000</td>\n",
       "      <td>112.000000</td>\n",
       "      <td>4.000000</td>\n",
       "      <td>4.000000</td>\n",
       "      <td>4.00000</td>\n",
       "      <td>9.040000</td>\n",
       "      <td>1.000000</td>\n",
       "      <td>0.82000</td>\n",
       "    </tr>\n",
       "    <tr>\n",
       "      <th>max</th>\n",
       "      <td>500.000000</td>\n",
       "      <td>340.000000</td>\n",
       "      <td>120.000000</td>\n",
       "      <td>5.000000</td>\n",
       "      <td>5.000000</td>\n",
       "      <td>5.00000</td>\n",
       "      <td>9.920000</td>\n",
       "      <td>1.000000</td>\n",
       "      <td>0.97000</td>\n",
       "    </tr>\n",
       "  </tbody>\n",
       "</table>\n",
       "</div>"
      ],
      "text/plain": [
       "       Serial No.   GRE Score  TOEFL Score  University Rating         SOP  \\\n",
       "count  500.000000  500.000000   500.000000         500.000000  500.000000   \n",
       "mean   250.500000  316.472000   107.192000           3.114000    3.374000   \n",
       "std    144.481833   11.295148     6.081868           1.143512    0.991004   \n",
       "min      1.000000  290.000000    92.000000           1.000000    1.000000   \n",
       "25%    125.750000  308.000000   103.000000           2.000000    2.500000   \n",
       "50%    250.500000  317.000000   107.000000           3.000000    3.500000   \n",
       "75%    375.250000  325.000000   112.000000           4.000000    4.000000   \n",
       "max    500.000000  340.000000   120.000000           5.000000    5.000000   \n",
       "\n",
       "            LOR         CGPA    Research  Chance of Admit   \n",
       "count  500.00000  500.000000  500.000000         500.00000  \n",
       "mean     3.48400    8.576440    0.560000           0.72174  \n",
       "std      0.92545    0.604813    0.496884           0.14114  \n",
       "min      1.00000    6.800000    0.000000           0.34000  \n",
       "25%      3.00000    8.127500    0.000000           0.63000  \n",
       "50%      3.50000    8.560000    1.000000           0.72000  \n",
       "75%      4.00000    9.040000    1.000000           0.82000  \n",
       "max      5.00000    9.920000    1.000000           0.97000  "
      ]
     },
     "execution_count": 5,
     "metadata": {},
     "output_type": "execute_result"
    }
   ],
   "source": [
    "adm_pred.describe()"
   ]
  },
  {
   "cell_type": "code",
   "execution_count": 6,
   "metadata": {},
   "outputs": [
    {
     "name": "stdout",
     "output_type": "stream",
     "text": [
      "<class 'pandas.core.frame.DataFrame'>\n",
      "RangeIndex: 500 entries, 0 to 499\n",
      "Data columns (total 9 columns):\n",
      "Serial No.           500 non-null int64\n",
      "GRE Score            500 non-null int64\n",
      "TOEFL Score          500 non-null int64\n",
      "University Rating    500 non-null int64\n",
      "SOP                  500 non-null float64\n",
      "LOR                  500 non-null float64\n",
      "CGPA                 500 non-null float64\n",
      "Research             500 non-null int64\n",
      "Chance of Admit      500 non-null float64\n",
      "dtypes: float64(4), int64(5)\n",
      "memory usage: 35.2 KB\n"
     ]
    }
   ],
   "source": [
    "adm_pred.info()"
   ]
  },
  {
   "cell_type": "markdown",
   "metadata": {},
   "source": [
    "## Describe the Data"
   ]
  },
  {
   "cell_type": "markdown",
   "metadata": {},
   "source": [
    "A useful analysis of this data will be to view the correlation between the different variables to see which variable, if any, have the greatest weight when it comes to graduate admissions."
   ]
  },
  {
   "cell_type": "code",
   "execution_count": 7,
   "metadata": {},
   "outputs": [
    {
     "data": {
      "text/html": [
       "<div>\n",
       "<style scoped>\n",
       "    .dataframe tbody tr th:only-of-type {\n",
       "        vertical-align: middle;\n",
       "    }\n",
       "\n",
       "    .dataframe tbody tr th {\n",
       "        vertical-align: top;\n",
       "    }\n",
       "\n",
       "    .dataframe thead th {\n",
       "        text-align: right;\n",
       "    }\n",
       "</style>\n",
       "<table border=\"1\" class=\"dataframe\">\n",
       "  <thead>\n",
       "    <tr style=\"text-align: right;\">\n",
       "      <th></th>\n",
       "      <th>Serial No.</th>\n",
       "      <th>GRE Score</th>\n",
       "      <th>TOEFL Score</th>\n",
       "      <th>University Rating</th>\n",
       "      <th>SOP</th>\n",
       "      <th>LOR</th>\n",
       "      <th>CGPA</th>\n",
       "      <th>Research</th>\n",
       "      <th>Chance of Admit</th>\n",
       "    </tr>\n",
       "  </thead>\n",
       "  <tbody>\n",
       "    <tr>\n",
       "      <th>Serial No.</th>\n",
       "      <td>1.000000</td>\n",
       "      <td>-0.103839</td>\n",
       "      <td>-0.141696</td>\n",
       "      <td>-0.067641</td>\n",
       "      <td>-0.137352</td>\n",
       "      <td>-0.003694</td>\n",
       "      <td>-0.074289</td>\n",
       "      <td>-0.005332</td>\n",
       "      <td>0.008505</td>\n",
       "    </tr>\n",
       "    <tr>\n",
       "      <th>GRE Score</th>\n",
       "      <td>-0.103839</td>\n",
       "      <td>1.000000</td>\n",
       "      <td>0.827200</td>\n",
       "      <td>0.635376</td>\n",
       "      <td>0.613498</td>\n",
       "      <td>0.524679</td>\n",
       "      <td>0.825878</td>\n",
       "      <td>0.563398</td>\n",
       "      <td>0.810351</td>\n",
       "    </tr>\n",
       "    <tr>\n",
       "      <th>TOEFL Score</th>\n",
       "      <td>-0.141696</td>\n",
       "      <td>0.827200</td>\n",
       "      <td>1.000000</td>\n",
       "      <td>0.649799</td>\n",
       "      <td>0.644410</td>\n",
       "      <td>0.541563</td>\n",
       "      <td>0.810574</td>\n",
       "      <td>0.467012</td>\n",
       "      <td>0.792228</td>\n",
       "    </tr>\n",
       "    <tr>\n",
       "      <th>University Rating</th>\n",
       "      <td>-0.067641</td>\n",
       "      <td>0.635376</td>\n",
       "      <td>0.649799</td>\n",
       "      <td>1.000000</td>\n",
       "      <td>0.728024</td>\n",
       "      <td>0.608651</td>\n",
       "      <td>0.705254</td>\n",
       "      <td>0.427047</td>\n",
       "      <td>0.690132</td>\n",
       "    </tr>\n",
       "    <tr>\n",
       "      <th>SOP</th>\n",
       "      <td>-0.137352</td>\n",
       "      <td>0.613498</td>\n",
       "      <td>0.644410</td>\n",
       "      <td>0.728024</td>\n",
       "      <td>1.000000</td>\n",
       "      <td>0.663707</td>\n",
       "      <td>0.712154</td>\n",
       "      <td>0.408116</td>\n",
       "      <td>0.684137</td>\n",
       "    </tr>\n",
       "    <tr>\n",
       "      <th>LOR</th>\n",
       "      <td>-0.003694</td>\n",
       "      <td>0.524679</td>\n",
       "      <td>0.541563</td>\n",
       "      <td>0.608651</td>\n",
       "      <td>0.663707</td>\n",
       "      <td>1.000000</td>\n",
       "      <td>0.637469</td>\n",
       "      <td>0.372526</td>\n",
       "      <td>0.645365</td>\n",
       "    </tr>\n",
       "    <tr>\n",
       "      <th>CGPA</th>\n",
       "      <td>-0.074289</td>\n",
       "      <td>0.825878</td>\n",
       "      <td>0.810574</td>\n",
       "      <td>0.705254</td>\n",
       "      <td>0.712154</td>\n",
       "      <td>0.637469</td>\n",
       "      <td>1.000000</td>\n",
       "      <td>0.501311</td>\n",
       "      <td>0.882413</td>\n",
       "    </tr>\n",
       "    <tr>\n",
       "      <th>Research</th>\n",
       "      <td>-0.005332</td>\n",
       "      <td>0.563398</td>\n",
       "      <td>0.467012</td>\n",
       "      <td>0.427047</td>\n",
       "      <td>0.408116</td>\n",
       "      <td>0.372526</td>\n",
       "      <td>0.501311</td>\n",
       "      <td>1.000000</td>\n",
       "      <td>0.545871</td>\n",
       "    </tr>\n",
       "    <tr>\n",
       "      <th>Chance of Admit</th>\n",
       "      <td>0.008505</td>\n",
       "      <td>0.810351</td>\n",
       "      <td>0.792228</td>\n",
       "      <td>0.690132</td>\n",
       "      <td>0.684137</td>\n",
       "      <td>0.645365</td>\n",
       "      <td>0.882413</td>\n",
       "      <td>0.545871</td>\n",
       "      <td>1.000000</td>\n",
       "    </tr>\n",
       "  </tbody>\n",
       "</table>\n",
       "</div>"
      ],
      "text/plain": [
       "                   Serial No.  GRE Score  TOEFL Score  University Rating  \\\n",
       "Serial No.           1.000000  -0.103839    -0.141696          -0.067641   \n",
       "GRE Score           -0.103839   1.000000     0.827200           0.635376   \n",
       "TOEFL Score         -0.141696   0.827200     1.000000           0.649799   \n",
       "University Rating   -0.067641   0.635376     0.649799           1.000000   \n",
       "SOP                 -0.137352   0.613498     0.644410           0.728024   \n",
       "LOR                 -0.003694   0.524679     0.541563           0.608651   \n",
       "CGPA                -0.074289   0.825878     0.810574           0.705254   \n",
       "Research            -0.005332   0.563398     0.467012           0.427047   \n",
       "Chance of Admit      0.008505   0.810351     0.792228           0.690132   \n",
       "\n",
       "                        SOP      LOR       CGPA  Research  Chance of Admit   \n",
       "Serial No.        -0.137352 -0.003694 -0.074289 -0.005332          0.008505  \n",
       "GRE Score          0.613498  0.524679  0.825878  0.563398          0.810351  \n",
       "TOEFL Score        0.644410  0.541563  0.810574  0.467012          0.792228  \n",
       "University Rating  0.728024  0.608651  0.705254  0.427047          0.690132  \n",
       "SOP                1.000000  0.663707  0.712154  0.408116          0.684137  \n",
       "LOR                0.663707  1.000000  0.637469  0.372526          0.645365  \n",
       "CGPA               0.712154  0.637469  1.000000  0.501311          0.882413  \n",
       "Research           0.408116  0.372526  0.501311  1.000000          0.545871  \n",
       "Chance of Admit    0.684137  0.645365  0.882413  0.545871          1.000000  "
      ]
     },
     "execution_count": 7,
     "metadata": {},
     "output_type": "execute_result"
    }
   ],
   "source": [
    "adm_pred.corr()"
   ]
  },
  {
   "cell_type": "markdown",
   "metadata": {},
   "source": [
    "The far right column gives us the insight we want to see. It looks like GPA has the strongest correlation with a high chance of admission, followed closely by GRE and TOEFL scores."
   ]
  },
  {
   "cell_type": "markdown",
   "metadata": {},
   "source": [
    "I don't think the above analysis provides accurate insight on the importance of research to the chance of graduate admissions. I will run analysis to get an idea of the average admission chance between those with research and those without, ignoring all other variables, and see if that shows anything useful."
   ]
  },
  {
   "cell_type": "code",
   "execution_count": 8,
   "metadata": {},
   "outputs": [
    {
     "data": {
      "text/plain": [
       "Research\n",
       "0    0.634909\n",
       "1    0.789964\n",
       "Name: Chance of Admit , dtype: float64"
      ]
     },
     "execution_count": 8,
     "metadata": {},
     "output_type": "execute_result"
    }
   ],
   "source": [
    "adm_pred.groupby(['Research'])['Chance of Admit '].mean()"
   ]
  },
  {
   "cell_type": "markdown",
   "metadata": {},
   "source": [
    "Now we can see that those who did research averaged about 79% chance of admit whereas those without research averaged about 63% chance of admit. Let's see if research is tied to the other variables like GRE and CGPA."
   ]
  },
  {
   "cell_type": "code",
   "execution_count": 9,
   "metadata": {},
   "outputs": [
    {
     "name": "stdout",
     "output_type": "stream",
     "text": [
      "Research\n",
      "0    309.300000\n",
      "1    322.107143\n",
      "Name: GRE Score, dtype: float64\n",
      "Research\n",
      "0    8.234727\n",
      "1    8.844929\n",
      "Name: CGPA, dtype: float64\n"
     ]
    }
   ],
   "source": [
    "print(adm_pred.groupby(['Research'])['GRE Score'].mean())\n",
    "print(adm_pred.groupby(['Research'])['CGPA'].mean())"
   ]
  },
  {
   "cell_type": "markdown",
   "metadata": {},
   "source": [
    "Based off of this data, I would conclude that the students who have done research tend to also have higher grades and test scores than those who don't do research."
   ]
  },
  {
   "cell_type": "markdown",
   "metadata": {},
   "source": [
    "It looks like focusing on CGPA, GRE/TOEFL, and coming from a higher rated school are the best factors for increasing your chances of being admitted to graduate school."
   ]
  },
  {
   "cell_type": "markdown",
   "metadata": {},
   "source": [
    "## Visualize the Data"
   ]
  },
  {
   "cell_type": "markdown",
   "metadata": {},
   "source": [
    "I will show some of the key findings in this data in a way that is easy to understand and insightful for students who are preparing to get into graduate school."
   ]
  },
  {
   "cell_type": "code",
   "execution_count": 10,
   "metadata": {},
   "outputs": [],
   "source": [
    "sns.set(style='ticks', palette='Set2')"
   ]
  },
  {
   "cell_type": "code",
   "execution_count": 11,
   "metadata": {},
   "outputs": [
    {
     "name": "stdout",
     "output_type": "stream",
     "text": [
      "<seaborn.axisgrid.FacetGrid object at 0x1a1d9ec6d8>\n"
     ]
    },
    {
     "data": {
      "image/png": "[encoded data removed]",
      "text/plain": [
       "<Figure size 360x360 with 1 Axes>"
      ]
     },
     "metadata": {},
     "output_type": "display_data"
    }
   ],
   "source": [
    "print(sns.lmplot(x=\"GRE Score\", y=\"Chance of Admit \", data=adm_pred))"
   ]
  },
  {
   "cell_type": "markdown",
   "metadata": {},
   "source": [
    "Now we can see that there are a few data points that are further from our predicted values based on the regression line, but those points are found lower on the GRE Score. From this data, we can safely conclude that high GRE scores result in high chances of admission."
   ]
  },
  {
   "cell_type": "code",
   "execution_count": 12,
   "metadata": {},
   "outputs": [
    {
     "name": "stdout",
     "output_type": "stream",
     "text": [
      "<seaborn.axisgrid.FacetGrid object at 0x1a1e4de0f0>\n"
     ]
    },
    {
     "data": {
      "image/png": "[encoded data removed]",
      "text/plain": [
       "<Figure size 360x360 with 1 Axes>"
      ]
     },
     "metadata": {},
     "output_type": "display_data"
    }
   ],
   "source": [
    "print(sns.lmplot(x=\"CGPA\", y=\"Chance of Admit \", data=adm_pred))"
   ]
  },
  {
   "cell_type": "markdown",
   "metadata": {},
   "source": [
    "The data supporting that CGPA is a huge factor in chance of admission is even stronger. This suggests that overall grades are the most important aspect for getting admitted to graduate school."
   ]
  },
  {
   "cell_type": "markdown",
   "metadata": {},
   "source": [
    "I am curious to see the distribution of the CGPA of the students they observed for this data set. It would be nice to see that they collected data from an even distribution of students."
   ]
  },
  {
   "cell_type": "code",
   "execution_count": 13,
   "metadata": {},
   "outputs": [
    {
     "data": {
      "text/plain": [
       "<matplotlib.axes._subplots.AxesSubplot at 0x1a1e6a3c18>"
      ]
     },
     "execution_count": 13,
     "metadata": {},
     "output_type": "execute_result"
    },
    {
     "data": {
      "image/png": "[encoded data removed]",
      "text/plain": [
       "<Figure size 720x432 with 1 Axes>"
      ]
     },
     "metadata": {},
     "output_type": "display_data"
    }
   ],
   "source": [
    "fig, ax = plt.subplots(figsize=(10, 6))\n",
    "sns.distplot(adm_pred.CGPA, kde=False)"
   ]
  },
  {
   "cell_type": "markdown",
   "metadata": {},
   "source": [
    "This is a good observation. It shows that they were careful in selecting their candidates to observe as far as their GPA is concerned, because the distribution is what you would expect to see from a large and unbias sample of potential graduate school applicants. "
   ]
  },
  {
   "cell_type": "markdown",
   "metadata": {},
   "source": [
    "Let's get an idea of the kind of schools they were collecting this data from."
   ]
  },
  {
   "cell_type": "code",
   "execution_count": 14,
   "metadata": {},
   "outputs": [
    {
     "data": {
      "text/plain": [
       "<matplotlib.axes._subplots.AxesSubplot at 0x1a1e757cf8>"
      ]
     },
     "execution_count": 14,
     "metadata": {},
     "output_type": "execute_result"
    },
    {
     "data": {
      "image/png": "[encoded data removed]",
      "text/plain": [
       "<Figure size 720x432 with 1 Axes>"
      ]
     },
     "metadata": {},
     "output_type": "display_data"
    }
   ],
   "source": [
    "fig, ax = plt.subplots(figsize=(10, 6))\n",
    "sns.distplot(adm_pred['University Rating'], kde=False)"
   ]
  },
  {
   "cell_type": "markdown",
   "metadata": {},
   "source": [
    "The data comes from an even distrubtion of university ratings, which is also good. It isn't perfect, but good enough to provide good insight for prospective applicants.\n"
   ]
  },
  {
   "cell_type": "markdown",
   "metadata": {},
   "source": [
    "Now prospective grad school applicants should have a good idea of what they need to focus on to increase their chance of admission. A high CGPA and GRE Score will definitely be a game changer. Coming from a high rated university is also a plus. Research isn't as strong of a deciding factor, so don't let it interfere with your grades and GRE prep."
   ]
  },
  {
   "cell_type": "markdown",
   "metadata": {},
   "source": [
    "# Pokemon GO \n",
    "## .json"
   ]
  },
  {
   "cell_type": "markdown",
   "metadata": {},
   "source": [
    "I found some data on github that shows a lot of info on the pokemon from Pokemon Go. "
   ]
  },
  {
   "cell_type": "markdown",
   "metadata": {},
   "source": [
    "## Clean the Data"
   ]
  },
  {
   "cell_type": "code",
   "execution_count": 15,
   "metadata": {},
   "outputs": [],
   "source": [
    "getdata = requests.get(\"https://raw.githubusercontent.com/Biuni/PokemonGO-Pokedex/master/pokedex.json\")"
   ]
  },
  {
   "cell_type": "code",
   "execution_count": 16,
   "metadata": {},
   "outputs": [],
   "source": [
    "data_dict = json.loads(getdata.text)"
   ]
  },
  {
   "cell_type": "code",
   "execution_count": 17,
   "metadata": {},
   "outputs": [
    {
     "data": {
      "text/plain": [
       "dict_keys(['pokemon'])"
      ]
     },
     "execution_count": 17,
     "metadata": {},
     "output_type": "execute_result"
    }
   ],
   "source": [
    "data_dict.keys()"
   ]
  },
  {
   "cell_type": "code",
   "execution_count": 18,
   "metadata": {},
   "outputs": [
    {
     "data": {
      "text/html": [
       "<div>\n",
       "<style scoped>\n",
       "    .dataframe tbody tr th:only-of-type {\n",
       "        vertical-align: middle;\n",
       "    }\n",
       "\n",
       "    .dataframe tbody tr th {\n",
       "        vertical-align: top;\n",
       "    }\n",
       "\n",
       "    .dataframe thead th {\n",
       "        text-align: right;\n",
       "    }\n",
       "</style>\n",
       "<table border=\"1\" class=\"dataframe\">\n",
       "  <thead>\n",
       "    <tr style=\"text-align: right;\">\n",
       "      <th></th>\n",
       "      <th>avg_spawns</th>\n",
       "      <th>candy</th>\n",
       "      <th>candy_count</th>\n",
       "      <th>egg</th>\n",
       "      <th>height</th>\n",
       "      <th>id</th>\n",
       "      <th>img</th>\n",
       "      <th>multipliers</th>\n",
       "      <th>name</th>\n",
       "      <th>next_evolution</th>\n",
       "      <th>num</th>\n",
       "      <th>prev_evolution</th>\n",
       "      <th>spawn_chance</th>\n",
       "      <th>spawn_time</th>\n",
       "      <th>type</th>\n",
       "      <th>weaknesses</th>\n",
       "      <th>weight</th>\n",
       "    </tr>\n",
       "  </thead>\n",
       "  <tbody>\n",
       "    <tr>\n",
       "      <th>0</th>\n",
       "      <td>69.00</td>\n",
       "      <td>Bulbasaur Candy</td>\n",
       "      <td>25.0</td>\n",
       "      <td>2 km</td>\n",
       "      <td>0.71 m</td>\n",
       "      <td>1</td>\n",
       "      <td>http://www.serebii.net/pokemongo/pokemon/001.png</td>\n",
       "      <td>[1.58]</td>\n",
       "      <td>Bulbasaur</td>\n",
       "      <td>[{'num': '002', 'name': 'Ivysaur'}, {'num': '0...</td>\n",
       "      <td>001</td>\n",
       "      <td>NaN</td>\n",
       "      <td>0.6900</td>\n",
       "      <td>20:00</td>\n",
       "      <td>[Grass, Poison]</td>\n",
       "      <td>[Fire, Ice, Flying, Psychic]</td>\n",
       "      <td>6.9 kg</td>\n",
       "    </tr>\n",
       "    <tr>\n",
       "      <th>1</th>\n",
       "      <td>4.20</td>\n",
       "      <td>Bulbasaur Candy</td>\n",
       "      <td>100.0</td>\n",
       "      <td>Not in Eggs</td>\n",
       "      <td>0.99 m</td>\n",
       "      <td>2</td>\n",
       "      <td>http://www.serebii.net/pokemongo/pokemon/002.png</td>\n",
       "      <td>[1.2, 1.6]</td>\n",
       "      <td>Ivysaur</td>\n",
       "      <td>[{'num': '003', 'name': 'Venusaur'}]</td>\n",
       "      <td>002</td>\n",
       "      <td>[{'num': '001', 'name': 'Bulbasaur'}]</td>\n",
       "      <td>0.0420</td>\n",
       "      <td>07:00</td>\n",
       "      <td>[Grass, Poison]</td>\n",
       "      <td>[Fire, Ice, Flying, Psychic]</td>\n",
       "      <td>13.0 kg</td>\n",
       "    </tr>\n",
       "    <tr>\n",
       "      <th>2</th>\n",
       "      <td>1.70</td>\n",
       "      <td>Bulbasaur Candy</td>\n",
       "      <td>NaN</td>\n",
       "      <td>Not in Eggs</td>\n",
       "      <td>2.01 m</td>\n",
       "      <td>3</td>\n",
       "      <td>http://www.serebii.net/pokemongo/pokemon/003.png</td>\n",
       "      <td>None</td>\n",
       "      <td>Venusaur</td>\n",
       "      <td>NaN</td>\n",
       "      <td>003</td>\n",
       "      <td>[{'num': '001', 'name': 'Bulbasaur'}, {'num': ...</td>\n",
       "      <td>0.0170</td>\n",
       "      <td>11:30</td>\n",
       "      <td>[Grass, Poison]</td>\n",
       "      <td>[Fire, Ice, Flying, Psychic]</td>\n",
       "      <td>100.0 kg</td>\n",
       "    </tr>\n",
       "    <tr>\n",
       "      <th>3</th>\n",
       "      <td>25.30</td>\n",
       "      <td>Charmander Candy</td>\n",
       "      <td>25.0</td>\n",
       "      <td>2 km</td>\n",
       "      <td>0.61 m</td>\n",
       "      <td>4</td>\n",
       "      <td>http://www.serebii.net/pokemongo/pokemon/004.png</td>\n",
       "      <td>[1.65]</td>\n",
       "      <td>Charmander</td>\n",
       "      <td>[{'num': '005', 'name': 'Charmeleon'}, {'num':...</td>\n",
       "      <td>004</td>\n",
       "      <td>NaN</td>\n",
       "      <td>0.2530</td>\n",
       "      <td>08:45</td>\n",
       "      <td>[Fire]</td>\n",
       "      <td>[Water, Ground, Rock]</td>\n",
       "      <td>8.5 kg</td>\n",
       "    </tr>\n",
       "    <tr>\n",
       "      <th>4</th>\n",
       "      <td>1.20</td>\n",
       "      <td>Charmander Candy</td>\n",
       "      <td>100.0</td>\n",
       "      <td>Not in Eggs</td>\n",
       "      <td>1.09 m</td>\n",
       "      <td>5</td>\n",
       "      <td>http://www.serebii.net/pokemongo/pokemon/005.png</td>\n",
       "      <td>[1.79]</td>\n",
       "      <td>Charmeleon</td>\n",
       "      <td>[{'num': '006', 'name': 'Charizard'}]</td>\n",
       "      <td>005</td>\n",
       "      <td>[{'num': '004', 'name': 'Charmander'}]</td>\n",
       "      <td>0.0120</td>\n",
       "      <td>19:00</td>\n",
       "      <td>[Fire]</td>\n",
       "      <td>[Water, Ground, Rock]</td>\n",
       "      <td>19.0 kg</td>\n",
       "    </tr>\n",
       "    <tr>\n",
       "      <th>5</th>\n",
       "      <td>0.31</td>\n",
       "      <td>Charmander Candy</td>\n",
       "      <td>NaN</td>\n",
       "      <td>Not in Eggs</td>\n",
       "      <td>1.70 m</td>\n",
       "      <td>6</td>\n",
       "      <td>http://www.serebii.net/pokemongo/pokemon/006.png</td>\n",
       "      <td>None</td>\n",
       "      <td>Charizard</td>\n",
       "      <td>NaN</td>\n",
       "      <td>006</td>\n",
       "      <td>[{'num': '004', 'name': 'Charmander'}, {'num':...</td>\n",
       "      <td>0.0031</td>\n",
       "      <td>13:34</td>\n",
       "      <td>[Fire, Flying]</td>\n",
       "      <td>[Water, Electric, Rock]</td>\n",
       "      <td>90.5 kg</td>\n",
       "    </tr>\n",
       "    <tr>\n",
       "      <th>6</th>\n",
       "      <td>58.00</td>\n",
       "      <td>Squirtle Candy</td>\n",
       "      <td>25.0</td>\n",
       "      <td>2 km</td>\n",
       "      <td>0.51 m</td>\n",
       "      <td>7</td>\n",
       "      <td>http://www.serebii.net/pokemongo/pokemon/007.png</td>\n",
       "      <td>[2.1]</td>\n",
       "      <td>Squirtle</td>\n",
       "      <td>[{'num': '008', 'name': 'Wartortle'}, {'num': ...</td>\n",
       "      <td>007</td>\n",
       "      <td>NaN</td>\n",
       "      <td>0.5800</td>\n",
       "      <td>04:25</td>\n",
       "      <td>[Water]</td>\n",
       "      <td>[Electric, Grass]</td>\n",
       "      <td>9.0 kg</td>\n",
       "    </tr>\n",
       "    <tr>\n",
       "      <th>7</th>\n",
       "      <td>3.40</td>\n",
       "      <td>Squirtle Candy</td>\n",
       "      <td>100.0</td>\n",
       "      <td>Not in Eggs</td>\n",
       "      <td>0.99 m</td>\n",
       "      <td>8</td>\n",
       "      <td>http://www.serebii.net/pokemongo/pokemon/008.png</td>\n",
       "      <td>[1.4]</td>\n",
       "      <td>Wartortle</td>\n",
       "      <td>[{'num': '009', 'name': 'Blastoise'}]</td>\n",
       "      <td>008</td>\n",
       "      <td>[{'num': '007', 'name': 'Squirtle'}]</td>\n",
       "      <td>0.0340</td>\n",
       "      <td>07:02</td>\n",
       "      <td>[Water]</td>\n",
       "      <td>[Electric, Grass]</td>\n",
       "      <td>22.5 kg</td>\n",
       "    </tr>\n",
       "    <tr>\n",
       "      <th>8</th>\n",
       "      <td>0.67</td>\n",
       "      <td>Squirtle Candy</td>\n",
       "      <td>NaN</td>\n",
       "      <td>Not in Eggs</td>\n",
       "      <td>1.60 m</td>\n",
       "      <td>9</td>\n",
       "      <td>http://www.serebii.net/pokemongo/pokemon/009.png</td>\n",
       "      <td>None</td>\n",
       "      <td>Blastoise</td>\n",
       "      <td>NaN</td>\n",
       "      <td>009</td>\n",
       "      <td>[{'num': '007', 'name': 'Squirtle'}, {'num': '...</td>\n",
       "      <td>0.0067</td>\n",
       "      <td>00:06</td>\n",
       "      <td>[Water]</td>\n",
       "      <td>[Electric, Grass]</td>\n",
       "      <td>85.5 kg</td>\n",
       "    </tr>\n",
       "    <tr>\n",
       "      <th>9</th>\n",
       "      <td>303.20</td>\n",
       "      <td>Caterpie Candy</td>\n",
       "      <td>12.0</td>\n",
       "      <td>2 km</td>\n",
       "      <td>0.30 m</td>\n",
       "      <td>10</td>\n",
       "      <td>http://www.serebii.net/pokemongo/pokemon/010.png</td>\n",
       "      <td>[1.05]</td>\n",
       "      <td>Caterpie</td>\n",
       "      <td>[{'num': '011', 'name': 'Metapod'}, {'num': '0...</td>\n",
       "      <td>010</td>\n",
       "      <td>NaN</td>\n",
       "      <td>3.0320</td>\n",
       "      <td>16:35</td>\n",
       "      <td>[Bug]</td>\n",
       "      <td>[Fire, Flying, Rock]</td>\n",
       "      <td>2.9 kg</td>\n",
       "    </tr>\n",
       "  </tbody>\n",
       "</table>\n",
       "</div>"
      ],
      "text/plain": [
       "   avg_spawns             candy  candy_count          egg  height  id  \\\n",
       "0       69.00   Bulbasaur Candy         25.0         2 km  0.71 m   1   \n",
       "1        4.20   Bulbasaur Candy        100.0  Not in Eggs  0.99 m   2   \n",
       "2        1.70   Bulbasaur Candy          NaN  Not in Eggs  2.01 m   3   \n",
       "3       25.30  Charmander Candy         25.0         2 km  0.61 m   4   \n",
       "4        1.20  Charmander Candy        100.0  Not in Eggs  1.09 m   5   \n",
       "5        0.31  Charmander Candy          NaN  Not in Eggs  1.70 m   6   \n",
       "6       58.00    Squirtle Candy         25.0         2 km  0.51 m   7   \n",
       "7        3.40    Squirtle Candy        100.0  Not in Eggs  0.99 m   8   \n",
       "8        0.67    Squirtle Candy          NaN  Not in Eggs  1.60 m   9   \n",
       "9      303.20    Caterpie Candy         12.0         2 km  0.30 m  10   \n",
       "\n",
       "                                                img multipliers        name  \\\n",
       "0  http://www.serebii.net/pokemongo/pokemon/001.png      [1.58]   Bulbasaur   \n",
       "1  http://www.serebii.net/pokemongo/pokemon/002.png  [1.2, 1.6]     Ivysaur   \n",
       "2  http://www.serebii.net/pokemongo/pokemon/003.png        None    Venusaur   \n",
       "3  http://www.serebii.net/pokemongo/pokemon/004.png      [1.65]  Charmander   \n",
       "4  http://www.serebii.net/pokemongo/pokemon/005.png      [1.79]  Charmeleon   \n",
       "5  http://www.serebii.net/pokemongo/pokemon/006.png        None   Charizard   \n",
       "6  http://www.serebii.net/pokemongo/pokemon/007.png       [2.1]    Squirtle   \n",
       "7  http://www.serebii.net/pokemongo/pokemon/008.png       [1.4]   Wartortle   \n",
       "8  http://www.serebii.net/pokemongo/pokemon/009.png        None   Blastoise   \n",
       "9  http://www.serebii.net/pokemongo/pokemon/010.png      [1.05]    Caterpie   \n",
       "\n",
       "                                      next_evolution  num  \\\n",
       "0  [{'num': '002', 'name': 'Ivysaur'}, {'num': '0...  001   \n",
       "1               [{'num': '003', 'name': 'Venusaur'}]  002   \n",
       "2                                                NaN  003   \n",
       "3  [{'num': '005', 'name': 'Charmeleon'}, {'num':...  004   \n",
       "4              [{'num': '006', 'name': 'Charizard'}]  005   \n",
       "5                                                NaN  006   \n",
       "6  [{'num': '008', 'name': 'Wartortle'}, {'num': ...  007   \n",
       "7              [{'num': '009', 'name': 'Blastoise'}]  008   \n",
       "8                                                NaN  009   \n",
       "9  [{'num': '011', 'name': 'Metapod'}, {'num': '0...  010   \n",
       "\n",
       "                                      prev_evolution  spawn_chance spawn_time  \\\n",
       "0                                                NaN        0.6900      20:00   \n",
       "1              [{'num': '001', 'name': 'Bulbasaur'}]        0.0420      07:00   \n",
       "2  [{'num': '001', 'name': 'Bulbasaur'}, {'num': ...        0.0170      11:30   \n",
       "3                                                NaN        0.2530      08:45   \n",
       "4             [{'num': '004', 'name': 'Charmander'}]        0.0120      19:00   \n",
       "5  [{'num': '004', 'name': 'Charmander'}, {'num':...        0.0031      13:34   \n",
       "6                                                NaN        0.5800      04:25   \n",
       "7               [{'num': '007', 'name': 'Squirtle'}]        0.0340      07:02   \n",
       "8  [{'num': '007', 'name': 'Squirtle'}, {'num': '...        0.0067      00:06   \n",
       "9                                                NaN        3.0320      16:35   \n",
       "\n",
       "              type                    weaknesses    weight  \n",
       "0  [Grass, Poison]  [Fire, Ice, Flying, Psychic]    6.9 kg  \n",
       "1  [Grass, Poison]  [Fire, Ice, Flying, Psychic]   13.0 kg  \n",
       "2  [Grass, Poison]  [Fire, Ice, Flying, Psychic]  100.0 kg  \n",
       "3           [Fire]         [Water, Ground, Rock]    8.5 kg  \n",
       "4           [Fire]         [Water, Ground, Rock]   19.0 kg  \n",
       "5   [Fire, Flying]       [Water, Electric, Rock]   90.5 kg  \n",
       "6          [Water]             [Electric, Grass]    9.0 kg  \n",
       "7          [Water]             [Electric, Grass]   22.5 kg  \n",
       "8          [Water]             [Electric, Grass]   85.5 kg  \n",
       "9            [Bug]          [Fire, Flying, Rock]    2.9 kg  "
      ]
     },
     "execution_count": 18,
     "metadata": {},
     "output_type": "execute_result"
    }
   ],
   "source": [
    "#turning the json into a dataframe\n",
    "pokemon = pd.DataFrame(data_dict['pokemon'])\n",
    "pokemon.head(10)"
   ]
  },
  {
   "cell_type": "code",
   "execution_count": 19,
   "metadata": {},
   "outputs": [
    {
     "data": {
      "text/html": [
       "<div>\n",
       "<style scoped>\n",
       "    .dataframe tbody tr th:only-of-type {\n",
       "        vertical-align: middle;\n",
       "    }\n",
       "\n",
       "    .dataframe tbody tr th {\n",
       "        vertical-align: top;\n",
       "    }\n",
       "\n",
       "    .dataframe thead th {\n",
       "        text-align: right;\n",
       "    }\n",
       "</style>\n",
       "<table border=\"1\" class=\"dataframe\">\n",
       "  <thead>\n",
       "    <tr style=\"text-align: right;\">\n",
       "      <th></th>\n",
       "      <th>avg_spawns</th>\n",
       "      <th>candy</th>\n",
       "      <th>candy_count</th>\n",
       "      <th>egg</th>\n",
       "      <th>height</th>\n",
       "      <th>id</th>\n",
       "      <th>img</th>\n",
       "      <th>multipliers</th>\n",
       "      <th>name</th>\n",
       "      <th>next_evolution</th>\n",
       "      <th>num</th>\n",
       "      <th>prev_evolution</th>\n",
       "      <th>spawn_chance</th>\n",
       "      <th>spawn_time</th>\n",
       "      <th>type</th>\n",
       "      <th>weaknesses</th>\n",
       "      <th>weight</th>\n",
       "    </tr>\n",
       "  </thead>\n",
       "  <tbody>\n",
       "    <tr>\n",
       "      <th>0</th>\n",
       "      <td>69.0</td>\n",
       "      <td>Bulbasaur Candy</td>\n",
       "      <td>25.0</td>\n",
       "      <td>2 km</td>\n",
       "      <td>0.71 m</td>\n",
       "      <td>1</td>\n",
       "      <td>http://www.serebii.net/pokemongo/pokemon/001.png</td>\n",
       "      <td>[1.58]</td>\n",
       "      <td>Bulbasaur</td>\n",
       "      <td>[{'num': '002', 'name': 'Ivysaur'}, {'num': '0...</td>\n",
       "      <td>001</td>\n",
       "      <td>NaN</td>\n",
       "      <td>0.690</td>\n",
       "      <td>20:00</td>\n",
       "      <td>[Grass, Poison]</td>\n",
       "      <td>[Fire, Ice, Flying, Psychic]</td>\n",
       "      <td>6.9</td>\n",
       "    </tr>\n",
       "    <tr>\n",
       "      <th>1</th>\n",
       "      <td>4.2</td>\n",
       "      <td>Bulbasaur Candy</td>\n",
       "      <td>100.0</td>\n",
       "      <td>Not in Eggs</td>\n",
       "      <td>0.99 m</td>\n",
       "      <td>2</td>\n",
       "      <td>http://www.serebii.net/pokemongo/pokemon/002.png</td>\n",
       "      <td>[1.2, 1.6]</td>\n",
       "      <td>Ivysaur</td>\n",
       "      <td>[{'num': '003', 'name': 'Venusaur'}]</td>\n",
       "      <td>002</td>\n",
       "      <td>[{'num': '001', 'name': 'Bulbasaur'}]</td>\n",
       "      <td>0.042</td>\n",
       "      <td>07:00</td>\n",
       "      <td>[Grass, Poison]</td>\n",
       "      <td>[Fire, Ice, Flying, Psychic]</td>\n",
       "      <td>13.0</td>\n",
       "    </tr>\n",
       "    <tr>\n",
       "      <th>2</th>\n",
       "      <td>1.7</td>\n",
       "      <td>Bulbasaur Candy</td>\n",
       "      <td>NaN</td>\n",
       "      <td>Not in Eggs</td>\n",
       "      <td>2.01 m</td>\n",
       "      <td>3</td>\n",
       "      <td>http://www.serebii.net/pokemongo/pokemon/003.png</td>\n",
       "      <td>None</td>\n",
       "      <td>Venusaur</td>\n",
       "      <td>NaN</td>\n",
       "      <td>003</td>\n",
       "      <td>[{'num': '001', 'name': 'Bulbasaur'}, {'num': ...</td>\n",
       "      <td>0.017</td>\n",
       "      <td>11:30</td>\n",
       "      <td>[Grass, Poison]</td>\n",
       "      <td>[Fire, Ice, Flying, Psychic]</td>\n",
       "      <td>100.0</td>\n",
       "    </tr>\n",
       "    <tr>\n",
       "      <th>3</th>\n",
       "      <td>25.3</td>\n",
       "      <td>Charmander Candy</td>\n",
       "      <td>25.0</td>\n",
       "      <td>2 km</td>\n",
       "      <td>0.61 m</td>\n",
       "      <td>4</td>\n",
       "      <td>http://www.serebii.net/pokemongo/pokemon/004.png</td>\n",
       "      <td>[1.65]</td>\n",
       "      <td>Charmander</td>\n",
       "      <td>[{'num': '005', 'name': 'Charmeleon'}, {'num':...</td>\n",
       "      <td>004</td>\n",
       "      <td>NaN</td>\n",
       "      <td>0.253</td>\n",
       "      <td>08:45</td>\n",
       "      <td>[Fire]</td>\n",
       "      <td>[Water, Ground, Rock]</td>\n",
       "      <td>8.5</td>\n",
       "    </tr>\n",
       "    <tr>\n",
       "      <th>4</th>\n",
       "      <td>1.2</td>\n",
       "      <td>Charmander Candy</td>\n",
       "      <td>100.0</td>\n",
       "      <td>Not in Eggs</td>\n",
       "      <td>1.09 m</td>\n",
       "      <td>5</td>\n",
       "      <td>http://www.serebii.net/pokemongo/pokemon/005.png</td>\n",
       "      <td>[1.79]</td>\n",
       "      <td>Charmeleon</td>\n",
       "      <td>[{'num': '006', 'name': 'Charizard'}]</td>\n",
       "      <td>005</td>\n",
       "      <td>[{'num': '004', 'name': 'Charmander'}]</td>\n",
       "      <td>0.012</td>\n",
       "      <td>19:00</td>\n",
       "      <td>[Fire]</td>\n",
       "      <td>[Water, Ground, Rock]</td>\n",
       "      <td>19.0</td>\n",
       "    </tr>\n",
       "  </tbody>\n",
       "</table>\n",
       "</div>"
      ],
      "text/plain": [
       "   avg_spawns             candy  candy_count          egg  height  id  \\\n",
       "0        69.0   Bulbasaur Candy         25.0         2 km  0.71 m   1   \n",
       "1         4.2   Bulbasaur Candy        100.0  Not in Eggs  0.99 m   2   \n",
       "2         1.7   Bulbasaur Candy          NaN  Not in Eggs  2.01 m   3   \n",
       "3        25.3  Charmander Candy         25.0         2 km  0.61 m   4   \n",
       "4         1.2  Charmander Candy        100.0  Not in Eggs  1.09 m   5   \n",
       "\n",
       "                                                img multipliers        name  \\\n",
       "0  http://www.serebii.net/pokemongo/pokemon/001.png      [1.58]   Bulbasaur   \n",
       "1  http://www.serebii.net/pokemongo/pokemon/002.png  [1.2, 1.6]     Ivysaur   \n",
       "2  http://www.serebii.net/pokemongo/pokemon/003.png        None    Venusaur   \n",
       "3  http://www.serebii.net/pokemongo/pokemon/004.png      [1.65]  Charmander   \n",
       "4  http://www.serebii.net/pokemongo/pokemon/005.png      [1.79]  Charmeleon   \n",
       "\n",
       "                                      next_evolution  num  \\\n",
       "0  [{'num': '002', 'name': 'Ivysaur'}, {'num': '0...  001   \n",
       "1               [{'num': '003', 'name': 'Venusaur'}]  002   \n",
       "2                                                NaN  003   \n",
       "3  [{'num': '005', 'name': 'Charmeleon'}, {'num':...  004   \n",
       "4              [{'num': '006', 'name': 'Charizard'}]  005   \n",
       "\n",
       "                                      prev_evolution  spawn_chance spawn_time  \\\n",
       "0                                                NaN         0.690      20:00   \n",
       "1              [{'num': '001', 'name': 'Bulbasaur'}]         0.042      07:00   \n",
       "2  [{'num': '001', 'name': 'Bulbasaur'}, {'num': ...         0.017      11:30   \n",
       "3                                                NaN         0.253      08:45   \n",
       "4             [{'num': '004', 'name': 'Charmander'}]         0.012      19:00   \n",
       "\n",
       "              type                    weaknesses  weight  \n",
       "0  [Grass, Poison]  [Fire, Ice, Flying, Psychic]     6.9  \n",
       "1  [Grass, Poison]  [Fire, Ice, Flying, Psychic]    13.0  \n",
       "2  [Grass, Poison]  [Fire, Ice, Flying, Psychic]   100.0  \n",
       "3           [Fire]         [Water, Ground, Rock]     8.5  \n",
       "4           [Fire]         [Water, Ground, Rock]    19.0  "
      ]
     },
     "execution_count": 19,
     "metadata": {},
     "output_type": "execute_result"
    }
   ],
   "source": [
    "#I want to get rid of kg in weight and make it a float so I can run stats on it\n",
    "pokemon['weight'] = pokemon['weight'].map(lambda x: x.lstrip().rstrip(' kg'))\n",
    "pokemon['weight'] = pokemon['weight'].convert_objects(convert_numeric=True)\n",
    "pokemon.head()"
   ]
  },
  {
   "cell_type": "code",
   "execution_count": 20,
   "metadata": {},
   "outputs": [
    {
     "data": {
      "text/html": [
       "<div>\n",
       "<style scoped>\n",
       "    .dataframe tbody tr th:only-of-type {\n",
       "        vertical-align: middle;\n",
       "    }\n",
       "\n",
       "    .dataframe tbody tr th {\n",
       "        vertical-align: top;\n",
       "    }\n",
       "\n",
       "    .dataframe thead th {\n",
       "        text-align: right;\n",
       "    }\n",
       "</style>\n",
       "<table border=\"1\" class=\"dataframe\">\n",
       "  <thead>\n",
       "    <tr style=\"text-align: right;\">\n",
       "      <th></th>\n",
       "      <th>avg_spawns</th>\n",
       "      <th>candy_count</th>\n",
       "      <th>id</th>\n",
       "      <th>spawn_chance</th>\n",
       "      <th>weight</th>\n",
       "    </tr>\n",
       "  </thead>\n",
       "  <tbody>\n",
       "    <tr>\n",
       "      <th>count</th>\n",
       "      <td>151.000000</td>\n",
       "      <td>70.000000</td>\n",
       "      <td>151.000000</td>\n",
       "      <td>151.000000</td>\n",
       "      <td>151.000000</td>\n",
       "    </tr>\n",
       "    <tr>\n",
       "      <th>mean</th>\n",
       "      <td>53.992603</td>\n",
       "      <td>57.300000</td>\n",
       "      <td>76.000000</td>\n",
       "      <td>0.731985</td>\n",
       "      <td>45.951656</td>\n",
       "    </tr>\n",
       "    <tr>\n",
       "      <th>std</th>\n",
       "      <td>111.156064</td>\n",
       "      <td>48.897512</td>\n",
       "      <td>43.734045</td>\n",
       "      <td>1.956376</td>\n",
       "      <td>59.447988</td>\n",
       "    </tr>\n",
       "    <tr>\n",
       "      <th>min</th>\n",
       "      <td>0.000000</td>\n",
       "      <td>12.000000</td>\n",
       "      <td>1.000000</td>\n",
       "      <td>0.000000</td>\n",
       "      <td>0.100000</td>\n",
       "    </tr>\n",
       "    <tr>\n",
       "      <th>25%</th>\n",
       "      <td>1.450000</td>\n",
       "      <td>31.250000</td>\n",
       "      <td>38.500000</td>\n",
       "      <td>0.015500</td>\n",
       "      <td>9.900000</td>\n",
       "    </tr>\n",
       "    <tr>\n",
       "      <th>50%</th>\n",
       "      <td>7.200000</td>\n",
       "      <td>50.000000</td>\n",
       "      <td>76.000000</td>\n",
       "      <td>0.074000</td>\n",
       "      <td>30.000000</td>\n",
       "    </tr>\n",
       "    <tr>\n",
       "      <th>75%</th>\n",
       "      <td>55.000000</td>\n",
       "      <td>50.000000</td>\n",
       "      <td>113.500000</td>\n",
       "      <td>0.620000</td>\n",
       "      <td>56.250000</td>\n",
       "    </tr>\n",
       "    <tr>\n",
       "      <th>max</th>\n",
       "      <td>712.000000</td>\n",
       "      <td>400.000000</td>\n",
       "      <td>151.000000</td>\n",
       "      <td>15.980000</td>\n",
       "      <td>460.000000</td>\n",
       "    </tr>\n",
       "  </tbody>\n",
       "</table>\n",
       "</div>"
      ],
      "text/plain": [
       "       avg_spawns  candy_count          id  spawn_chance      weight\n",
       "count  151.000000    70.000000  151.000000    151.000000  151.000000\n",
       "mean    53.992603    57.300000   76.000000      0.731985   45.951656\n",
       "std    111.156064    48.897512   43.734045      1.956376   59.447988\n",
       "min      0.000000    12.000000    1.000000      0.000000    0.100000\n",
       "25%      1.450000    31.250000   38.500000      0.015500    9.900000\n",
       "50%      7.200000    50.000000   76.000000      0.074000   30.000000\n",
       "75%     55.000000    50.000000  113.500000      0.620000   56.250000\n",
       "max    712.000000   400.000000  151.000000     15.980000  460.000000"
      ]
     },
     "execution_count": 20,
     "metadata": {},
     "output_type": "execute_result"
    }
   ],
   "source": [
    "pokemon.describe()"
   ]
  },
  {
   "cell_type": "code",
   "execution_count": 21,
   "metadata": {
    "scrolled": false
   },
   "outputs": [
    {
     "name": "stdout",
     "output_type": "stream",
     "text": [
      "<class 'pandas.core.frame.DataFrame'>\n",
      "RangeIndex: 151 entries, 0 to 150\n",
      "Data columns (total 17 columns):\n",
      "avg_spawns        151 non-null float64\n",
      "candy             151 non-null object\n",
      "candy_count       70 non-null float64\n",
      "egg               151 non-null object\n",
      "height            151 non-null object\n",
      "id                151 non-null int64\n",
      "img               151 non-null object\n",
      "multipliers       70 non-null object\n",
      "name              151 non-null object\n",
      "next_evolution    70 non-null object\n",
      "num               151 non-null object\n",
      "prev_evolution    72 non-null object\n",
      "spawn_chance      151 non-null float64\n",
      "spawn_time        151 non-null object\n",
      "type              151 non-null object\n",
      "weaknesses        151 non-null object\n",
      "weight            151 non-null float64\n",
      "dtypes: float64(4), int64(1), object(12)\n",
      "memory usage: 20.1+ KB\n"
     ]
    }
   ],
   "source": [
    "pokemon.info()"
   ]
  },
  {
   "cell_type": "markdown",
   "metadata": {},
   "source": [
    "## Describe the Data"
   ]
  },
  {
   "cell_type": "markdown",
   "metadata": {},
   "source": [
    "I am going to take a look at some different aspects of this dataset and see if we can determine which Pokemon are the easiest/hardest to find, which types are most common, and more."
   ]
  },
  {
   "cell_type": "code",
   "execution_count": 22,
   "metadata": {},
   "outputs": [
    {
     "data": {
      "text/plain": [
       "[Water]               18\n",
       "[Normal]              16\n",
       "[Fire]                10\n",
       "[Poison]              10\n",
       "[Grass, Poison]        9\n",
       "[Normal, Flying]       8\n",
       "[Electric]             8\n",
       "[Psychic]              8\n",
       "[Fighting]             7\n",
       "[Ground]               6\n",
       "[Bug, Poison]          5\n",
       "[Rock, Ground]         4\n",
       "[Rock, Water]          4\n",
       "[Bug]                  3\n",
       "[Water, Psychic]       3\n",
       "[Ghost, Poison]        3\n",
       "[Water, Ice]           3\n",
       "[Bug, Grass]           2\n",
       "[Water, Poison]        2\n",
       "[Bug, Flying]          2\n",
       "[Grass, Psychic]       2\n",
       "[Poison, Ground]       2\n",
       "[Fire, Flying]         2\n",
       "[Ground, Rock]         2\n",
       "[Poison, Flying]       2\n",
       "[Dragon]               2\n",
       "[Electric, Flying]     1\n",
       "[Ice, Flying]          1\n",
       "[Dragon, Flying]       1\n",
       "[Grass]                1\n",
       "[Rock, Flying]         1\n",
       "[Water, Fighting]      1\n",
       "[Ice, Psychic]         1\n",
       "[Water, Flying]        1\n",
       "Name: type, dtype: int64"
      ]
     },
     "execution_count": 22,
     "metadata": {},
     "output_type": "execute_result"
    }
   ],
   "source": [
    "#Looking at Pokemon type to see which ones are most common and most rare\n",
    "pokemon['type'].value_counts()"
   ]
  },
  {
   "cell_type": "markdown",
   "metadata": {},
   "source": [
    "This is interesting to see. I am a fan of the game but never looked into any of these things. Water is the most common while the hybrids tend to be less common."
   ]
  },
  {
   "cell_type": "code",
   "execution_count": 23,
   "metadata": {
    "scrolled": false
   },
   "outputs": [
    {
     "data": {
      "text/plain": [
       "type\n",
       "['Water', 'Flying']       235.000000\n",
       "['Dragon', 'Flying']      210.000000\n",
       "['Rock', 'Ground']        158.750000\n",
       "['Water', 'Ice']          157.500000\n",
       "['Ground', 'Rock']        117.500000\n",
       "['Fire', 'Flying']         75.250000\n",
       "['Water', 'Psychic']       64.833333\n",
       "['Grass', 'Psychic']       61.250000\n",
       "['Poison', 'Ground']       61.000000\n",
       "['Rock', 'Flying']         59.000000\n",
       "['Normal']                 56.168750\n",
       "['Ice', 'Flying']          55.400000\n",
       "['Fighting']               54.285714\n",
       "['Water', 'Fighting']      54.000000\n",
       "['Electric', 'Flying']     52.600000\n",
       "['Psychic']                51.562500\n",
       "['Water', 'Poison']        50.250000\n",
       "['Bug', 'Flying']          44.000000\n",
       "['Fire']                   42.580000\n",
       "['Ice', 'Psychic']         40.600000\n",
       "['Grass']                  35.000000\n",
       "['Water']                  31.477778\n",
       "['Normal', 'Flying']       31.337500\n",
       "['Poison', 'Flying']       31.250000\n",
       "['Electric']               29.187500\n",
       "['Rock', 'Water']          23.625000\n",
       "['Bug']                    22.600000\n",
       "['Ground']                 21.183333\n",
       "['Grass', 'Poison']        19.822222\n",
       "['Poison']                 19.790000\n",
       "['Bug', 'Grass']           17.450000\n",
       "['Bug', 'Poison']          17.040000\n",
       "['Ghost', 'Poison']        13.566667\n",
       "['Dragon']                  9.900000\n",
       "Name: weight, dtype: float64"
      ]
     },
     "execution_count": 23,
     "metadata": {},
     "output_type": "execute_result"
    }
   ],
   "source": [
    "#Curious to see which types are the heaviest\n",
    "pokemon['type'] = pokemon['type'].astype(str)\n",
    "pokemon.groupby(['type'])['weight'].mean().sort_values(ascending=False)"
   ]
  },
  {
   "cell_type": "markdown",
   "metadata": {},
   "source": [
    "Well, there you go. Water and Dragon Flying types are the heaviest. The one Dragon is the lightest, which is weird because you would think that the ghost hybrids would be the lightest."
   ]
  },
  {
   "cell_type": "code",
   "execution_count": 24,
   "metadata": {},
   "outputs": [
    {
     "data": {
      "text/html": [
       "<div>\n",
       "<style scoped>\n",
       "    .dataframe tbody tr th:only-of-type {\n",
       "        vertical-align: middle;\n",
       "    }\n",
       "\n",
       "    .dataframe tbody tr th {\n",
       "        vertical-align: top;\n",
       "    }\n",
       "\n",
       "    .dataframe thead th {\n",
       "        text-align: right;\n",
       "    }\n",
       "</style>\n",
       "<table border=\"1\" class=\"dataframe\">\n",
       "  <thead>\n",
       "    <tr style=\"text-align: right;\">\n",
       "      <th></th>\n",
       "      <th>name</th>\n",
       "      <th>spawn_chance</th>\n",
       "    </tr>\n",
       "  </thead>\n",
       "  <tbody>\n",
       "    <tr>\n",
       "      <th>15</th>\n",
       "      <td>Pidgey</td>\n",
       "      <td>15.980</td>\n",
       "    </tr>\n",
       "    <tr>\n",
       "      <th>18</th>\n",
       "      <td>Rattata</td>\n",
       "      <td>13.050</td>\n",
       "    </tr>\n",
       "    <tr>\n",
       "      <th>12</th>\n",
       "      <td>Weedle</td>\n",
       "      <td>7.120</td>\n",
       "    </tr>\n",
       "    <tr>\n",
       "      <th>40</th>\n",
       "      <td>Zubat</td>\n",
       "      <td>6.520</td>\n",
       "    </tr>\n",
       "    <tr>\n",
       "      <th>128</th>\n",
       "      <td>Magikarp</td>\n",
       "      <td>4.780</td>\n",
       "    </tr>\n",
       "    <tr>\n",
       "      <th>20</th>\n",
       "      <td>Spearow</td>\n",
       "      <td>4.730</td>\n",
       "    </tr>\n",
       "    <tr>\n",
       "      <th>95</th>\n",
       "      <td>Drowzee</td>\n",
       "      <td>3.210</td>\n",
       "    </tr>\n",
       "    <tr>\n",
       "      <th>9</th>\n",
       "      <td>Caterpie</td>\n",
       "      <td>3.032</td>\n",
       "    </tr>\n",
       "    <tr>\n",
       "      <th>132</th>\n",
       "      <td>Eevee</td>\n",
       "      <td>2.750</td>\n",
       "    </tr>\n",
       "    <tr>\n",
       "      <th>53</th>\n",
       "      <td>Psyduck</td>\n",
       "      <td>2.540</td>\n",
       "    </tr>\n",
       "  </tbody>\n",
       "</table>\n",
       "</div>"
      ],
      "text/plain": [
       "         name  spawn_chance\n",
       "15     Pidgey        15.980\n",
       "18    Rattata        13.050\n",
       "12     Weedle         7.120\n",
       "40      Zubat         6.520\n",
       "128  Magikarp         4.780\n",
       "20    Spearow         4.730\n",
       "95    Drowzee         3.210\n",
       "9    Caterpie         3.032\n",
       "132     Eevee         2.750\n",
       "53    Psyduck         2.540"
      ]
     },
     "execution_count": 24,
     "metadata": {},
     "output_type": "execute_result"
    }
   ],
   "source": [
    "#let's look at the 10 most common pokemon\n",
    "pokeview = pokemon[['name', 'spawn_chance']].copy()\n",
    "pokeview.nlargest(10, 'spawn_chance')"
   ]
  },
  {
   "cell_type": "code",
   "execution_count": 25,
   "metadata": {},
   "outputs": [
    {
     "data": {
      "text/html": [
       "<div>\n",
       "<style scoped>\n",
       "    .dataframe tbody tr th:only-of-type {\n",
       "        vertical-align: middle;\n",
       "    }\n",
       "\n",
       "    .dataframe tbody tr th {\n",
       "        vertical-align: top;\n",
       "    }\n",
       "\n",
       "    .dataframe thead th {\n",
       "        text-align: right;\n",
       "    }\n",
       "</style>\n",
       "<table border=\"1\" class=\"dataframe\">\n",
       "  <thead>\n",
       "    <tr style=\"text-align: right;\">\n",
       "      <th></th>\n",
       "      <th>name</th>\n",
       "      <th>spawn_chance</th>\n",
       "    </tr>\n",
       "  </thead>\n",
       "  <tbody>\n",
       "    <tr>\n",
       "      <th>131</th>\n",
       "      <td>Ditto</td>\n",
       "      <td>0.0000</td>\n",
       "    </tr>\n",
       "    <tr>\n",
       "      <th>143</th>\n",
       "      <td>Articuno</td>\n",
       "      <td>0.0000</td>\n",
       "    </tr>\n",
       "    <tr>\n",
       "      <th>144</th>\n",
       "      <td>Zapdos</td>\n",
       "      <td>0.0000</td>\n",
       "    </tr>\n",
       "    <tr>\n",
       "      <th>145</th>\n",
       "      <td>Moltres</td>\n",
       "      <td>0.0000</td>\n",
       "    </tr>\n",
       "    <tr>\n",
       "      <th>149</th>\n",
       "      <td>Mewtwo</td>\n",
       "      <td>0.0000</td>\n",
       "    </tr>\n",
       "    <tr>\n",
       "      <th>150</th>\n",
       "      <td>Mew</td>\n",
       "      <td>0.0000</td>\n",
       "    </tr>\n",
       "    <tr>\n",
       "      <th>148</th>\n",
       "      <td>Dragonite</td>\n",
       "      <td>0.0011</td>\n",
       "    </tr>\n",
       "    <tr>\n",
       "      <th>5</th>\n",
       "      <td>Charizard</td>\n",
       "      <td>0.0031</td>\n",
       "    </tr>\n",
       "    <tr>\n",
       "      <th>88</th>\n",
       "      <td>Muk</td>\n",
       "      <td>0.0031</td>\n",
       "    </tr>\n",
       "    <tr>\n",
       "      <th>121</th>\n",
       "      <td>Mr. Mime</td>\n",
       "      <td>0.0031</td>\n",
       "    </tr>\n",
       "  </tbody>\n",
       "</table>\n",
       "</div>"
      ],
      "text/plain": [
       "          name  spawn_chance\n",
       "131      Ditto        0.0000\n",
       "143   Articuno        0.0000\n",
       "144     Zapdos        0.0000\n",
       "145    Moltres        0.0000\n",
       "149     Mewtwo        0.0000\n",
       "150        Mew        0.0000\n",
       "148  Dragonite        0.0011\n",
       "5    Charizard        0.0031\n",
       "88         Muk        0.0031\n",
       "121   Mr. Mime        0.0031"
      ]
     },
     "execution_count": 25,
     "metadata": {},
     "output_type": "execute_result"
    }
   ],
   "source": [
    "#now let's see the most rare\n",
    "pokeview.nsmallest(10, 'spawn_chance')"
   ]
  },
  {
   "cell_type": "code",
   "execution_count": 26,
   "metadata": {},
   "outputs": [
    {
     "data": {
      "text/html": [
       "<div>\n",
       "<style scoped>\n",
       "    .dataframe tbody tr th:only-of-type {\n",
       "        vertical-align: middle;\n",
       "    }\n",
       "\n",
       "    .dataframe tbody tr th {\n",
       "        vertical-align: top;\n",
       "    }\n",
       "\n",
       "    .dataframe thead th {\n",
       "        text-align: right;\n",
       "    }\n",
       "</style>\n",
       "<table border=\"1\" class=\"dataframe\">\n",
       "  <thead>\n",
       "    <tr style=\"text-align: right;\">\n",
       "      <th></th>\n",
       "      <th>name</th>\n",
       "      <th>spawn_chance</th>\n",
       "    </tr>\n",
       "  </thead>\n",
       "  <tbody>\n",
       "    <tr>\n",
       "      <th>148</th>\n",
       "      <td>Dragonite</td>\n",
       "      <td>0.0011</td>\n",
       "    </tr>\n",
       "    <tr>\n",
       "      <th>5</th>\n",
       "      <td>Charizard</td>\n",
       "      <td>0.0031</td>\n",
       "    </tr>\n",
       "    <tr>\n",
       "      <th>88</th>\n",
       "      <td>Muk</td>\n",
       "      <td>0.0031</td>\n",
       "    </tr>\n",
       "    <tr>\n",
       "      <th>121</th>\n",
       "      <td>Mr. Mime</td>\n",
       "      <td>0.0031</td>\n",
       "    </tr>\n",
       "    <tr>\n",
       "      <th>129</th>\n",
       "      <td>Gyarados</td>\n",
       "      <td>0.0032</td>\n",
       "    </tr>\n",
       "    <tr>\n",
       "      <th>140</th>\n",
       "      <td>Kabutops</td>\n",
       "      <td>0.0032</td>\n",
       "    </tr>\n",
       "    <tr>\n",
       "      <th>75</th>\n",
       "      <td>Golem</td>\n",
       "      <td>0.0047</td>\n",
       "    </tr>\n",
       "    <tr>\n",
       "      <th>70</th>\n",
       "      <td>Victreebel</td>\n",
       "      <td>0.0059</td>\n",
       "    </tr>\n",
       "    <tr>\n",
       "      <th>130</th>\n",
       "      <td>Lapras</td>\n",
       "      <td>0.0060</td>\n",
       "    </tr>\n",
       "    <tr>\n",
       "      <th>138</th>\n",
       "      <td>Omastar</td>\n",
       "      <td>0.0061</td>\n",
       "    </tr>\n",
       "  </tbody>\n",
       "</table>\n",
       "</div>"
      ],
      "text/plain": [
       "           name  spawn_chance\n",
       "148   Dragonite        0.0011\n",
       "5     Charizard        0.0031\n",
       "88          Muk        0.0031\n",
       "121    Mr. Mime        0.0031\n",
       "129    Gyarados        0.0032\n",
       "140    Kabutops        0.0032\n",
       "75        Golem        0.0047\n",
       "70   Victreebel        0.0059\n",
       "130      Lapras        0.0060\n",
       "138     Omastar        0.0061"
      ]
     },
     "execution_count": 26,
     "metadata": {},
     "output_type": "execute_result"
    }
   ],
   "source": [
    "#let's drop the 6 pokemon that don't spawn in the wild and then take a look at the 10 most rare\n",
    "pokeview.drop(pokeview.index[[131, 143, 144, 145, 149, 150]]).nsmallest(10, 'spawn_chance')"
   ]
  },
  {
   "cell_type": "markdown",
   "metadata": {},
   "source": [
    "## Visualize the Data"
   ]
  },
  {
   "cell_type": "markdown",
   "metadata": {},
   "source": [
    "I am going to take a closer look at some of the data and see if I can't find a good visualization to better understand it."
   ]
  },
  {
   "cell_type": "markdown",
   "metadata": {},
   "source": [
    "Let's see the distribution of unique pokemon among the different types."
   ]
  },
  {
   "cell_type": "code",
   "execution_count": 27,
   "metadata": {
    "scrolled": false
   },
   "outputs": [
    {
     "data": {
      "image/png": "[encoded data removed]",
      "text/plain": [
       "<Figure size 1080x720 with 1 Axes>"
      ]
     },
     "metadata": {},
     "output_type": "display_data"
    }
   ],
   "source": [
    "fig, ax = plt.subplots(figsize=(15, 10))\n",
    "plot = sns.countplot(y=\"type\", data=pokemon)\n",
    "plot.set_title('Pokemon in Each Type')\n",
    "plt.show()"
   ]
  },
  {
   "cell_type": "markdown",
   "metadata": {},
   "source": [
    "Before people get set on catching them all and setting the lifelong goal of evolving all their pokemon, they should know how many pokemon fall into the different amounts of candy required for each evolution."
   ]
  },
  {
   "cell_type": "code",
   "execution_count": 28,
   "metadata": {},
   "outputs": [
    {
     "data": {
      "image/png": "[encoded data removed]",
      "text/plain": [
       "<Figure size 720x432 with 1 Axes>"
      ]
     },
     "metadata": {},
     "output_type": "display_data"
    }
   ],
   "source": [
    "fig, ax = plt.subplots(figsize=(10, 6))\n",
    "plot = sns.countplot(x='candy_count', data=pokemon)\n",
    "plot.set_title('Number of Pokemon in each Candy Evolution Bracket')\n",
    "plt.show()"
   ]
  },
  {
   "cell_type": "markdown",
   "metadata": {},
   "source": [
    "Lastly, I'd like to see which pokemon types would be most likely to be seen on average."
   ]
  },
  {
   "cell_type": "code",
   "execution_count": 29,
   "metadata": {},
   "outputs": [
    {
     "data": {
      "text/plain": [
       "<matplotlib.axes._subplots.AxesSubplot at 0x1a1f100ef0>"
      ]
     },
     "execution_count": 29,
     "metadata": {},
     "output_type": "execute_result"
    },
    {
     "data": {
      "image/png": "[encoded data removed]",
      "text/plain": [
       "<Figure size 1080x720 with 1 Axes>"
      ]
     },
     "metadata": {},
     "output_type": "display_data"
    }
   ],
   "source": [
    "fig, ax = plt.subplots(figsize=(15, 10))\n",
    "pokemon.groupby(['type'])['spawn_chance'].mean().plot.bar()"
   ]
  },
  {
   "cell_type": "markdown",
   "metadata": {},
   "source": [
    "Now you will have a good idea of what you will run into and how long it will take you to catch 'em all as you embark on your PokemonGO journey. To be honest, if you haven't started your journey by this point then you might as well not even try because this data is only for the first gen, they are several gens into the game now. "
   ]
  },
  {
   "cell_type": "markdown",
   "metadata": {},
   "source": [
    "# Crime in Sacramento\n",
    "## .xls"
   ]
  },
  {
   "cell_type": "markdown",
   "metadata": {},
   "source": [
    "I am now going to take a look at some data on crime in Sacramento from 2006. This data was originally found here: https://support.spatialkey.com/spatialkey-sample-csv-data/"
   ]
  },
  {
   "cell_type": "markdown",
   "metadata": {},
   "source": [
    "## Cleaning the Data"
   ]
  },
  {
   "cell_type": "code",
   "execution_count": 30,
   "metadata": {},
   "outputs": [
    {
     "data": {
      "text/html": [
       "<div>\n",
       "<style scoped>\n",
       "    .dataframe tbody tr th:only-of-type {\n",
       "        vertical-align: middle;\n",
       "    }\n",
       "\n",
       "    .dataframe tbody tr th {\n",
       "        vertical-align: top;\n",
       "    }\n",
       "\n",
       "    .dataframe thead th {\n",
       "        text-align: right;\n",
       "    }\n",
       "</style>\n",
       "<table border=\"1\" class=\"dataframe\">\n",
       "  <thead>\n",
       "    <tr style=\"text-align: right;\">\n",
       "      <th></th>\n",
       "      <th>cdatetime</th>\n",
       "      <th>address</th>\n",
       "      <th>district</th>\n",
       "      <th>beat</th>\n",
       "      <th>grid</th>\n",
       "      <th>crimedescr</th>\n",
       "      <th>ucr_ncic_code</th>\n",
       "      <th>latitude</th>\n",
       "      <th>longitude</th>\n",
       "    </tr>\n",
       "  </thead>\n",
       "  <tbody>\n",
       "    <tr>\n",
       "      <th>0</th>\n",
       "      <td>2006-01-01</td>\n",
       "      <td>3108 OCCIDENTAL DR</td>\n",
       "      <td>3</td>\n",
       "      <td>3C</td>\n",
       "      <td>1115</td>\n",
       "      <td>10851(A)VC TAKE VEH W/O OWNER</td>\n",
       "      <td>2404</td>\n",
       "      <td>38.550420</td>\n",
       "      <td>-121.391416</td>\n",
       "    </tr>\n",
       "    <tr>\n",
       "      <th>1</th>\n",
       "      <td>2006-01-01</td>\n",
       "      <td>2082 EXPEDITION WAY</td>\n",
       "      <td>5</td>\n",
       "      <td>5A</td>\n",
       "      <td>1512</td>\n",
       "      <td>459 PC  BURGLARY RESIDENCE</td>\n",
       "      <td>2204</td>\n",
       "      <td>38.473501</td>\n",
       "      <td>-121.490186</td>\n",
       "    </tr>\n",
       "    <tr>\n",
       "      <th>2</th>\n",
       "      <td>2006-01-01</td>\n",
       "      <td>4 PALEN CT</td>\n",
       "      <td>2</td>\n",
       "      <td>2A</td>\n",
       "      <td>212</td>\n",
       "      <td>10851(A)VC TAKE VEH W/O OWNER</td>\n",
       "      <td>2404</td>\n",
       "      <td>38.657846</td>\n",
       "      <td>-121.462101</td>\n",
       "    </tr>\n",
       "    <tr>\n",
       "      <th>3</th>\n",
       "      <td>2006-01-01</td>\n",
       "      <td>22 BECKFORD CT</td>\n",
       "      <td>6</td>\n",
       "      <td>6C</td>\n",
       "      <td>1443</td>\n",
       "      <td>476 PC PASS FICTICIOUS CHECK</td>\n",
       "      <td>2501</td>\n",
       "      <td>38.506774</td>\n",
       "      <td>-121.426951</td>\n",
       "    </tr>\n",
       "    <tr>\n",
       "      <th>4</th>\n",
       "      <td>2006-01-01</td>\n",
       "      <td>3421 AUBURN BLVD</td>\n",
       "      <td>2</td>\n",
       "      <td>2A</td>\n",
       "      <td>508</td>\n",
       "      <td>459 PC  BURGLARY-UNSPECIFIED</td>\n",
       "      <td>2299</td>\n",
       "      <td>38.637448</td>\n",
       "      <td>-121.384613</td>\n",
       "    </tr>\n",
       "  </tbody>\n",
       "</table>\n",
       "</div>"
      ],
      "text/plain": [
       "   cdatetime              address  district        beat  grid  \\\n",
       "0 2006-01-01   3108 OCCIDENTAL DR         3  3C          1115   \n",
       "1 2006-01-01  2082 EXPEDITION WAY         5  5A          1512   \n",
       "2 2006-01-01           4 PALEN CT         2  2A           212   \n",
       "3 2006-01-01       22 BECKFORD CT         6  6C          1443   \n",
       "4 2006-01-01     3421 AUBURN BLVD         2  2A           508   \n",
       "\n",
       "                      crimedescr  ucr_ncic_code   latitude   longitude  \n",
       "0  10851(A)VC TAKE VEH W/O OWNER           2404  38.550420 -121.391416  \n",
       "1     459 PC  BURGLARY RESIDENCE           2204  38.473501 -121.490186  \n",
       "2  10851(A)VC TAKE VEH W/O OWNER           2404  38.657846 -121.462101  \n",
       "3   476 PC PASS FICTICIOUS CHECK           2501  38.506774 -121.426951  \n",
       "4   459 PC  BURGLARY-UNSPECIFIED           2299  38.637448 -121.384613  "
      ]
     },
     "execution_count": 30,
     "metadata": {},
     "output_type": "execute_result"
    }
   ],
   "source": [
    "sa_crime = pd.read_excel(\"file:///Users/Codis_Joben/Documents/Pythondocs/SacramentocrimeJanuary2006.xls\", \n",
    "                       header=0, names=None)\n",
    "sa_crime.head()"
   ]
  },
  {
   "cell_type": "code",
   "execution_count": 31,
   "metadata": {},
   "outputs": [
    {
     "name": "stdout",
     "output_type": "stream",
     "text": [
      "          district         grid  ucr_ncic_code     latitude    longitude\n",
      "count  7584.000000  7584.000000    7584.000000  7584.000000  7584.000000\n",
      "mean      3.574631   916.250791    4275.068829    38.559809  -121.463832\n",
      "std       1.642512   407.436310    2171.593193     0.056101     0.034621\n",
      "min       1.000000   102.000000     909.000000    38.437999  -121.555832\n",
      "25%       2.000000   567.000000    2309.000000    38.518476  -121.489543\n",
      "50%       3.000000   899.000000    3532.000000    38.559523  -121.465459\n",
      "75%       5.000000  1264.000000    7000.000000    38.610361  -121.435947\n",
      "max       6.000000  1661.000000    8102.000000    38.683789  -121.365238\n"
     ]
    }
   ],
   "source": [
    "#Let's see what we have in the data\n",
    "print(sa_crime.describe())"
   ]
  },
  {
   "cell_type": "code",
   "execution_count": 32,
   "metadata": {
    "scrolled": true
   },
   "outputs": [
    {
     "name": "stdout",
     "output_type": "stream",
     "text": [
      "<class 'pandas.core.frame.DataFrame'>\n",
      "RangeIndex: 7584 entries, 0 to 7583\n",
      "Data columns (total 9 columns):\n",
      "cdatetime        7584 non-null datetime64[ns]\n",
      "address          7584 non-null object\n",
      "district         7584 non-null int64\n",
      "beat             7584 non-null object\n",
      "grid             7584 non-null int64\n",
      "crimedescr       7584 non-null object\n",
      "ucr_ncic_code    7584 non-null int64\n",
      "latitude         7584 non-null float64\n",
      "longitude        7584 non-null float64\n",
      "dtypes: datetime64[ns](1), float64(2), int64(3), object(3)\n",
      "memory usage: 533.3+ KB\n"
     ]
    }
   ],
   "source": [
    "#I want to see what kind of data we are working with\n",
    "sa_crime.info()"
   ]
  },
  {
   "cell_type": "code",
   "execution_count": 33,
   "metadata": {},
   "outputs": [],
   "source": [
    "#I want to drop the time on cdatetime to simplify my visualtion\n",
    "sa_crime['cdatetime'] = sa_crime['cdatetime'].apply( lambda x: x.date() )"
   ]
  },
  {
   "cell_type": "code",
   "execution_count": 34,
   "metadata": {},
   "outputs": [
    {
     "data": {
      "text/plain": [
       "longitude        0\n",
       "latitude         0\n",
       "ucr_ncic_code    0\n",
       "crimedescr       0\n",
       "grid             0\n",
       "beat             0\n",
       "district         0\n",
       "address          0\n",
       "cdatetime        0\n",
       "dtype: int64"
      ]
     },
     "execution_count": 34,
     "metadata": {},
     "output_type": "execute_result"
    }
   ],
   "source": [
    "#Let's check the data and see if there are any null values in the columns\n",
    "sa_crime.isna().sum().sort_values(ascending=False)"
   ]
  },
  {
   "cell_type": "markdown",
   "metadata": {},
   "source": [
    "There aren't any null values, this data looks pretty clean as is."
   ]
  },
  {
   "cell_type": "markdown",
   "metadata": {},
   "source": [
    "## Describe the Data"
   ]
  },
  {
   "cell_type": "markdown",
   "metadata": {},
   "source": [
    "This data shows us the crime reported in January 2006 in Sacramento. The data shows which day the crime happened, the area, and what crime was committed. I am going to take a closer to look to see what kind of diversity in location and types of crime this data shows to figure out how best to visualize the data in a useful way."
   ]
  },
  {
   "cell_type": "code",
   "execution_count": 35,
   "metadata": {},
   "outputs": [
    {
     "data": {
      "text/plain": [
       "cdatetime          31\n",
       "address          5492\n",
       "district            6\n",
       "beat               20\n",
       "grid              539\n",
       "crimedescr        304\n",
       "ucr_ncic_code      88\n",
       "latitude         5296\n",
       "longitude        5280\n",
       "dtype: int64"
      ]
     },
     "execution_count": 35,
     "metadata": {},
     "output_type": "execute_result"
    }
   ],
   "source": [
    "#I want to count the different unique values in some of the columns\n",
    "sa_crime.nunique()"
   ]
  },
  {
   "cell_type": "code",
   "execution_count": 36,
   "metadata": {},
   "outputs": [
    {
     "name": "stdout",
     "output_type": "stream",
     "text": [
      "Average amount of crimes per day:  244\n",
      "\n",
      " cdatetime\n",
      "2006-01-01    250\n",
      "2006-01-02    145\n",
      "2006-01-03    256\n",
      "2006-01-04    257\n",
      "2006-01-05    268\n",
      "2006-01-06    233\n",
      "2006-01-07    242\n",
      "2006-01-08    182\n",
      "2006-01-09    261\n",
      "2006-01-10    244\n",
      "2006-01-11    311\n",
      "2006-01-12    265\n",
      "2006-01-13    272\n",
      "2006-01-14    207\n",
      "2006-01-15    214\n",
      "2006-01-16    199\n",
      "2006-01-17    282\n",
      "2006-01-18    295\n",
      "2006-01-19    266\n",
      "2006-01-20    274\n",
      "2006-01-21    213\n",
      "2006-01-22    204\n",
      "2006-01-23    241\n",
      "2006-01-24    277\n",
      "2006-01-25    249\n",
      "2006-01-26    254\n",
      "2006-01-27    279\n",
      "2006-01-28    251\n",
      "2006-01-29    182\n",
      "2006-01-30    266\n",
      "2006-01-31    245\n",
      "Name: crimedescr, dtype: int64\n"
     ]
    }
   ],
   "source": [
    "#I'll make a graph of this, but let's see how much crime has been comitted on each day of the month, \n",
    "#and the average amount of crime per month\n",
    "print(\"Average amount of crimes per day: \", sa_crime['crimedescr'].count() // sa_crime['cdatetime'].nunique())\n",
    "print('\\n', sa_crime.groupby('cdatetime')['crimedescr'].count())"
   ]
  },
  {
   "cell_type": "markdown",
   "metadata": {},
   "source": [
    "I will continue to describe the data as I move into the visualization portion of this data set."
   ]
  },
  {
   "cell_type": "markdown",
   "metadata": {},
   "source": [
    "## Visualize the Data"
   ]
  },
  {
   "cell_type": "code",
   "execution_count": 37,
   "metadata": {},
   "outputs": [
    {
     "data": {
      "text/plain": [
       "<matplotlib.axes._subplots.AxesSubplot at 0x1a1e5e5080>"
      ]
     },
     "execution_count": 37,
     "metadata": {},
     "output_type": "execute_result"
    },
    {
     "data": {
      "image/png": "[encoded data removed]",
      "text/plain": [
       "<Figure size 864x576 with 1 Axes>"
      ]
     },
     "metadata": {},
     "output_type": "display_data"
    }
   ],
   "source": [
    "#Let's take a look at the pattern of crime throughout the month\n",
    "fig, ax = plt.subplots(figsize=(12, 8))\n",
    "sa_crime.groupby('cdatetime')['crimedescr'].count().plot(legend=True)"
   ]
  },
  {
   "cell_type": "markdown",
   "metadata": {},
   "source": [
    "It is interesting how it is a very consistent wave. It makes me wonder if the crimes are reported real time or if they are reported whenever the law enforcement gets a chance to do the paperwork. There doesn't seem to be any data suggesting that certain times of the month have significantly more crimes than other times. "
   ]
  },
  {
   "cell_type": "code",
   "execution_count": 38,
   "metadata": {},
   "outputs": [
    {
     "data": {
      "image/png": "[encoded data removed]",
      "text/plain": [
       "<Figure size 864x576 with 1 Axes>"
      ]
     },
     "metadata": {},
     "output_type": "display_data"
    }
   ],
   "source": [
    "#I am going to visualize the amount of crime in each district\n",
    "fig, ax = plt.subplots(figsize=(12, 8))\n",
    "plot = sa_crime.groupby('district')['crimedescr'].count().plot.bar(legend=True)"
   ]
  },
  {
   "cell_type": "markdown",
   "metadata": {},
   "source": [
    "District 3 has the most crime, followed closely by 2. "
   ]
  },
  {
   "cell_type": "code",
   "execution_count": 39,
   "metadata": {},
   "outputs": [
    {
     "data": {
      "image/png": "[encoded data removed]",
      "text/plain": [
       "<Figure size 864x576 with 1 Axes>"
      ]
     },
     "metadata": {},
     "output_type": "display_data"
    }
   ],
   "source": [
    "#Now I want to see it by beat\n",
    "fig, ax = plt.subplots(figsize=(12, 8))\n",
    "plot = sa_crime.groupby('beat')['crimedescr'].count().plot.bar(legend=True)"
   ]
  },
  {
   "cell_type": "markdown",
   "metadata": {},
   "source": [
    "2B, 2C, and 3C have the most crimes. Interestingly enough, each of the beats of district 2 have more than any other district, but district 3 has the most crime overall but that is due to the additonal beat within that district. "
   ]
  },
  {
   "cell_type": "markdown",
   "metadata": {},
   "source": [
    "Looking at this information would have given propsective home buyers in Sacramento a good idea of where they should and shouldn't look. Honestly, it looks like anywhere in Sacramento has a lot of crime, but some areas are worse than others. "
   ]
  }
 ],
 "metadata": {
  "kernelspec": {
   "display_name": "Python 3",
   "language": "python",
   "name": "python3"
  },
  "language_info": {
   "codemirror_mode": {
    "name": "ipython",
    "version": 3
   },
   "file_extension": ".py",
   "mimetype": "text/x-python",
   "name": "python",
   "nbconvert_exporter": "python",
   "pygments_lexer": "ipython3",
   "version": "3.7.1"
  }
 },
 "nbformat": 4,
 "nbformat_minor": 2
}
